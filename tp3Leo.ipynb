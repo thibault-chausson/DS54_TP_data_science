{
 "cells": [
  {
   "cell_type": "code",
   "execution_count": null,
   "metadata": {},
   "outputs": [],
   "source": [
    "import pandas as pd\n",
    "\n",
    "# Create dataset\n",
    "weather = {\n",
    "    'weather': ['sunny', 'sunny', 'overcast', 'rainy', 'rainy', 'rainy', 'overcast', 'sunny', 'sunny', 'rainy', 'sunny', 'overcast', 'overcast', 'rainy'],\n",
    "    'temp': ['hot', 'hot', 'hot', 'mild', 'cool', 'cool', 'cool', 'mild', 'cool', 'mild', 'mild', 'mild', 'hot', 'mild'],\n",
    "    'play': ['no', 'no', 'yes', 'yes', 'yes', 'no', 'yes', 'no', 'yes', 'yes', 'yes', 'yes', 'yes', 'no']\n",
    "}\n",
    "\n",
    "weather_df = pd.DataFrame(weather)\n",
    "\n",
    "display(weather_df)"
   ]
  },
  {
   "cell_type": "code",
   "execution_count": null,
   "metadata": {},
   "outputs": [],
   "source": [
    "from sklearn import preprocessing\n",
    "\n",
    "# Create label encoder\n",
    "le = preprocessing.LabelEncoder()\n",
    "\n",
    "# Convert string labels into numbers.\n",
    "weather_df['weather'] = le.fit_transform(weather_df['weather'])\n",
    "weather_df['temp'] = le.fit_transform(weather_df['temp'])\n",
    "weather_df['play'] = le.fit_transform(weather_df['play'])\n",
    "\n",
    "display(weather_df)\n"
   ]
  },
  {
   "cell_type": "code",
   "execution_count": null,
   "metadata": {},
   "outputs": [],
   "source": [
    "features = weather_df[['weather', 'temp']]\n",
    "target = weather_df['play']\n",
    "\n",
    "from sklearn.naive_bayes import CategoricalNB\n",
    "\n",
    "model = CategoricalNB()\n",
    "\n",
    "model.fit(features, target)"
   ]
  },
  {
   "cell_type": "code",
   "execution_count": null,
   "metadata": {},
   "outputs": [],
   "source": [
    "print(model.predict([[0, 2]]))"
   ]
  },
  {
   "attachments": {},
   "cell_type": "markdown",
   "metadata": {},
   "source": [
    "# Exercice 1"
   ]
  },
  {
   "cell_type": "code",
   "execution_count": null,
   "metadata": {},
   "outputs": [],
   "source": [
    "blood = pd.read_csv('blood_transfusion.csv', sep=\",\")\n",
    "\n",
    "display(blood.head())"
   ]
  },
  {
   "cell_type": "code",
   "execution_count": null,
   "metadata": {},
   "outputs": [],
   "source": [
    "le = preprocessing.LabelEncoder()\n",
    "\n",
    "blood[\"Class\"] = le.fit_transform(blood[\"Class\"])"
   ]
  },
  {
   "cell_type": "code",
   "execution_count": null,
   "metadata": {},
   "outputs": [],
   "source": [
    "import seaborn as sns\n",
    "\n",
    "def get_n_colors(n):\n",
    "    s = sns.color_palette(n_colors=n)\n",
    "    return s.as_hex()\n",
    "\n",
    "\n",
    "def plot_feature_matrix(target, df):\n",
    "    color = pd.Series([i for i in target])\n",
    "    for c, p in zip(get_n_colors(len(set(target))), set(target)):\n",
    "        color = color.replace(p, c)\n",
    "    pd.plotting.scatter_matrix(df, color=color, figsize=(15, 15), marker='o', hist_kwds={'bins': 20}, s=60)\n",
    "\n",
    "plot_feature_matrix(blood[\"Class\"], blood.drop(\"Class\", axis=1))\n"
   ]
  },
  {
   "cell_type": "code",
   "execution_count": null,
   "metadata": {},
   "outputs": [],
   "source": [
    "from sklearn.naive_bayes import CategoricalNB\n",
    "\n",
    "model = CategoricalNB()\n",
    "\n",
    "_ = model.fit(blood.drop(\"Class\", axis=1), blood[\"Class\"])"
   ]
  },
  {
   "cell_type": "code",
   "execution_count": null,
   "metadata": {},
   "outputs": [],
   "source": [
    "print(list(blood.columns))\n",
    "print(\"prediction pour [0, 50, 1000, 28]:\", model.predict([[0, 50, 1000, 28]]))\n",
    "print(\"prediction pour [4, 10, 4000, 64]:\", model.predict([[4, 10, 4000, 64]]))"
   ]
  },
  {
   "attachments": {},
   "cell_type": "markdown",
   "metadata": {},
   "source": [
    "# Exercice 2"
   ]
  },
  {
   "cell_type": "code",
   "execution_count": 57,
   "metadata": {},
   "outputs": [
    {
     "data": {
      "text/html": [
       "<div>\n",
       "<style scoped>\n",
       "    .dataframe tbody tr th:only-of-type {\n",
       "        vertical-align: middle;\n",
       "    }\n",
       "\n",
       "    .dataframe tbody tr th {\n",
       "        vertical-align: top;\n",
       "    }\n",
       "\n",
       "    .dataframe thead th {\n",
       "        text-align: right;\n",
       "    }\n",
       "</style>\n",
       "<table border=\"1\" class=\"dataframe\">\n",
       "  <thead>\n",
       "    <tr style=\"text-align: right;\">\n",
       "      <th></th>\n",
       "      <th>gender</th>\n",
       "      <th>race/ethnicity</th>\n",
       "      <th>parental level of education</th>\n",
       "      <th>lunch</th>\n",
       "      <th>test preparation course</th>\n",
       "      <th>math score</th>\n",
       "      <th>reading score</th>\n",
       "      <th>writing score</th>\n",
       "    </tr>\n",
       "  </thead>\n",
       "  <tbody>\n",
       "    <tr>\n",
       "      <th>0</th>\n",
       "      <td>female</td>\n",
       "      <td>group B</td>\n",
       "      <td>bachelor's degree</td>\n",
       "      <td>standard</td>\n",
       "      <td>none</td>\n",
       "      <td>72</td>\n",
       "      <td>72</td>\n",
       "      <td>74</td>\n",
       "    </tr>\n",
       "    <tr>\n",
       "      <th>1</th>\n",
       "      <td>female</td>\n",
       "      <td>group C</td>\n",
       "      <td>some college</td>\n",
       "      <td>standard</td>\n",
       "      <td>completed</td>\n",
       "      <td>69</td>\n",
       "      <td>90</td>\n",
       "      <td>88</td>\n",
       "    </tr>\n",
       "    <tr>\n",
       "      <th>2</th>\n",
       "      <td>female</td>\n",
       "      <td>group B</td>\n",
       "      <td>master's degree</td>\n",
       "      <td>standard</td>\n",
       "      <td>none</td>\n",
       "      <td>90</td>\n",
       "      <td>95</td>\n",
       "      <td>93</td>\n",
       "    </tr>\n",
       "    <tr>\n",
       "      <th>3</th>\n",
       "      <td>male</td>\n",
       "      <td>group A</td>\n",
       "      <td>associate's degree</td>\n",
       "      <td>free/reduced</td>\n",
       "      <td>none</td>\n",
       "      <td>47</td>\n",
       "      <td>57</td>\n",
       "      <td>44</td>\n",
       "    </tr>\n",
       "    <tr>\n",
       "      <th>4</th>\n",
       "      <td>male</td>\n",
       "      <td>group C</td>\n",
       "      <td>some college</td>\n",
       "      <td>standard</td>\n",
       "      <td>none</td>\n",
       "      <td>76</td>\n",
       "      <td>78</td>\n",
       "      <td>75</td>\n",
       "    </tr>\n",
       "  </tbody>\n",
       "</table>\n",
       "</div>"
      ],
      "text/plain": [
       "   gender race/ethnicity parental level of education         lunch  \\\n",
       "0  female        group B           bachelor's degree      standard   \n",
       "1  female        group C                some college      standard   \n",
       "2  female        group B             master's degree      standard   \n",
       "3    male        group A          associate's degree  free/reduced   \n",
       "4    male        group C                some college      standard   \n",
       "\n",
       "  test preparation course  math score  reading score  writing score  \n",
       "0                    none          72             72             74  \n",
       "1               completed          69             90             88  \n",
       "2                    none          90             95             93  \n",
       "3                    none          47             57             44  \n",
       "4                    none          76             78             75  "
      ]
     },
     "metadata": {},
     "output_type": "display_data"
    }
   ],
   "source": [
    "student = pd.read_csv('StudentsPerformance.csv', sep=\",\")\n",
    "\n",
    "display(student.head())"
   ]
  },
  {
   "cell_type": "code",
   "execution_count": 66,
   "metadata": {},
   "outputs": [],
   "source": [
    "student[\"mean\"] = (student[\"math score\"] + student[\"reading score\"] + student[\"writing score\"]) / 3\n",
    "student[\"mean\"] = list(map(float, student[\"mean\"]))"
   ]
  },
  {
   "cell_type": "code",
   "execution_count": 52,
   "metadata": {},
   "outputs": [
    {
     "data": {
      "text/plain": [
       "<AxesSubplot:xlabel='parental level of education'>"
      ]
     },
     "execution_count": 52,
     "metadata": {},
     "output_type": "execute_result"
    },
    {
     "data": {
      "image/png": "[encoded data removed]",
      "text/plain": [
       "<Figure size 432x288 with 1 Axes>"
      ]
     },
     "metadata": {
      "needs_background": "light"
     },
     "output_type": "display_data"
    }
   ],
   "source": [
    "# plot bar diagram of the parental level of education and the mean of the students\n",
    "student.groupby(\"parental level of education\")[\"reading score\"].mean().plot.bar()\n"
   ]
  },
  {
   "cell_type": "code",
   "execution_count": 53,
   "metadata": {},
   "outputs": [
    {
     "data": {
      "text/plain": [
       "<AxesSubplot:xlabel='test preparation course'>"
      ]
     },
     "execution_count": 53,
     "metadata": {},
     "output_type": "execute_result"
    },
    {
     "data": {
      "image/png": "[encoded data removed]",
      "text/plain": [
       "<Figure size 432x288 with 1 Axes>"
      ]
     },
     "metadata": {
      "needs_background": "light"
     },
     "output_type": "display_data"
    }
   ],
   "source": [
    "student.groupby(\"test preparation course\")[\"mean\"].mean().plot.bar()"
   ]
  },
  {
   "cell_type": "code",
   "execution_count": 54,
   "metadata": {},
   "outputs": [
    {
     "data": {
      "image/png": "[encoded data removed]",
      "text/plain": [
       "<Figure size 432x288 with 1 Axes>"
      ]
     },
     "metadata": {},
     "output_type": "display_data"
    }
   ],
   "source": [
    "# pie chart of the race/ethnicity of the students\n",
    "import matplotlib.pyplot as plt\n",
    "\n",
    "dic = student[\"race/ethnicity\"].value_counts().to_dict()\n",
    "plt.pie(dic.values(), labels=dic.keys(), autopct='%1.1f%%')\n",
    "plt.show()"
   ]
  },
  {
   "cell_type": "code",
   "execution_count": 59,
   "metadata": {},
   "outputs": [],
   "source": [
    "le = preprocessing.LabelEncoder()\n",
    "for i in [\"gender\", \"race/ethnicity\", \"parental level of education\", \"lunch\", \"test preparation course\"]:\n",
    "    student[i] = le.fit_transform(student[i])"
   ]
  },
  {
   "cell_type": "code",
   "execution_count": 67,
   "metadata": {},
   "outputs": [
    {
     "name": "stdout",
     "output_type": "stream",
     "text": [
      "<class 'pandas.core.frame.DataFrame'>\n",
      "RangeIndex: 1000 entries, 0 to 999\n",
      "Data columns (total 9 columns):\n",
      " #   Column                       Non-Null Count  Dtype  \n",
      "---  ------                       --------------  -----  \n",
      " 0   gender                       1000 non-null   int32  \n",
      " 1   race/ethnicity               1000 non-null   int32  \n",
      " 2   parental level of education  1000 non-null   int32  \n",
      " 3   lunch                        1000 non-null   int32  \n",
      " 4   test preparation course      1000 non-null   int32  \n",
      " 5   math score                   1000 non-null   int64  \n",
      " 6   reading score                1000 non-null   int64  \n",
      " 7   writing score                1000 non-null   int64  \n",
      " 8   mean                         1000 non-null   float64\n",
      "dtypes: float64(1), int32(5), int64(3)\n",
      "memory usage: 50.9 KB\n"
     ]
    }
   ],
   "source": [
    "student.info()"
   ]
  },
  {
   "cell_type": "code",
   "execution_count": 65,
   "metadata": {},
   "outputs": [
    {
     "data": {
      "text/html": [
       "<div>\n",
       "<style scoped>\n",
       "    .dataframe tbody tr th:only-of-type {\n",
       "        vertical-align: middle;\n",
       "    }\n",
       "\n",
       "    .dataframe tbody tr th {\n",
       "        vertical-align: top;\n",
       "    }\n",
       "\n",
       "    .dataframe thead th {\n",
       "        text-align: right;\n",
       "    }\n",
       "</style>\n",
       "<table border=\"1\" class=\"dataframe\">\n",
       "  <thead>\n",
       "    <tr style=\"text-align: right;\">\n",
       "      <th></th>\n",
       "      <th>gender</th>\n",
       "      <th>race/ethnicity</th>\n",
       "      <th>parental level of education</th>\n",
       "      <th>lunch</th>\n",
       "      <th>test preparation course</th>\n",
       "      <th>math score</th>\n",
       "      <th>reading score</th>\n",
       "      <th>writing score</th>\n",
       "      <th>mean</th>\n",
       "    </tr>\n",
       "  </thead>\n",
       "  <tbody>\n",
       "    <tr>\n",
       "      <th>0</th>\n",
       "      <td>0</td>\n",
       "      <td>1</td>\n",
       "      <td>1</td>\n",
       "      <td>1</td>\n",
       "      <td>1</td>\n",
       "      <td>72</td>\n",
       "      <td>72</td>\n",
       "      <td>74</td>\n",
       "      <td>&lt;map object at 0x0000018300E0E1D0&gt;</td>\n",
       "    </tr>\n",
       "    <tr>\n",
       "      <th>1</th>\n",
       "      <td>0</td>\n",
       "      <td>2</td>\n",
       "      <td>4</td>\n",
       "      <td>1</td>\n",
       "      <td>0</td>\n",
       "      <td>69</td>\n",
       "      <td>90</td>\n",
       "      <td>88</td>\n",
       "      <td>&lt;map object at 0x0000018300E0E1D0&gt;</td>\n",
       "    </tr>\n",
       "    <tr>\n",
       "      <th>2</th>\n",
       "      <td>0</td>\n",
       "      <td>1</td>\n",
       "      <td>3</td>\n",
       "      <td>1</td>\n",
       "      <td>1</td>\n",
       "      <td>90</td>\n",
       "      <td>95</td>\n",
       "      <td>93</td>\n",
       "      <td>&lt;map object at 0x0000018300E0E1D0&gt;</td>\n",
       "    </tr>\n",
       "    <tr>\n",
       "      <th>3</th>\n",
       "      <td>1</td>\n",
       "      <td>0</td>\n",
       "      <td>0</td>\n",
       "      <td>0</td>\n",
       "      <td>1</td>\n",
       "      <td>47</td>\n",
       "      <td>57</td>\n",
       "      <td>44</td>\n",
       "      <td>&lt;map object at 0x0000018300E0E1D0&gt;</td>\n",
       "    </tr>\n",
       "    <tr>\n",
       "      <th>4</th>\n",
       "      <td>1</td>\n",
       "      <td>2</td>\n",
       "      <td>4</td>\n",
       "      <td>1</td>\n",
       "      <td>1</td>\n",
       "      <td>76</td>\n",
       "      <td>78</td>\n",
       "      <td>75</td>\n",
       "      <td>&lt;map object at 0x0000018300E0E1D0&gt;</td>\n",
       "    </tr>\n",
       "  </tbody>\n",
       "</table>\n",
       "</div>"
      ],
      "text/plain": [
       "   gender  race/ethnicity  parental level of education  lunch  \\\n",
       "0       0               1                            1      1   \n",
       "1       0               2                            4      1   \n",
       "2       0               1                            3      1   \n",
       "3       1               0                            0      0   \n",
       "4       1               2                            4      1   \n",
       "\n",
       "   test preparation course  math score  reading score  writing score  \\\n",
       "0                        1          72             72             74   \n",
       "1                        0          69             90             88   \n",
       "2                        1          90             95             93   \n",
       "3                        1          47             57             44   \n",
       "4                        1          76             78             75   \n",
       "\n",
       "                                 mean  \n",
       "0  <map object at 0x0000018300E0E1D0>  \n",
       "1  <map object at 0x0000018300E0E1D0>  \n",
       "2  <map object at 0x0000018300E0E1D0>  \n",
       "3  <map object at 0x0000018300E0E1D0>  \n",
       "4  <map object at 0x0000018300E0E1D0>  "
      ]
     },
     "metadata": {},
     "output_type": "display_data"
    }
   ],
   "source": [
    "display(student.head())"
   ]
  },
  {
   "cell_type": "code",
   "execution_count": 71,
   "metadata": {},
   "outputs": [],
   "source": [
    "score = []\n",
    "for i in student[\"mean\"]:\n",
    "    if i >= 90:\n",
    "        score.append(0)\n",
    "    elif i >= 80:\n",
    "        score.append(1)\n",
    "    elif i >= 70:\n",
    "        score.append(2)\n",
    "    elif i >= 60:\n",
    "        score.append(3)\n",
    "    else:\n",
    "        score.append(4)\n",
    "\n",
    "student[\"score\"] = score"
   ]
  },
  {
   "cell_type": "code",
   "execution_count": 73,
   "metadata": {},
   "outputs": [],
   "source": [
    "model = CategoricalNB()\n",
    "\n",
    "_ = model.fit(student.drop([\"math score\", \"reading score\", \"writing score\", \"mean\", \"score\"], axis=1), student[\"score\"])"
   ]
  },
  {
   "attachments": {},
   "cell_type": "markdown",
   "metadata": {},
   "source": [
    "# 2. LDA"
   ]
  },
  {
   "cell_type": "code",
   "execution_count": 74,
   "metadata": {},
   "outputs": [],
   "source": [
    "import numpy as np\n",
    "from sklearn.datasets import load_iris\n",
    "from sklearn.discriminant_analysis import LinearDiscriminantAnalysis\n",
    "\n",
    "iris = load_iris()\n",
    "\n",
    "df = pd.DataFrame(np.c_[iris[\"data\"], iris[\"target\"]], columns=iris[\"feature_names\"] + [\"target\"])\n",
    "df[\"species\"] = pd.Categorical.from_codes(iris[\"target\"], iris[\"target_names\"])\n",
    "df.columns = [\"s_length\", \"s_width\", \"p_length\", \"p_width\", \"target\", \"species\"]\n",
    "\n",
    "X = df[[\"s_length\", \"s_width\", \"p_length\", \"p_width\"]]\n",
    "y = df[\"target\"]\n"
   ]
  },
  {
   "cell_type": "code",
   "execution_count": 75,
   "metadata": {},
   "outputs": [],
   "source": [
    "model = LinearDiscriminantAnalysis()\n",
    "data_plot = model.fit(X, y).transform(X)"
   ]
  },
  {
   "cell_type": "code",
   "execution_count": 76,
   "metadata": {},
   "outputs": [
    {
     "name": "stdout",
     "output_type": "stream",
     "text": [
      "LDA Summary:\n",
      "Classes: [0. 1. 2.]\n",
      "Priors: [0.33333333 0.33333333 0.33333333]\n",
      "Explained variance ratio: [0.9912126 0.0087874]\n"
     ]
    },
    {
     "data": {
      "image/png": "[encoded data removed]",
      "text/plain": [
       "<Figure size 1000x600 with 1 Axes>"
      ]
     },
     "metadata": {
      "needs_background": "light"
     },
     "output_type": "display_data"
    }
   ],
   "source": [
    "plt.figure(figsize=(10, 6), dpi=100)\n",
    "\n",
    "for color, i, target_name in zip(get_n_colors(3), [0, 1, 2], iris.target_names):\n",
    "    plt.scatter(data_plot[y == i, 0], data_plot[y == i, 1], color=color, alpha=.8, lw=2, label=target_name)\n",
    "\n",
    "plt.legend(loc=\"best\", shadow=False, scatterpoints=1)\n",
    "\n",
    "print(\"LDA Summary:\")\n",
    "print(\"Classes:\", model.classes_)\n",
    "print(\"Priors:\", model.priors_)\n",
    "print(\"Explained variance ratio:\", model.explained_variance_ratio_)\n",
    "\n",
    "plt.show()"
   ]
  },
  {
   "attachments": {},
   "cell_type": "markdown",
   "metadata": {},
   "source": [
    "# Exercice 2.1"
   ]
  },
  {
   "cell_type": "code",
   "execution_count": 78,
   "metadata": {},
   "outputs": [
    {
     "data": {
      "text/html": [
       "<div>\n",
       "<style scoped>\n",
       "    .dataframe tbody tr th:only-of-type {\n",
       "        vertical-align: middle;\n",
       "    }\n",
       "\n",
       "    .dataframe tbody tr th {\n",
       "        vertical-align: top;\n",
       "    }\n",
       "\n",
       "    .dataframe thead th {\n",
       "        text-align: right;\n",
       "    }\n",
       "</style>\n",
       "<table border=\"1\" class=\"dataframe\">\n",
       "  <thead>\n",
       "    <tr style=\"text-align: right;\">\n",
       "      <th></th>\n",
       "      <th>gameId</th>\n",
       "      <th>gameDuraton</th>\n",
       "      <th>blueWins</th>\n",
       "      <th>blueFirstBlood</th>\n",
       "      <th>blueFirstTower</th>\n",
       "      <th>blueFirstBaron</th>\n",
       "      <th>blueFirstDragon</th>\n",
       "      <th>blueFirstInhibitor</th>\n",
       "      <th>blueDragonKills</th>\n",
       "      <th>blueBaronKills</th>\n",
       "      <th>...</th>\n",
       "      <th>redAssist</th>\n",
       "      <th>redChampionDamageDealt</th>\n",
       "      <th>redTotalGold</th>\n",
       "      <th>redTotalMinionKills</th>\n",
       "      <th>redTotalLevel</th>\n",
       "      <th>redAvgLevel</th>\n",
       "      <th>redJungleMinionKills</th>\n",
       "      <th>redKillingSpree</th>\n",
       "      <th>redTotalHeal</th>\n",
       "      <th>redObjectDamageDealt</th>\n",
       "    </tr>\n",
       "  </thead>\n",
       "  <tbody>\n",
       "    <tr>\n",
       "      <th>0</th>\n",
       "      <td>4247263043</td>\n",
       "      <td>1323</td>\n",
       "      <td>0</td>\n",
       "      <td>1</td>\n",
       "      <td>0</td>\n",
       "      <td>0</td>\n",
       "      <td>0</td>\n",
       "      <td>0</td>\n",
       "      <td>0</td>\n",
       "      <td>0</td>\n",
       "      <td>...</td>\n",
       "      <td>68</td>\n",
       "      <td>73016</td>\n",
       "      <td>49832</td>\n",
       "      <td>533</td>\n",
       "      <td>64</td>\n",
       "      <td>12.8</td>\n",
       "      <td>138</td>\n",
       "      <td>8</td>\n",
       "      <td>38711</td>\n",
       "      <td>60463</td>\n",
       "    </tr>\n",
       "    <tr>\n",
       "      <th>1</th>\n",
       "      <td>4247155821</td>\n",
       "      <td>1317</td>\n",
       "      <td>1</td>\n",
       "      <td>0</td>\n",
       "      <td>0</td>\n",
       "      <td>0</td>\n",
       "      <td>1</td>\n",
       "      <td>0</td>\n",
       "      <td>2</td>\n",
       "      <td>0</td>\n",
       "      <td>...</td>\n",
       "      <td>8</td>\n",
       "      <td>44218</td>\n",
       "      <td>37136</td>\n",
       "      <td>571</td>\n",
       "      <td>59</td>\n",
       "      <td>11.8</td>\n",
       "      <td>134</td>\n",
       "      <td>3</td>\n",
       "      <td>24829</td>\n",
       "      <td>14105</td>\n",
       "    </tr>\n",
       "    <tr>\n",
       "      <th>2</th>\n",
       "      <td>4243963257</td>\n",
       "      <td>932</td>\n",
       "      <td>0</td>\n",
       "      <td>0</td>\n",
       "      <td>0</td>\n",
       "      <td>0</td>\n",
       "      <td>0</td>\n",
       "      <td>0</td>\n",
       "      <td>0</td>\n",
       "      <td>0</td>\n",
       "      <td>...</td>\n",
       "      <td>20</td>\n",
       "      <td>30797</td>\n",
       "      <td>35364</td>\n",
       "      <td>400</td>\n",
       "      <td>50</td>\n",
       "      <td>10.0</td>\n",
       "      <td>89</td>\n",
       "      <td>5</td>\n",
       "      <td>12589</td>\n",
       "      <td>45201</td>\n",
       "    </tr>\n",
       "    <tr>\n",
       "      <th>3</th>\n",
       "      <td>4241678498</td>\n",
       "      <td>2098</td>\n",
       "      <td>0</td>\n",
       "      <td>0</td>\n",
       "      <td>0</td>\n",
       "      <td>1</td>\n",
       "      <td>1</td>\n",
       "      <td>0</td>\n",
       "      <td>1</td>\n",
       "      <td>1</td>\n",
       "      <td>...</td>\n",
       "      <td>72</td>\n",
       "      <td>125866</td>\n",
       "      <td>70528</td>\n",
       "      <td>832</td>\n",
       "      <td>84</td>\n",
       "      <td>16.8</td>\n",
       "      <td>205</td>\n",
       "      <td>9</td>\n",
       "      <td>65312</td>\n",
       "      <td>88202</td>\n",
       "    </tr>\n",
       "    <tr>\n",
       "      <th>4</th>\n",
       "      <td>4241538868</td>\n",
       "      <td>2344</td>\n",
       "      <td>1</td>\n",
       "      <td>1</td>\n",
       "      <td>1</td>\n",
       "      <td>1</td>\n",
       "      <td>1</td>\n",
       "      <td>1</td>\n",
       "      <td>2</td>\n",
       "      <td>2</td>\n",
       "      <td>...</td>\n",
       "      <td>83</td>\n",
       "      <td>131536</td>\n",
       "      <td>74596</td>\n",
       "      <td>794</td>\n",
       "      <td>85</td>\n",
       "      <td>17.0</td>\n",
       "      <td>227</td>\n",
       "      <td>7</td>\n",
       "      <td>86431</td>\n",
       "      <td>64141</td>\n",
       "    </tr>\n",
       "  </tbody>\n",
       "</table>\n",
       "<p>5 rows × 50 columns</p>\n",
       "</div>"
      ],
      "text/plain": [
       "       gameId  gameDuraton  blueWins  blueFirstBlood  blueFirstTower  \\\n",
       "0  4247263043         1323         0               1               0   \n",
       "1  4247155821         1317         1               0               0   \n",
       "2  4243963257          932         0               0               0   \n",
       "3  4241678498         2098         0               0               0   \n",
       "4  4241538868         2344         1               1               1   \n",
       "\n",
       "   blueFirstBaron  blueFirstDragon  blueFirstInhibitor  blueDragonKills  \\\n",
       "0               0                0                   0                0   \n",
       "1               0                1                   0                2   \n",
       "2               0                0                   0                0   \n",
       "3               1                1                   0                1   \n",
       "4               1                1                   1                2   \n",
       "\n",
       "   blueBaronKills  ...  redAssist  redChampionDamageDealt  redTotalGold  \\\n",
       "0               0  ...         68                   73016         49832   \n",
       "1               0  ...          8                   44218         37136   \n",
       "2               0  ...         20                   30797         35364   \n",
       "3               1  ...         72                  125866         70528   \n",
       "4               2  ...         83                  131536         74596   \n",
       "\n",
       "   redTotalMinionKills  redTotalLevel  redAvgLevel  redJungleMinionKills  \\\n",
       "0                  533             64         12.8                   138   \n",
       "1                  571             59         11.8                   134   \n",
       "2                  400             50         10.0                    89   \n",
       "3                  832             84         16.8                   205   \n",
       "4                  794             85         17.0                   227   \n",
       "\n",
       "   redKillingSpree  redTotalHeal  redObjectDamageDealt  \n",
       "0                8         38711                 60463  \n",
       "1                3         24829                 14105  \n",
       "2                5         12589                 45201  \n",
       "3                9         65312                 88202  \n",
       "4                7         86431                 64141  \n",
       "\n",
       "[5 rows x 50 columns]"
      ]
     },
     "metadata": {},
     "output_type": "display_data"
    }
   ],
   "source": [
    "chall = pd.read_csv(\"lol/Challenger_Ranked_Games.csv\", sep=\",\")\n",
    "\n",
    "display(chall.head())"
   ]
  },
  {
   "cell_type": "code",
   "execution_count": 85,
   "metadata": {},
   "outputs": [
    {
     "name": "stdout",
     "output_type": "stream",
     "text": [
      "blue Wins with first blood: 0.6025688344282867\n",
      "red Wins with first blood: 0.6047508080884011\n"
     ]
    }
   ],
   "source": [
    "for team in [\"blue\", \"red\"]:\n",
    "    idx = chall[chall[f\"{team}FirstBlood\"] == 1].index\n",
    "    print(f\"{team} Wins with first blood:\", chall.loc[idx, f'{team}Wins'].mean())"
   ]
  },
  {
   "cell_type": "code",
   "execution_count": 87,
   "metadata": {},
   "outputs": [
    {
     "name": "stdout",
     "output_type": "stream",
     "text": [
      "Avg game duration 1448.6536574487066\n"
     ]
    }
   ],
   "source": [
    "print(\"Avg game duration\", chall[\"gameDuraton\"].mean())"
   ]
  },
  {
   "attachments": {},
   "cell_type": "markdown",
   "metadata": {},
   "source": [
    "# 3. QDA"
   ]
  },
  {
   "cell_type": "code",
   "execution_count": 88,
   "metadata": {},
   "outputs": [
    {
     "name": "stdout",
     "output_type": "stream",
     "text": [
      "downloading Olivetti faces from https://ndownloader.figshare.com/files/5976027 to C:\\Users\\leovi\\scikit_learn_data\n",
      "(400, 4096)\n"
     ]
    }
   ],
   "source": [
    "from sklearn.datasets import fetch_olivetti_faces\n",
    "\n",
    "faces, labels = fetch_olivetti_faces(return_X_y=True, shuffle=True, random_state=42)\n",
    "print(faces.shape)"
   ]
  },
  {
   "cell_type": "code",
   "execution_count": 89,
   "metadata": {},
   "outputs": [
    {
     "name": "stdout",
     "output_type": "stream",
     "text": [
      "[ 0  1  2  3  4  5  6  7  8  9 10 11 12 13 14 15 16 17 18 19 20 21 22 23\n",
      " 24 25 26 27 28 29 30 31 32 33 34 35 36 37 38 39]\n"
     ]
    }
   ],
   "source": [
    "print(np.unique(labels))"
   ]
  },
  {
   "cell_type": "code",
   "execution_count": 90,
   "metadata": {},
   "outputs": [
    {
     "name": "stdout",
     "output_type": "stream",
     "text": [
      "Classes: [ 0  1  2  3  4  5  6  7  8  9 10 11 12 13 14 15 16 17 18 19 20 21 22 23\n",
      " 24 25 26 27 28 29 30 31 32 33 34 35 36 37 38 39]\n",
      "Priors: [0.025    0.028125 0.028125 0.021875 0.01875  0.025    0.03125  0.021875\n",
      " 0.021875 0.025    0.028125 0.028125 0.021875 0.025    0.01875  0.028125\n",
      " 0.025    0.025    0.021875 0.025    0.021875 0.025    0.015625 0.025\n",
      " 0.028125 0.025    0.028125 0.01875  0.03125  0.025    0.028125 0.021875\n",
      " 0.028125 0.03125  0.03125  0.025    0.025    0.03125  0.021875 0.01875 ]\n",
      "Explained variance ratio: [0.18041219 0.1208247  0.08221974 0.06273519 0.05105675 0.04790365\n",
      " 0.04253825 0.03672382 0.03387299 0.0286964  0.02646573 0.02519402\n",
      " 0.02466111 0.02262153 0.01907346 0.01681669 0.01608501 0.01542481\n",
      " 0.01318231 0.01268148 0.01190124 0.01080335 0.00992639 0.00927645\n",
      " 0.00860248 0.00851856 0.00775119 0.00697468 0.00653183 0.0062031\n",
      " 0.00566299 0.005482   0.00474469 0.00395664 0.00362231 0.00316972\n",
      " 0.00282603 0.00252337 0.00233315]\n"
     ]
    }
   ],
   "source": [
    "from sklearn.model_selection import train_test_split\n",
    "\n",
    "X_train, X_test, y_train, y_test = train_test_split(faces, labels, test_size=0.2, random_state=42)\n",
    "\n",
    "from sklearn.discriminant_analysis import LinearDiscriminantAnalysis as LDA\n",
    "lda = LDA()\n",
    "\n",
    "lda.fit(X_train, y_train)\n",
    "\n",
    "print(\"Classes:\", lda.classes_)\n",
    "print(\"Priors:\", lda.priors_)\n",
    "print(\"Explained variance ratio:\", lda.explained_variance_ratio_)\n"
   ]
  },
  {
   "cell_type": "code",
   "execution_count": 91,
   "metadata": {},
   "outputs": [
    {
     "name": "stdout",
     "output_type": "stream",
     "text": [
      "Accuracy: 0.9375\n",
      "Number of faces in test dataset: 80\n",
      "Number of faces with incorrect prediction: 5.0\n"
     ]
    }
   ],
   "source": [
    "print(\"Accuracy:\", lda.score(X_test, y_test))\n",
    "print(\"Number of faces in test dataset:\", len(X_test))\n",
    "print(\"Number of faces with incorrect prediction:\", len(X_test) - lda.score(X_test, y_test) * len(X_test))"
   ]
  },
  {
   "cell_type": "code",
   "execution_count": 93,
   "metadata": {},
   "outputs": [
    {
     "name": "stdout",
     "output_type": "stream",
     "text": [
      "Classes: [ 0  1  2  3  4  5  6  7  8  9 10 11 12 13 14 15 16 17 18 19 20 21 22 23\n",
      " 24 25 26 27 28 29 30 31 32 33 34 35 36 37 38 39]\n",
      "Priors: [0.025    0.028125 0.028125 0.021875 0.01875  0.025    0.03125  0.021875\n",
      " 0.021875 0.025    0.028125 0.028125 0.021875 0.025    0.01875  0.028125\n",
      " 0.025    0.025    0.021875 0.025    0.021875 0.025    0.015625 0.025\n",
      " 0.028125 0.025    0.028125 0.01875  0.03125  0.025    0.028125 0.021875\n",
      " 0.028125 0.03125  0.03125  0.025    0.025    0.03125  0.021875 0.01875 ]\n"
     ]
    },
    {
     "name": "stderr",
     "output_type": "stream",
     "text": [
      "c:\\Users\\leovi\\AppData\\Local\\Programs\\Python\\Python36\\lib\\site-packages\\sklearn\\discriminant_analysis.py:808: UserWarning: Variables are collinear\n",
      "  warnings.warn(\"Variables are collinear\")\n"
     ]
    }
   ],
   "source": [
    "from sklearn.discriminant_analysis import QuadraticDiscriminantAnalysis as QDA\n",
    "\n",
    "qda = QDA()\n",
    "\n",
    "qda.fit(X_train, y_train)\n",
    "\n",
    "print(\"Classes:\", qda.classes_)\n",
    "print(\"Priors:\", qda.priors_)"
   ]
  },
  {
   "cell_type": "code",
   "execution_count": 94,
   "metadata": {},
   "outputs": [
    {
     "name": "stdout",
     "output_type": "stream",
     "text": [
      "Accuracy: 0.0375\n",
      "Number of faces in test dataset: 80\n",
      "Number of faces with incorrect prediction: 77.0\n"
     ]
    }
   ],
   "source": [
    "print(\"Accuracy:\", qda.score(X_test, y_test))\n",
    "print(\"Number of faces in test dataset:\", len(X_test))\n",
    "print(\"Number of faces with incorrect prediction:\", len(X_test) - qda.score(X_test, y_test) * len(X_test))"
   ]
  },
  {
   "attachments": {},
   "cell_type": "markdown",
   "metadata": {},
   "source": [
    "# Exercice 3.1"
   ]
  },
  {
   "cell_type": "code",
   "execution_count": 95,
   "metadata": {},
   "outputs": [
    {
     "data": {
      "text/html": [
       "<div>\n",
       "<style scoped>\n",
       "    .dataframe tbody tr th:only-of-type {\n",
       "        vertical-align: middle;\n",
       "    }\n",
       "\n",
       "    .dataframe tbody tr th {\n",
       "        vertical-align: top;\n",
       "    }\n",
       "\n",
       "    .dataframe thead th {\n",
       "        text-align: right;\n",
       "    }\n",
       "</style>\n",
       "<table border=\"1\" class=\"dataframe\">\n",
       "  <thead>\n",
       "    <tr style=\"text-align: right;\">\n",
       "      <th></th>\n",
       "      <th>Time</th>\n",
       "      <th>V1</th>\n",
       "      <th>V2</th>\n",
       "      <th>V3</th>\n",
       "      <th>V4</th>\n",
       "      <th>V5</th>\n",
       "      <th>V6</th>\n",
       "      <th>V7</th>\n",
       "      <th>V8</th>\n",
       "      <th>V9</th>\n",
       "      <th>...</th>\n",
       "      <th>V21</th>\n",
       "      <th>V22</th>\n",
       "      <th>V23</th>\n",
       "      <th>V24</th>\n",
       "      <th>V25</th>\n",
       "      <th>V26</th>\n",
       "      <th>V27</th>\n",
       "      <th>V28</th>\n",
       "      <th>Amount</th>\n",
       "      <th>Class</th>\n",
       "    </tr>\n",
       "  </thead>\n",
       "  <tbody>\n",
       "    <tr>\n",
       "      <th>0</th>\n",
       "      <td>0.0</td>\n",
       "      <td>-1.359807</td>\n",
       "      <td>-0.072781</td>\n",
       "      <td>2.536347</td>\n",
       "      <td>1.378155</td>\n",
       "      <td>-0.338321</td>\n",
       "      <td>0.462388</td>\n",
       "      <td>0.239599</td>\n",
       "      <td>0.098698</td>\n",
       "      <td>0.363787</td>\n",
       "      <td>...</td>\n",
       "      <td>-0.018307</td>\n",
       "      <td>0.277838</td>\n",
       "      <td>-0.110474</td>\n",
       "      <td>0.066928</td>\n",
       "      <td>0.128539</td>\n",
       "      <td>-0.189115</td>\n",
       "      <td>0.133558</td>\n",
       "      <td>-0.021053</td>\n",
       "      <td>149.62</td>\n",
       "      <td>0</td>\n",
       "    </tr>\n",
       "    <tr>\n",
       "      <th>1</th>\n",
       "      <td>0.0</td>\n",
       "      <td>1.191857</td>\n",
       "      <td>0.266151</td>\n",
       "      <td>0.166480</td>\n",
       "      <td>0.448154</td>\n",
       "      <td>0.060018</td>\n",
       "      <td>-0.082361</td>\n",
       "      <td>-0.078803</td>\n",
       "      <td>0.085102</td>\n",
       "      <td>-0.255425</td>\n",
       "      <td>...</td>\n",
       "      <td>-0.225775</td>\n",
       "      <td>-0.638672</td>\n",
       "      <td>0.101288</td>\n",
       "      <td>-0.339846</td>\n",
       "      <td>0.167170</td>\n",
       "      <td>0.125895</td>\n",
       "      <td>-0.008983</td>\n",
       "      <td>0.014724</td>\n",
       "      <td>2.69</td>\n",
       "      <td>0</td>\n",
       "    </tr>\n",
       "    <tr>\n",
       "      <th>2</th>\n",
       "      <td>1.0</td>\n",
       "      <td>-1.358354</td>\n",
       "      <td>-1.340163</td>\n",
       "      <td>1.773209</td>\n",
       "      <td>0.379780</td>\n",
       "      <td>-0.503198</td>\n",
       "      <td>1.800499</td>\n",
       "      <td>0.791461</td>\n",
       "      <td>0.247676</td>\n",
       "      <td>-1.514654</td>\n",
       "      <td>...</td>\n",
       "      <td>0.247998</td>\n",
       "      <td>0.771679</td>\n",
       "      <td>0.909412</td>\n",
       "      <td>-0.689281</td>\n",
       "      <td>-0.327642</td>\n",
       "      <td>-0.139097</td>\n",
       "      <td>-0.055353</td>\n",
       "      <td>-0.059752</td>\n",
       "      <td>378.66</td>\n",
       "      <td>0</td>\n",
       "    </tr>\n",
       "    <tr>\n",
       "      <th>3</th>\n",
       "      <td>1.0</td>\n",
       "      <td>-0.966272</td>\n",
       "      <td>-0.185226</td>\n",
       "      <td>1.792993</td>\n",
       "      <td>-0.863291</td>\n",
       "      <td>-0.010309</td>\n",
       "      <td>1.247203</td>\n",
       "      <td>0.237609</td>\n",
       "      <td>0.377436</td>\n",
       "      <td>-1.387024</td>\n",
       "      <td>...</td>\n",
       "      <td>-0.108300</td>\n",
       "      <td>0.005274</td>\n",
       "      <td>-0.190321</td>\n",
       "      <td>-1.175575</td>\n",
       "      <td>0.647376</td>\n",
       "      <td>-0.221929</td>\n",
       "      <td>0.062723</td>\n",
       "      <td>0.061458</td>\n",
       "      <td>123.50</td>\n",
       "      <td>0</td>\n",
       "    </tr>\n",
       "    <tr>\n",
       "      <th>4</th>\n",
       "      <td>2.0</td>\n",
       "      <td>-1.158233</td>\n",
       "      <td>0.877737</td>\n",
       "      <td>1.548718</td>\n",
       "      <td>0.403034</td>\n",
       "      <td>-0.407193</td>\n",
       "      <td>0.095921</td>\n",
       "      <td>0.592941</td>\n",
       "      <td>-0.270533</td>\n",
       "      <td>0.817739</td>\n",
       "      <td>...</td>\n",
       "      <td>-0.009431</td>\n",
       "      <td>0.798278</td>\n",
       "      <td>-0.137458</td>\n",
       "      <td>0.141267</td>\n",
       "      <td>-0.206010</td>\n",
       "      <td>0.502292</td>\n",
       "      <td>0.219422</td>\n",
       "      <td>0.215153</td>\n",
       "      <td>69.99</td>\n",
       "      <td>0</td>\n",
       "    </tr>\n",
       "  </tbody>\n",
       "</table>\n",
       "<p>5 rows × 31 columns</p>\n",
       "</div>"
      ],
      "text/plain": [
       "   Time        V1        V2        V3        V4        V5        V6        V7  \\\n",
       "0   0.0 -1.359807 -0.072781  2.536347  1.378155 -0.338321  0.462388  0.239599   \n",
       "1   0.0  1.191857  0.266151  0.166480  0.448154  0.060018 -0.082361 -0.078803   \n",
       "2   1.0 -1.358354 -1.340163  1.773209  0.379780 -0.503198  1.800499  0.791461   \n",
       "3   1.0 -0.966272 -0.185226  1.792993 -0.863291 -0.010309  1.247203  0.237609   \n",
       "4   2.0 -1.158233  0.877737  1.548718  0.403034 -0.407193  0.095921  0.592941   \n",
       "\n",
       "         V8        V9  ...       V21       V22       V23       V24       V25  \\\n",
       "0  0.098698  0.363787  ... -0.018307  0.277838 -0.110474  0.066928  0.128539   \n",
       "1  0.085102 -0.255425  ... -0.225775 -0.638672  0.101288 -0.339846  0.167170   \n",
       "2  0.247676 -1.514654  ...  0.247998  0.771679  0.909412 -0.689281 -0.327642   \n",
       "3  0.377436 -1.387024  ... -0.108300  0.005274 -0.190321 -1.175575  0.647376   \n",
       "4 -0.270533  0.817739  ... -0.009431  0.798278 -0.137458  0.141267 -0.206010   \n",
       "\n",
       "        V26       V27       V28  Amount  Class  \n",
       "0 -0.189115  0.133558 -0.021053  149.62      0  \n",
       "1  0.125895 -0.008983  0.014724    2.69      0  \n",
       "2 -0.139097 -0.055353 -0.059752  378.66      0  \n",
       "3 -0.221929  0.062723  0.061458  123.50      0  \n",
       "4  0.502292  0.219422  0.215153   69.99      0  \n",
       "\n",
       "[5 rows x 31 columns]"
      ]
     },
     "metadata": {},
     "output_type": "display_data"
    }
   ],
   "source": [
    "credit = pd.read_csv(\"creditcard.csv\", sep=\",\")\n",
    "display(credit.head())"
   ]
  },
  {
   "cell_type": "code",
   "execution_count": 124,
   "metadata": {},
   "outputs": [
    {
     "name": "stdout",
     "output_type": "stream",
     "text": [
      "Classes: 2\n",
      "Accuracy: 0.9739650995400443\n",
      "Number of rows in test dataset: 56962\n",
      "Number of incorrect prediction: 1483.0\n"
     ]
    }
   ],
   "source": [
    "\n",
    "X_train, X_test, y_train, y_test = train_test_split(credit.drop(\"Class\", axis=1), credit[\"Class\"], test_size=.2)\n",
    "\n",
    "qda = QDA()\n",
    "\n",
    "qda.fit(X_train, y_train)\n",
    "\n",
    "print(\"Classes:\", len(qda.classes_))\n",
    "\n",
    "print(\"Accuracy:\", qda.score(X_test, y_test))\n",
    "print(\"Number of rows in test dataset:\", len(X_test))\n",
    "print(\"Number of incorrect prediction:\", len(X_test) - qda.score(X_test, y_test) * len(X_test))"
   ]
  },
  {
   "cell_type": "code",
   "execution_count": 125,
   "metadata": {},
   "outputs": [
    {
     "name": "stdout",
     "output_type": "stream",
     "text": [
      "Classes: 2\n",
      "Accuracy: 0.9993153330290369\n",
      "Number of rows in test dataset: 56962\n",
      "Number of incorrect prediction: 39.0\n"
     ]
    }
   ],
   "source": [
    "lda = LDA()\n",
    "\n",
    "lda.fit(X_train, y_train)\n",
    "\n",
    "print(\"Classes:\", len(lda.classes_))\n",
    "\n",
    "print(\"Accuracy:\", lda.score(X_test, y_test))\n",
    "print(\"Number of rows in test dataset:\", len(X_test))\n",
    "print(\"Number of incorrect prediction:\", len(X_test) - lda.score(X_test, y_test) * len(X_test))"
   ]
  },
  {
   "cell_type": "code",
   "execution_count": 129,
   "metadata": {},
   "outputs": [
    {
     "name": "stdout",
     "output_type": "stream",
     "text": [
      "Accuracy: 0.9979986657771848\n",
      "Number of rows in test dataset: 56962\n",
      "Number of incorrect prediction: 114.0\n"
     ]
    }
   ],
   "source": [
    "# test with knn\n",
    "from sklearn.neighbors import KNeighborsClassifier\n",
    "\n",
    "knn = KNeighborsClassifier(n_neighbors=7)\n",
    "\n",
    "knn.fit(X_train, y_train)\n",
    "\n",
    "score = knn.score(X_test, y_test)\n",
    "print(\"Accuracy:\", score)\n",
    "print(\"Number of rows in test dataset:\", len(X_test))\n",
    "print(\"Number of incorrect prediction:\", len(X_test) - score * len(X_test))"
   ]
  },
  {
   "cell_type": "code",
   "execution_count": 126,
   "metadata": {},
   "outputs": [
    {
     "name": "stdout",
     "output_type": "stream",
     "text": [
      "Accuracy: 0.9988939995084443\n",
      "Number of rows in test dataset: 56962\n",
      "Number of incorrect prediction: 63.0\n"
     ]
    }
   ],
   "source": [
    "# test with randomforest\n",
    "from sklearn.ensemble import RandomForestClassifier\n",
    "\n",
    "rf = RandomForestClassifier(n_estimators=100, max_depth=2, random_state=0)\n",
    "\n",
    "rf.fit(X_train, y_train)\n",
    "\n",
    "print(\"Accuracy:\", rf.score(X_test, y_test))\n",
    "print(\"Number of rows in test dataset:\", len(X_test))\n",
    "print(\"Number of incorrect prediction:\", len(X_test) - rf.score(X_test, y_test) * len(X_test))"
   ]
  },
  {
   "cell_type": "code",
   "execution_count": 127,
   "metadata": {},
   "outputs": [
    {
     "name": "stdout",
     "output_type": "stream",
     "text": [
      "Accuracy: 0.9991046662687406\n",
      "Number of rows in test dataset: 56962\n",
      "Number of incorrect prediction: 51.0\n"
     ]
    }
   ],
   "source": [
    "# test with logistic regression\n",
    "from sklearn.linear_model import LogisticRegression\n",
    "\n",
    "lr = LogisticRegression(random_state=0, max_iter=3000)\n",
    "\n",
    "lr.fit(X_train, y_train)\n",
    "\n",
    "print(\"Accuracy:\", lr.score(X_test, y_test))\n",
    "print(\"Number of rows in test dataset:\", len(X_test))\n",
    "print(\"Number of incorrect prediction:\", len(X_test) - lr.score(X_test, y_test) * len(X_test))"
   ]
  },
  {
   "cell_type": "code",
   "execution_count": 128,
   "metadata": {},
   "outputs": [
    {
     "name": "stdout",
     "output_type": "stream",
     "text": [
      "Accuracy: 0.9991748885221726\n",
      "Number of rows in test dataset: 56962\n",
      "Number of incorrect prediction: 47.0\n"
     ]
    }
   ],
   "source": [
    "# test with decision tree\n",
    "from sklearn.tree import DecisionTreeClassifier\n",
    "\n",
    "dt = DecisionTreeClassifier(random_state=0)\n",
    "\n",
    "dt.fit(X_train, y_train)\n",
    "\n",
    "score = dt.score(X_test, y_test)\n",
    "print(\"Accuracy:\", score)\n",
    "print(\"Number of rows in test dataset:\", len(X_test))\n",
    "print(\"Number of incorrect prediction:\", len(X_test) - score * len(X_test))"
   ]
  }
 ],
 "metadata": {
  "kernelspec": {
   "display_name": "Python 3",
   "language": "python",
   "name": "python3"
  },
  "language_info": {
   "codemirror_mode": {
    "name": "ipython",
    "version": 3
   },
   "file_extension": ".py",
   "mimetype": "text/x-python",
   "name": "python",
   "nbconvert_exporter": "python",
   "pygments_lexer": "ipython3",
   "version": "3.6.8"
  },
  "orig_nbformat": 4
 },
 "nbformat": 4,
 "nbformat_minor": 2
}
