{
 "cells": [
  {
   "cell_type": "markdown",
   "source": [
    "# Lab session 9\n",
    "\n",
    "Module-3-Lab-data-wrangling-UTBM.pdf et datasets\n",
    "\n",
    "Data Wrangling with OpenRefine\n",
    "\n",
    "[10pt] OpenRefine\n",
    "a. Watch the videos on the OpenRefine’s homepage for an overview of its features. Download and install the latest version of OpenRefine.\n",
    "b. Import Dataset:\n",
    "1. Launch OpenRefine. It opens in a browser (127.0.0.1:3333).\n",
    "2. We use a products dataset from Mercari, derived from a competition on Kaggle\n",
    "(Mercari Price Suggestion Challenge). If you are interested in the details, please refer to the data description page. We have sampled a subset of the dataset as the given \"properties.csv\".\n",
    "3. Choose \"Create Project\" -> This Computer -> \"properties.csv\". Click \"Next\".\n",
    "4. You will now see a preview of the dataset. Click \"Create Project\" in the upper right\n",
    "corner.\n",
    "c. Clean/Refine the data:\n",
    "Note: OpenRefine maintains a log of all changes. You can undo changes. See the \"Undo/Redo\" button on the upper lef t corner.\n",
    "i.a [1 pt] Select the “category_name” column and choose ‘Facet by Blank’ (Facet -> Customized Facets -> Facet by blank) to filter out the records that have blank values in this column. Provide the number of rows that return True. Remove these rows.\n",
    "i.b [1 pt] Split the column “category_name” into multiple columns without removing the original column. For example, a row with “Kids/Toys/Dolls & Accessories” in the category_name column, would be split across the newly created columns as “Kids”, “T oys” and “Dolls & Accessories”. Use the existing functionality in OpenRefine that creates multiple columns from an existing column based on a separator (i.e. in this case ‘/’). Provide the number of columns that are created in this operation. Remove the newly created columns that do not have values in all rows.\n",
    "ii. [2 pt] Select the column “name” and apply the Text Facet (Facet -> Text Facet). Click ontheClusterbuttonwhichopensa windowwhereyoucan choosedifferent“methods” and “keying functions” to use while clustering. Choose the keying function that produces the highest number of clusters under the “Key Collision” method. Provide the number of\n",
    "\n",
    "clusters found using this keying function. Click on ‘Select All’ and ‘Merge Selected & Close’.\n",
    "iii. [2 pt] Replace the null values in the “brand_name column” with the text “Unbranded” (Edit Cells -> Transform). Provide the General Refine Evaluation Language (GREL) expression used.\n",
    "iv. [2 pt] Create a new column “high_priced” with the values 0 or 1 based on the “price” column with the following conditions: If the price is greater than 100, “high_priced” should be set as 1, else 0. Provide the GREL expression used to perform this.\n",
    "v. [2 pt] Create a new column “has_offer” with the values 0 or 1 based on the “item_description” column with the following conditions: If it contains the text “discount” or “offer”or“sale”,thensetthevaluein“has_offer”as1,else0.ProvidetheGRELexpression used to perform this.\n",
    "Deliverables\n",
    "• properties_clean.csv : Export the final table as a comma-separated values (.csv) file.\n",
    "• changes.json : Submit a list of changes made to file in json format. Use the “Extract\n",
    "Operation History” option under the Undo/Redo tab to create this file.\n",
    "• Observations.txt:Atextfilewithanswerstopartsc.i.a,c.i.b,c.ii,c.iii,c.ivandc.v.Provide\n",
    "each answer in a new line."
   ],
   "metadata": {
    "collapsed": false
   }
  }
 ],
 "metadata": {
  "kernelspec": {
   "display_name": "Python 3",
   "language": "python",
   "name": "python3"
  },
  "language_info": {
   "codemirror_mode": {
    "name": "ipython",
    "version": 2
   },
   "file_extension": ".py",
   "mimetype": "text/x-python",
   "name": "python",
   "nbconvert_exporter": "python",
   "pygments_lexer": "ipython2",
   "version": "2.7.6"
  }
 },
 "nbformat": 4,
 "nbformat_minor": 0
}
