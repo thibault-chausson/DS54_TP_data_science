{
 "cells": [
  {
   "cell_type": "markdown",
   "source": [
    "Lab Session 3\n",
    "\n",
    "1) Navie Bayes\n",
    "\n",
    "In this example, we will use the Naive Bayes algorithm to predict whether a person will play or not based on the weather conditions. The dataset contains the following attributes:"
   ],
   "metadata": {
    "collapsed": false
   }
  },
  {
   "cell_type": "code",
   "execution_count": 3,
   "outputs": [
    {
     "data": {
      "text/plain": "     weather temperature play\n0      sunny         Hot   No\n1      sunny         Hot   No\n2   overcast         Hot  Yes\n3      rainy        Mild  Yes\n4      rainy        Cool  Yes\n5      rainy        Cool   No\n6   overcast        Cool  Yes\n7      sunny        Mild  Yes\n8      sunny        Cool  Yes\n9      rainy        Mild  Yes\n10     sunny        Mild  Yes\n11  overcast        Mild  Yes\n12  overcast         Hot  Yes\n13     rainy        Mild   No",
      "text/html": "<div>\n<style scoped>\n    .dataframe tbody tr th:only-of-type {\n        vertical-align: middle;\n    }\n\n    .dataframe tbody tr th {\n        vertical-align: top;\n    }\n\n    .dataframe thead th {\n        text-align: right;\n    }\n</style>\n<table border=\"1\" class=\"dataframe\">\n  <thead>\n    <tr style=\"text-align: right;\">\n      <th></th>\n      <th>weather</th>\n      <th>temperature</th>\n      <th>play</th>\n    </tr>\n  </thead>\n  <tbody>\n    <tr>\n      <th>0</th>\n      <td>sunny</td>\n      <td>Hot</td>\n      <td>No</td>\n    </tr>\n    <tr>\n      <th>1</th>\n      <td>sunny</td>\n      <td>Hot</td>\n      <td>No</td>\n    </tr>\n    <tr>\n      <th>2</th>\n      <td>overcast</td>\n      <td>Hot</td>\n      <td>Yes</td>\n    </tr>\n    <tr>\n      <th>3</th>\n      <td>rainy</td>\n      <td>Mild</td>\n      <td>Yes</td>\n    </tr>\n    <tr>\n      <th>4</th>\n      <td>rainy</td>\n      <td>Cool</td>\n      <td>Yes</td>\n    </tr>\n    <tr>\n      <th>5</th>\n      <td>rainy</td>\n      <td>Cool</td>\n      <td>No</td>\n    </tr>\n    <tr>\n      <th>6</th>\n      <td>overcast</td>\n      <td>Cool</td>\n      <td>Yes</td>\n    </tr>\n    <tr>\n      <th>7</th>\n      <td>sunny</td>\n      <td>Mild</td>\n      <td>Yes</td>\n    </tr>\n    <tr>\n      <th>8</th>\n      <td>sunny</td>\n      <td>Cool</td>\n      <td>Yes</td>\n    </tr>\n    <tr>\n      <th>9</th>\n      <td>rainy</td>\n      <td>Mild</td>\n      <td>Yes</td>\n    </tr>\n    <tr>\n      <th>10</th>\n      <td>sunny</td>\n      <td>Mild</td>\n      <td>Yes</td>\n    </tr>\n    <tr>\n      <th>11</th>\n      <td>overcast</td>\n      <td>Mild</td>\n      <td>Yes</td>\n    </tr>\n    <tr>\n      <th>12</th>\n      <td>overcast</td>\n      <td>Hot</td>\n      <td>Yes</td>\n    </tr>\n    <tr>\n      <th>13</th>\n      <td>rainy</td>\n      <td>Mild</td>\n      <td>No</td>\n    </tr>\n  </tbody>\n</table>\n</div>"
     },
     "metadata": {},
     "output_type": "display_data"
    }
   ],
   "source": [
    "import pandas as pd\n",
    "\n",
    "#Creat dataset\n",
    "Weather_dataset = {\n",
    "    'weather': ['sunny', 'sunny', 'overcast', 'rainy', 'rainy', 'rainy', 'overcast', 'sunny', 'sunny', 'rainy', 'sunny',\n",
    "                'overcast', 'overcast', 'rainy'],\n",
    "    'temperature': ['Hot', 'Hot', 'Hot', 'Mild', 'Cool', 'Cool', 'Cool', 'Mild', 'Cool', 'Mild', 'Mild', 'Mild', 'Hot',\n",
    "                    'Mild'],\n",
    "    'play': ['No', 'No', 'Yes', 'Yes', 'Yes', 'No', 'Yes', 'Yes', 'Yes', 'Yes', 'Yes', 'Yes', 'Yes', 'No']\n",
    "}\n",
    "Weather_dataset = pd.DataFrame(Weather_dataset)\n",
    "\n",
    "display(Weather_dataset)"
   ],
   "metadata": {
    "collapsed": false
   }
  },
  {
   "cell_type": "markdown",
   "source": [
    "We need to encode the features [Weather, Temperature], and target by converting string labels into numbers."
   ],
   "metadata": {
    "collapsed": false
   }
  },
  {
   "cell_type": "code",
   "execution_count": 4,
   "outputs": [
    {
     "data": {
      "text/plain": "(array([2, 2, 0, 1, 1, 1, 0, 2, 2, 1, 2, 0, 0, 1]),\n array([1, 1, 1, 2, 0, 0, 0, 2, 0, 2, 2, 2, 1, 2]),\n array([0, 0, 1, 1, 1, 0, 1, 1, 1, 1, 1, 1, 1, 0]))"
     },
     "execution_count": 4,
     "metadata": {},
     "output_type": "execute_result"
    }
   ],
   "source": [
    "#Import LabelEncoder\n",
    "from sklearn import preprocessing\n",
    "\n",
    "#creating labelEncoder\n",
    "labelEncoder = preprocessing.LabelEncoder()\n",
    "\n",
    "# Converting string labels into numbers.\n",
    "encoded_weather = labelEncoder.fit_transform(Weather_dataset['weather'])\n",
    "encoded_temperature = labelEncoder.fit_transform(Weather_dataset['temperature'])\n",
    "encoded_play = labelEncoder.fit_transform(Weather_dataset['play'])\n",
    "\n",
    "#print data\n",
    "encoded_weather, encoded_temperature, encoded_play"
   ],
   "metadata": {
    "collapsed": false
   }
  },
  {
   "cell_type": "code",
   "execution_count": 5,
   "outputs": [],
   "source": [
    "#encoded features are the combined\n",
    "features = [list(i) for i in zip(encoded_weather, encoded_temperature)]"
   ],
   "metadata": {
    "collapsed": false
   }
  },
  {
   "cell_type": "markdown",
   "source": [
    "Next we generate a model using navie bayes classifier"
   ],
   "metadata": {
    "collapsed": false
   }
  },
  {
   "cell_type": "code",
   "execution_count": 6,
   "outputs": [
    {
     "data": {
      "text/plain": "CategoricalNB()",
      "text/html": "<style>#sk-container-id-1 {color: black;background-color: white;}#sk-container-id-1 pre{padding: 0;}#sk-container-id-1 div.sk-toggleable {background-color: white;}#sk-container-id-1 label.sk-toggleable__label {cursor: pointer;display: block;width: 100%;margin-bottom: 0;padding: 0.3em;box-sizing: border-box;text-align: center;}#sk-container-id-1 label.sk-toggleable__label-arrow:before {content: \"▸\";float: left;margin-right: 0.25em;color: #696969;}#sk-container-id-1 label.sk-toggleable__label-arrow:hover:before {color: black;}#sk-container-id-1 div.sk-estimator:hover label.sk-toggleable__label-arrow:before {color: black;}#sk-container-id-1 div.sk-toggleable__content {max-height: 0;max-width: 0;overflow: hidden;text-align: left;background-color: #f0f8ff;}#sk-container-id-1 div.sk-toggleable__content pre {margin: 0.2em;color: black;border-radius: 0.25em;background-color: #f0f8ff;}#sk-container-id-1 input.sk-toggleable__control:checked~div.sk-toggleable__content {max-height: 200px;max-width: 100%;overflow: auto;}#sk-container-id-1 input.sk-toggleable__control:checked~label.sk-toggleable__label-arrow:before {content: \"▾\";}#sk-container-id-1 div.sk-estimator input.sk-toggleable__control:checked~label.sk-toggleable__label {background-color: #d4ebff;}#sk-container-id-1 div.sk-label input.sk-toggleable__control:checked~label.sk-toggleable__label {background-color: #d4ebff;}#sk-container-id-1 input.sk-hidden--visually {border: 0;clip: rect(1px 1px 1px 1px);clip: rect(1px, 1px, 1px, 1px);height: 1px;margin: -1px;overflow: hidden;padding: 0;position: absolute;width: 1px;}#sk-container-id-1 div.sk-estimator {font-family: monospace;background-color: #f0f8ff;border: 1px dotted black;border-radius: 0.25em;box-sizing: border-box;margin-bottom: 0.5em;}#sk-container-id-1 div.sk-estimator:hover {background-color: #d4ebff;}#sk-container-id-1 div.sk-parallel-item::after {content: \"\";width: 100%;border-bottom: 1px solid gray;flex-grow: 1;}#sk-container-id-1 div.sk-label:hover label.sk-toggleable__label {background-color: #d4ebff;}#sk-container-id-1 div.sk-serial::before {content: \"\";position: absolute;border-left: 1px solid gray;box-sizing: border-box;top: 0;bottom: 0;left: 50%;z-index: 0;}#sk-container-id-1 div.sk-serial {display: flex;flex-direction: column;align-items: center;background-color: white;padding-right: 0.2em;padding-left: 0.2em;position: relative;}#sk-container-id-1 div.sk-item {position: relative;z-index: 1;}#sk-container-id-1 div.sk-parallel {display: flex;align-items: stretch;justify-content: center;background-color: white;position: relative;}#sk-container-id-1 div.sk-item::before, #sk-container-id-1 div.sk-parallel-item::before {content: \"\";position: absolute;border-left: 1px solid gray;box-sizing: border-box;top: 0;bottom: 0;left: 50%;z-index: -1;}#sk-container-id-1 div.sk-parallel-item {display: flex;flex-direction: column;z-index: 1;position: relative;background-color: white;}#sk-container-id-1 div.sk-parallel-item:first-child::after {align-self: flex-end;width: 50%;}#sk-container-id-1 div.sk-parallel-item:last-child::after {align-self: flex-start;width: 50%;}#sk-container-id-1 div.sk-parallel-item:only-child::after {width: 0;}#sk-container-id-1 div.sk-dashed-wrapped {border: 1px dashed gray;margin: 0 0.4em 0.5em 0.4em;box-sizing: border-box;padding-bottom: 0.4em;background-color: white;}#sk-container-id-1 div.sk-label label {font-family: monospace;font-weight: bold;display: inline-block;line-height: 1.2em;}#sk-container-id-1 div.sk-label-container {text-align: center;}#sk-container-id-1 div.sk-container {/* jupyter's `normalize.less` sets `[hidden] { display: none; }` but bootstrap.min.css set `[hidden] { display: none !important; }` so we also need the `!important` here to be able to override the default hidden behavior on the sphinx rendered scikit-learn.org. See: https://github.com/scikit-learn/scikit-learn/issues/21755 */display: inline-block !important;position: relative;}#sk-container-id-1 div.sk-text-repr-fallback {display: none;}</style><div id=\"sk-container-id-1\" class=\"sk-top-container\"><div class=\"sk-text-repr-fallback\"><pre>CategoricalNB()</pre><b>In a Jupyter environment, please rerun this cell to show the HTML representation or trust the notebook. <br />On GitHub, the HTML representation is unable to render, please try loading this page with nbviewer.org.</b></div><div class=\"sk-container\" hidden><div class=\"sk-item\"><div class=\"sk-estimator sk-toggleable\"><input class=\"sk-toggleable__control sk-hidden--visually\" id=\"sk-estimator-id-1\" type=\"checkbox\" checked><label for=\"sk-estimator-id-1\" class=\"sk-toggleable__label sk-toggleable__label-arrow\">CategoricalNB</label><div class=\"sk-toggleable__content\"><pre>CategoricalNB()</pre></div></div></div></div></div>"
     },
     "execution_count": 6,
     "metadata": {},
     "output_type": "execute_result"
    }
   ],
   "source": [
    "#Import Categorical Navie Bays model\n",
    "from sklearn.naive_bayes import CategoricalNB\n",
    "\n",
    "#Creat the model\n",
    "model = CategoricalNB()\n",
    "\n",
    "#Train the model\n",
    "model.fit(features, encoded_play)"
   ],
   "metadata": {
    "collapsed": false
   }
  },
  {
   "cell_type": "markdown",
   "source": [
    "Our model is ready to be tested"
   ],
   "metadata": {
    "collapsed": false
   }
  },
  {
   "cell_type": "code",
   "execution_count": 7,
   "outputs": [
    {
     "name": "stdout",
     "output_type": "stream",
     "text": [
      "Can I play? ['Yes']\n",
      "Can I play? ['Yes']\n"
     ]
    }
   ],
   "source": [
    "#Predict Output (sunny and hot)\n",
    "predicted = model.predict([[0, 1]])  # 0:Overcast, 2:Mild\n",
    "print(\"Can I play?\", labelEncoder.inverse_transform(predicted))\n",
    "\n",
    "predicted = model.predict([[1, 0]])  # 0:rain, 2:cold\n",
    "print(\"Can I play?\", labelEncoder.inverse_transform(predicted))"
   ],
   "metadata": {
    "collapsed": false
   }
  },
  {
   "cell_type": "markdown",
   "source": [
    "Exercise 1\n",
    "\n",
    "In this exercise you will train a Navie Bayes model using the blood_tranfusion dataset https://github.com/INRIA/scikit-learn-mooc/blob/main/datasets/blood_transfusion.csv\n",
    "\n",
    "1) Import the blood_transfusion dataset, and display the donated and not donated samples\n",
    "2) Train your Naive Bayes model\n",
    "3) Predict the class for this following vectors (0, 500, 1000, 28) and (4,10, 4000, 64)"
   ],
   "metadata": {
    "collapsed": false
   }
  },
  {
   "cell_type": "code",
   "execution_count": 8,
   "outputs": [
    {
     "data": {
      "text/plain": "     Recency  Frequency  Monetary  Time        Class\n350       11          1       250    11  not donated\n440       16          3       750    46  not donated\n500        2         43     10750    86      donated\n144        4          2       500     9      donated\n198       11          7      1750    29  not donated\n224        4          1       250     4      donated\n289       14          3       750    19      donated\n626        9          9      2250    54  not donated\n459       21          1       250    21  not donated\n562        4         16      4000    98      donated",
      "text/html": "<div>\n<style scoped>\n    .dataframe tbody tr th:only-of-type {\n        vertical-align: middle;\n    }\n\n    .dataframe tbody tr th {\n        vertical-align: top;\n    }\n\n    .dataframe thead th {\n        text-align: right;\n    }\n</style>\n<table border=\"1\" class=\"dataframe\">\n  <thead>\n    <tr style=\"text-align: right;\">\n      <th></th>\n      <th>Recency</th>\n      <th>Frequency</th>\n      <th>Monetary</th>\n      <th>Time</th>\n      <th>Class</th>\n    </tr>\n  </thead>\n  <tbody>\n    <tr>\n      <th>350</th>\n      <td>11</td>\n      <td>1</td>\n      <td>250</td>\n      <td>11</td>\n      <td>not donated</td>\n    </tr>\n    <tr>\n      <th>440</th>\n      <td>16</td>\n      <td>3</td>\n      <td>750</td>\n      <td>46</td>\n      <td>not donated</td>\n    </tr>\n    <tr>\n      <th>500</th>\n      <td>2</td>\n      <td>43</td>\n      <td>10750</td>\n      <td>86</td>\n      <td>donated</td>\n    </tr>\n    <tr>\n      <th>144</th>\n      <td>4</td>\n      <td>2</td>\n      <td>500</td>\n      <td>9</td>\n      <td>donated</td>\n    </tr>\n    <tr>\n      <th>198</th>\n      <td>11</td>\n      <td>7</td>\n      <td>1750</td>\n      <td>29</td>\n      <td>not donated</td>\n    </tr>\n    <tr>\n      <th>224</th>\n      <td>4</td>\n      <td>1</td>\n      <td>250</td>\n      <td>4</td>\n      <td>donated</td>\n    </tr>\n    <tr>\n      <th>289</th>\n      <td>14</td>\n      <td>3</td>\n      <td>750</td>\n      <td>19</td>\n      <td>donated</td>\n    </tr>\n    <tr>\n      <th>626</th>\n      <td>9</td>\n      <td>9</td>\n      <td>2250</td>\n      <td>54</td>\n      <td>not donated</td>\n    </tr>\n    <tr>\n      <th>459</th>\n      <td>21</td>\n      <td>1</td>\n      <td>250</td>\n      <td>21</td>\n      <td>not donated</td>\n    </tr>\n    <tr>\n      <th>562</th>\n      <td>4</td>\n      <td>16</td>\n      <td>4000</td>\n      <td>98</td>\n      <td>donated</td>\n    </tr>\n  </tbody>\n</table>\n</div>"
     },
     "execution_count": 8,
     "metadata": {},
     "output_type": "execute_result"
    }
   ],
   "source": [
    "#Import the blood_transfusion dataset, and display the donated and not donated samples\n",
    "\n",
    "blood_transfusion = pd.read_csv(\"./datasets/blood_transfusion.csv\")\n",
    "\n",
    "blood_transfusion.sample(10)"
   ],
   "metadata": {
    "collapsed": false
   }
  },
  {
   "cell_type": "code",
   "execution_count": 9,
   "outputs": [
    {
     "data": {
      "text/plain": "CategoricalNB()",
      "text/html": "<style>#sk-container-id-2 {color: black;background-color: white;}#sk-container-id-2 pre{padding: 0;}#sk-container-id-2 div.sk-toggleable {background-color: white;}#sk-container-id-2 label.sk-toggleable__label {cursor: pointer;display: block;width: 100%;margin-bottom: 0;padding: 0.3em;box-sizing: border-box;text-align: center;}#sk-container-id-2 label.sk-toggleable__label-arrow:before {content: \"▸\";float: left;margin-right: 0.25em;color: #696969;}#sk-container-id-2 label.sk-toggleable__label-arrow:hover:before {color: black;}#sk-container-id-2 div.sk-estimator:hover label.sk-toggleable__label-arrow:before {color: black;}#sk-container-id-2 div.sk-toggleable__content {max-height: 0;max-width: 0;overflow: hidden;text-align: left;background-color: #f0f8ff;}#sk-container-id-2 div.sk-toggleable__content pre {margin: 0.2em;color: black;border-radius: 0.25em;background-color: #f0f8ff;}#sk-container-id-2 input.sk-toggleable__control:checked~div.sk-toggleable__content {max-height: 200px;max-width: 100%;overflow: auto;}#sk-container-id-2 input.sk-toggleable__control:checked~label.sk-toggleable__label-arrow:before {content: \"▾\";}#sk-container-id-2 div.sk-estimator input.sk-toggleable__control:checked~label.sk-toggleable__label {background-color: #d4ebff;}#sk-container-id-2 div.sk-label input.sk-toggleable__control:checked~label.sk-toggleable__label {background-color: #d4ebff;}#sk-container-id-2 input.sk-hidden--visually {border: 0;clip: rect(1px 1px 1px 1px);clip: rect(1px, 1px, 1px, 1px);height: 1px;margin: -1px;overflow: hidden;padding: 0;position: absolute;width: 1px;}#sk-container-id-2 div.sk-estimator {font-family: monospace;background-color: #f0f8ff;border: 1px dotted black;border-radius: 0.25em;box-sizing: border-box;margin-bottom: 0.5em;}#sk-container-id-2 div.sk-estimator:hover {background-color: #d4ebff;}#sk-container-id-2 div.sk-parallel-item::after {content: \"\";width: 100%;border-bottom: 1px solid gray;flex-grow: 1;}#sk-container-id-2 div.sk-label:hover label.sk-toggleable__label {background-color: #d4ebff;}#sk-container-id-2 div.sk-serial::before {content: \"\";position: absolute;border-left: 1px solid gray;box-sizing: border-box;top: 0;bottom: 0;left: 50%;z-index: 0;}#sk-container-id-2 div.sk-serial {display: flex;flex-direction: column;align-items: center;background-color: white;padding-right: 0.2em;padding-left: 0.2em;position: relative;}#sk-container-id-2 div.sk-item {position: relative;z-index: 1;}#sk-container-id-2 div.sk-parallel {display: flex;align-items: stretch;justify-content: center;background-color: white;position: relative;}#sk-container-id-2 div.sk-item::before, #sk-container-id-2 div.sk-parallel-item::before {content: \"\";position: absolute;border-left: 1px solid gray;box-sizing: border-box;top: 0;bottom: 0;left: 50%;z-index: -1;}#sk-container-id-2 div.sk-parallel-item {display: flex;flex-direction: column;z-index: 1;position: relative;background-color: white;}#sk-container-id-2 div.sk-parallel-item:first-child::after {align-self: flex-end;width: 50%;}#sk-container-id-2 div.sk-parallel-item:last-child::after {align-self: flex-start;width: 50%;}#sk-container-id-2 div.sk-parallel-item:only-child::after {width: 0;}#sk-container-id-2 div.sk-dashed-wrapped {border: 1px dashed gray;margin: 0 0.4em 0.5em 0.4em;box-sizing: border-box;padding-bottom: 0.4em;background-color: white;}#sk-container-id-2 div.sk-label label {font-family: monospace;font-weight: bold;display: inline-block;line-height: 1.2em;}#sk-container-id-2 div.sk-label-container {text-align: center;}#sk-container-id-2 div.sk-container {/* jupyter's `normalize.less` sets `[hidden] { display: none; }` but bootstrap.min.css set `[hidden] { display: none !important; }` so we also need the `!important` here to be able to override the default hidden behavior on the sphinx rendered scikit-learn.org. See: https://github.com/scikit-learn/scikit-learn/issues/21755 */display: inline-block !important;position: relative;}#sk-container-id-2 div.sk-text-repr-fallback {display: none;}</style><div id=\"sk-container-id-2\" class=\"sk-top-container\"><div class=\"sk-text-repr-fallback\"><pre>CategoricalNB()</pre><b>In a Jupyter environment, please rerun this cell to show the HTML representation or trust the notebook. <br />On GitHub, the HTML representation is unable to render, please try loading this page with nbviewer.org.</b></div><div class=\"sk-container\" hidden><div class=\"sk-item\"><div class=\"sk-estimator sk-toggleable\"><input class=\"sk-toggleable__control sk-hidden--visually\" id=\"sk-estimator-id-2\" type=\"checkbox\" checked><label for=\"sk-estimator-id-2\" class=\"sk-toggleable__label sk-toggleable__label-arrow\">CategoricalNB</label><div class=\"sk-toggleable__content\"><pre>CategoricalNB()</pre></div></div></div></div></div>"
     },
     "execution_count": 9,
     "metadata": {},
     "output_type": "execute_result"
    }
   ],
   "source": [
    "#Train your Naive Bayes model\n",
    "\n",
    "#creating labelEncoder\n",
    "labelEncoderBlood = preprocessing.LabelEncoder()\n",
    "\n",
    "# Converting string labels into numbers.\n",
    "encoded_recency = labelEncoderBlood.fit_transform(blood_transfusion['Recency'])\n",
    "encoded_frequency = labelEncoderBlood.fit_transform(blood_transfusion['Frequency'])\n",
    "encoded_monetary = labelEncoderBlood.fit_transform(blood_transfusion['Monetary'])\n",
    "encoded_time = labelEncoderBlood.fit_transform(blood_transfusion['Time'])\n",
    "encoded_class = labelEncoderBlood.fit_transform(blood_transfusion['Class'])\n",
    "\n",
    "#encoded features are the combined\n",
    "features_blood = [list(i) for i in zip(encoded_recency, encoded_frequency, encoded_monetary, encoded_time)]\n",
    "\n",
    "#Creat the model\n",
    "modelBlood = CategoricalNB()\n",
    "\n",
    "#Train the model\n",
    "modelBlood.fit(features_blood, encoded_class)"
   ],
   "metadata": {
    "collapsed": false
   }
  },
  {
   "cell_type": "code",
   "execution_count": 10,
   "outputs": [],
   "source": [
    "#Predict the class for this following vectors (0, 500, 1000, 28) and (4,10, 4000, 64)\n",
    "\n",
    "#Predict Output (0, 500, 1000, 28)\n",
    "##predicted = modelBlood.predict([[0, 500, 1000, 28]])\n",
    "##print(\"Can I donate?\", labelEncoderBlood.inverse_transform(predicted))\n",
    "\n",
    "#Predict Output (4,10, 4000, 64)\n",
    "##predicted = modelBlood.predict([[4, 10, 4000, 64]])\n",
    "##print(\"Can I donate?\", labelEncoderBlood.inverse_transform(predicted))"
   ],
   "metadata": {
    "collapsed": false
   }
  },
  {
   "cell_type": "markdown",
   "source": [
    "Exercise 2\n",
    "\n",
    "Marks secured by students in highschool are classified according to different caracteristics (gender, race, etc), take a look at the dataset : https://raw.githubusercontent.com/rashida048/Datasets/master/StudentsPerformance.csv\n",
    "\n",
    "1) Does parental level of education affect the reading score ?\n",
    "2) Does test preparation course help to score better ?\n",
    "3) What is the ethnicity of students ?\n",
    "4) Using th Navie Bayes method, train your model to predict the different scores (math, reading, writing) of the following students caracteristics :\n",
    "- [female, group A, some college, free/reduced, completed]\n",
    "- [male, group D, high school, standard, none]\n",
    "- [female, group B, associate's degree, standard, none]\n",
    "- [male, group C, master's degree, free/reduced, none]"
   ],
   "metadata": {
    "collapsed": false
   }
  },
  {
   "cell_type": "code",
   "execution_count": 11,
   "outputs": [
    {
     "name": "stdout",
     "output_type": "stream",
     "text": [
      "[['gender', array(['female', 'male'], dtype=object)], ['race/ethnicity', array(['group B', 'group C', 'group A', 'group D', 'group E'],\n",
      "      dtype=object)], ['parental level of education', array([\"bachelor's degree\", 'some college', \"master's degree\",\n",
      "       \"associate's degree\", 'high school', 'some high school'],\n",
      "      dtype=object)], ['lunch', array(['standard', 'free/reduced'], dtype=object)], ['test preparation course', array(['none', 'completed'], dtype=object)], ['math score', array([ 72,  69,  90,  47,  76,  71,  88,  40,  64,  38,  58,  65,  78,\n",
      "        50,  18,  46,  54,  66,  44,  74,  73,  67,  70,  62,  63,  56,\n",
      "        97,  81,  75,  57,  55,  53,  59,  82,  77,  33,  52,   0,  79,\n",
      "        39,  45,  60,  61,  41,  49,  30,  80,  42,  27,  43,  68,  85,\n",
      "        98,  87,  51,  99,  84,  91,  83,  89,  22, 100,  96,  94,  48,\n",
      "        35,  34,  86,  92,  37,  28,  24,  26,  95,  36,  29,  32,  93,\n",
      "        19,  23,   8])], ['reading score', array([ 72,  90,  95,  57,  78,  83,  43,  64,  60,  54,  52,  81,  53,\n",
      "        75,  89,  32,  42,  58,  69,  73,  71,  74,  70,  65,  87,  56,\n",
      "        61,  84,  55,  44,  41,  85,  59,  17,  39,  80,  37,  63,  51,\n",
      "        49,  26,  68,  45,  47,  86,  34,  79,  66,  67,  91, 100,  76,\n",
      "        77,  82,  92,  93,  62,  88,  50,  28,  48,  46,  23,  38,  94,\n",
      "        97,  99,  31,  96,  24,  29,  40])], ['writing score', array([ 74,  88,  93,  44,  75,  78,  92,  39,  67,  50,  52,  43,  73,\n",
      "        70,  58,  86,  28,  46,  61,  63,  53,  80,  72,  55,  65,  38,\n",
      "        82,  79,  83,  59,  57,  54,  68,  66,  62,  76,  48,  42,  87,\n",
      "        49,  10,  34,  71,  37,  56,  41,  22,  81,  45,  36,  89,  47,\n",
      "        90, 100,  64,  98,  51,  40,  84,  69,  33,  60,  85,  91,  77,\n",
      "        27,  94,  95,  19,  35,  32,  96,  97,  99,  15,  30,  23])]]\n"
     ]
    }
   ],
   "source": [
    "##Unique value of each column\n",
    "studentsPerformance = pd.read_csv(\"./datasets/StudentsPerformance.csv\")\n",
    "\n",
    "uniqueValeur = []\n",
    "\n",
    "for col in studentsPerformance.columns:\n",
    "    uniqueValeur.append([col, studentsPerformance[col].unique()])\n",
    "\n",
    "print(uniqueValeur)"
   ],
   "metadata": {
    "collapsed": false
   }
  },
  {
   "cell_type": "code",
   "execution_count": 12,
   "outputs": [
    {
     "name": "stdout",
     "output_type": "stream",
     "text": [
      "bachelor's degree  :  69.38983050847457\n",
      "some college  :  67.1283185840708\n",
      "master's degree  :  69.7457627118644\n",
      "associate's degree  :  67.88288288288288\n",
      "high school  :  62.13775510204081\n",
      "some high school  :  63.497206703910614\n"
     ]
    }
   ],
   "source": [
    "#Does parental level of education affect the reading score ?\n",
    "\n",
    "##Lire colonne Parental level of education : \"bachelor's degree\", 'some college', \"master's degree\", \"associate's degree\", 'high school', 'some high school'\n",
    "\n",
    "resScoreReading = []\n",
    "\n",
    "for element in uniqueValeur[2][1]:\n",
    "    resScoreReading.append([element, []])\n",
    "    for row in studentsPerformance.values:\n",
    "        if element == row[2]:\n",
    "            resScoreReading[-1][1].append(row[5])\n",
    "\n",
    "for element in resScoreReading:\n",
    "    print(element[0], \" : \", sum(element[1]) / len(element[1]))"
   ],
   "metadata": {
    "collapsed": false
   }
  },
  {
   "cell_type": "code",
   "execution_count": 13,
   "outputs": [
    {
     "name": "stdout",
     "output_type": "stream",
     "text": [
      "none :  64.0778816199377\n",
      "completed :  69.69553072625699\n"
     ]
    }
   ],
   "source": [
    "#Does test preparation course help to score better ?\n",
    "\n",
    "resPrepa = [[], []]  #0 = none, 1 = completed\n",
    "\n",
    "for row in studentsPerformance.values:\n",
    "    if row[4] == \"none\":\n",
    "        resPrepa[0].append(row[5])\n",
    "    else:\n",
    "        resPrepa[1].append(row[5])\n",
    "\n",
    "print(\"none : \", sum(resPrepa[0]) / len(resPrepa[0]))\n",
    "print(\"completed : \", sum(resPrepa[1]) / len(resPrepa[1]))"
   ],
   "metadata": {
    "collapsed": false
   }
  },
  {
   "cell_type": "code",
   "execution_count": 14,
   "outputs": [],
   "source": [
    "#What is the ethnicity of students ?\n"
   ],
   "metadata": {
    "collapsed": false
   }
  },
  {
   "cell_type": "code",
   "execution_count": 15,
   "outputs": [],
   "source": [
    "#Entraine model\n",
    "\n",
    "#creating labelEncoder\n",
    "labelEncoderScore = preprocessing.LabelEncoder()\n",
    "\n",
    "# Converting string labels into numbers.\n",
    "encoded_gender = labelEncoderScore.fit_transform(studentsPerformance['gender'])\n",
    "encoded_race = labelEncoderScore.fit_transform(studentsPerformance['race/ethnicity'])\n",
    "encoded_parental = labelEncoderScore.fit_transform(studentsPerformance['parental level of education'])\n",
    "encoded_lunch = labelEncoderScore.fit_transform(studentsPerformance['lunch'])\n",
    "encoded_prep = labelEncoderScore.fit_transform(studentsPerformance['test preparation course'])\n",
    "\n",
    "encoded_math = labelEncoderScore.fit_transform(studentsPerformance['math score'])\n",
    "encoded_reading = labelEncoderScore.fit_transform(studentsPerformance['reading score'])\n",
    "encoded_writing = labelEncoderScore.fit_transform(studentsPerformance['writing score'])\n",
    "\n",
    "#encoded_gender : female = 0, male = 1\n",
    "#encoded_race : A = 0, B = 1, C = 2, D = 3\n",
    "#encoded_parental : some college = 0, some high school = 1, high school = 2, associate's degree = 3, bachelor's degree = 4, master's degree = 5\n",
    "#encoded_lunch : standard = 0, free/reduced = 1\n",
    "#encoded_prep : none = 0, completed = 1\n",
    "\n",
    "#encoded features are the combined\n",
    "featuresStudent = [list(i) for i in zip(encoded_gender, encoded_race, encoded_parental, encoded_lunch, encoded_prep)]\n",
    "\n",
    "\n",
    "groupe = [encoded_math, encoded_reading, encoded_writing]\n",
    "matiere = [\"Maths\", \"Reading\", \"Writing\"]\n",
    "\n",
    "def note(groupe, param, matiere):\n",
    "    k = 0\n",
    "    for element in groupe:\n",
    "        #Creat the model\n",
    "        modelStudent = CategoricalNB()\n",
    "        #Train the model\n",
    "        modelStudent.fit(featuresStudent, element)\n",
    "        #Predict Output (sunny and hot)\n",
    "        predicted1 = modelStudent.predict(param)\n",
    "        print(\"Note ?\", matiere[k], labelEncoderScore.inverse_transform(predicted1))\n",
    "        k += 1\n"
   ],
   "metadata": {
    "collapsed": false
   }
  },
  {
   "cell_type": "code",
   "execution_count": 16,
   "outputs": [
    {
     "name": "stdout",
     "output_type": "stream",
     "text": [
      "[female, group A, some college, free/reduced, completed]\n",
      "Note ? Maths [69]\n",
      "Note ? Reading [69]\n",
      "Note ? Writing [73]\n",
      "Note ? Maths [78]\n",
      "Note ? Reading [62]\n",
      "Note ? Writing [60]\n",
      "female, group B, associate's degree, standard, none\n",
      "Note ? Maths [56]\n",
      "Note ? Reading [81]\n",
      "Note ? Writing [87]\n",
      "[male, group C, master's degree, free/reduced, none]\n",
      "Note ? Maths [71]\n",
      "Note ? Reading [80]\n",
      "Note ? Writing [77]\n"
     ]
    }
   ],
   "source": [
    "#Using th Navie Bayes method, train your model to predict the different scores (math, reading, writing) of the following students caracteristics :\n",
    "\n",
    "print('[female, group A, some college, free/reduced, completed]')\n",
    "note(groupe, [[0, 0, 0, 1, 1]], matiere)\n",
    "\n",
    "#[male, group D, high school, standard, none]\n",
    "note(groupe, [[1, 3, 2, 0, 0]], matiere)\n",
    "\n",
    "print('female, group B, associate\\'s degree, standard, none')\n",
    "note(groupe, [[0, 1, 3, 0, 0]], matiere)\n",
    "\n",
    "print('[male, group C, master\\'s degree, free/reduced, none]')\n",
    "\n",
    "note(groupe, [[1, 2, 5, 1, 0]], matiere)"
   ],
   "metadata": {
    "collapsed": false
   }
  },
  {
   "cell_type": "markdown",
   "source": [
    "2) LDA\n",
    "\n",
    "in this example we use the iris dataset to train an LDA model"
   ],
   "metadata": {
    "collapsed": false
   }
  },
  {
   "cell_type": "code",
   "execution_count": 17,
   "outputs": [],
   "source": [
    "#Import Library\n",
    "import numpy as np\n",
    "import pandas as pd\n",
    "from sklearn.datasets import load_iris\n",
    "from sklearn.discriminant_analysis import LinearDiscriminantAnalysis\n",
    "\n",
    "#load iris dataset\n",
    "iris = load_iris()\n",
    "\n",
    "#convert dataset to pandas dataframe\n",
    "df = pd.DataFrame(data = np.c_[iris['data'], iris['target']],\n",
    "                  columns = iris['feature_names'] + ['target'])\n",
    "df['species']= pd.Categorical.from_codes(iris.target, iris.target_names)\n",
    "df.columns = ['s_length', 's_width', 'p_length', 'p_width', 'target', 'species']\n",
    "\n",
    "x = df[['s_length', 's_width', 'p_length', 'p_width']]\n",
    "y = df['target']\n",
    "\n",
    "#difine data to plot\n",
    "X = iris.data\n",
    "Y = iris.target\n",
    "\n",
    "modelLDA = LinearDiscriminantAnalysis()\n",
    "data_plot = modelLDA.fit(X, y).transform(X)\n",
    "target_names = iris.target_names"
   ],
   "metadata": {
    "collapsed": false
   }
  },
  {
   "cell_type": "markdown",
   "source": [
    "After LDA transformation, we can plot our new dataset"
   ],
   "metadata": {
    "collapsed": false
   }
  },
  {
   "cell_type": "code",
   "execution_count": 19,
   "outputs": [
    {
     "name": "stdout",
     "output_type": "stream",
     "text": [
      "********************************** LDA Summary **********************************\n",
      "Classes:  [0. 1. 2.]\n",
      "Coefficients:  [[  6.31475846  12.13931718 -16.94642465 -20.77005459]\n",
      " [ -1.53119919  -4.37604348   4.69566531   3.06258539]\n",
      " [ -4.78355927  -7.7632737   12.25075935  17.7074692 ]]\n",
      "Explained Variance ratio:  [0.9912126 0.0087874]\n"
     ]
    },
    {
     "data": {
      "text/plain": "<Figure size 640x480 with 1 Axes>",
      "image/png": "[encoded data removed]"
     },
     "metadata": {},
     "output_type": "display_data"
    }
   ],
   "source": [
    "#create LDA plot\n",
    "\n",
    "import matplotlib.pyplot as plt\n",
    "plt.figure()\n",
    "colors = ['red', 'green', 'blue']\n",
    "lw = 2\n",
    "for color, i, target_name in zip(colors, [0, 1, 2], target_names):\n",
    "    plt.scatter(data_plot[Y == i, 0], data_plot[Y == i, 1], color=color, alpha=.8, lw=lw,\n",
    "                label=target_name)\n",
    "\n",
    "#add lengend to plot\n",
    "plt.legend(loc='best', shadow=False, scatterpoints=1)\n",
    "\n",
    "#add title to plot\n",
    "plt.title('LDA of IRIS dataset')\n",
    "\n",
    "print('********************************** LDA Summary **********************************')\n",
    "print('Classes: ', modelLDA.classes_)\n",
    "print('Coefficients: ', modelLDA.coef_)\n",
    "print('Explained Variance ratio: ', modelLDA.explained_variance_ratio_)\n",
    "\n",
    "#display LDA plot\n",
    "plt.show()"
   ],
   "metadata": {
    "collapsed": false
   }
  },
  {
   "cell_type": "markdown",
   "source": [
    "Exercice\n",
    "\n",
    "In this exercice, we will simplify and display a multicritera classification dataset. You will use a record of league of legends ranked games, you can explore and visualize the dataset from the following link : https://www.kaggle.com/datasets/gyejr95/league-of-legends-challenger-ranked-games2020 first import challenger dataset from the data explorer.\n",
    "\n",
    "1) Does having first blood affect on winning the game ?\n",
    "2) What is the average game duration of challenger ranked game ?\n",
    "3) Is your dataset separable based on winning and losing classification ?\n",
    "\n",
    "Optional :\n",
    "4) Merge the 3 datasets and add column relative to rank\n",
    "5) Is your dataset now seperable ?"
   ],
   "metadata": {
    "collapsed": false
   }
  },
  {
   "cell_type": "code",
   "execution_count": 20,
   "outputs": [
    {
     "ename": "IndexError",
     "evalue": "index 1 is out of bounds for axis 1 with size 1",
     "output_type": "error",
     "traceback": [
      "\u001B[0;31m---------------------------------------------------------------------------\u001B[0m",
      "\u001B[0;31mIndexError\u001B[0m                                Traceback (most recent call last)",
      "Cell \u001B[0;32mIn[20], line 27\u001B[0m\n\u001B[1;32m     25\u001B[0m lw \u001B[38;5;241m=\u001B[39m \u001B[38;5;241m2\u001B[39m\n\u001B[1;32m     26\u001B[0m \u001B[38;5;28;01mfor\u001B[39;00m color, i, target_name \u001B[38;5;129;01min\u001B[39;00m \u001B[38;5;28mzip\u001B[39m(colors, [\u001B[38;5;241m0\u001B[39m, \u001B[38;5;241m1\u001B[39m], target_namesLOL):\n\u001B[0;32m---> 27\u001B[0m     plt\u001B[38;5;241m.\u001B[39mscatter(data_plotLOL[YLOL \u001B[38;5;241m==\u001B[39m i, \u001B[38;5;241m0\u001B[39m], \u001B[43mdata_plotLOL\u001B[49m\u001B[43m[\u001B[49m\u001B[43mYLOL\u001B[49m\u001B[43m \u001B[49m\u001B[38;5;241;43m==\u001B[39;49m\u001B[43m \u001B[49m\u001B[43mi\u001B[49m\u001B[43m,\u001B[49m\u001B[43m \u001B[49m\u001B[38;5;241;43m1\u001B[39;49m\u001B[43m]\u001B[49m, color\u001B[38;5;241m=\u001B[39mcolor, alpha\u001B[38;5;241m=\u001B[39m\u001B[38;5;241m.8\u001B[39m, lw\u001B[38;5;241m=\u001B[39mlw,\n\u001B[1;32m     28\u001B[0m                 label\u001B[38;5;241m=\u001B[39mtarget_name)\n\u001B[1;32m     30\u001B[0m \u001B[38;5;66;03m#add lengend to plot\u001B[39;00m\n\u001B[1;32m     31\u001B[0m plt\u001B[38;5;241m.\u001B[39mlegend(loc\u001B[38;5;241m=\u001B[39m\u001B[38;5;124m'\u001B[39m\u001B[38;5;124mbest\u001B[39m\u001B[38;5;124m'\u001B[39m, shadow\u001B[38;5;241m=\u001B[39m\u001B[38;5;28;01mFalse\u001B[39;00m, scatterpoints\u001B[38;5;241m=\u001B[39m\u001B[38;5;241m1\u001B[39m)\n",
      "\u001B[0;31mIndexError\u001B[0m: index 1 is out of bounds for axis 1 with size 1"
     ]
    },
    {
     "data": {
      "text/plain": "<Figure size 640x480 with 0 Axes>"
     },
     "metadata": {},
     "output_type": "display_data"
    }
   ],
   "source": [
    "#1) Does having first blood affect on winning the game ?\n",
    "\n",
    "challenge = pd.read_csv(\"./datasets/leagueOfLegends/Challenger_Ranked_Games.csv\")\n",
    "\n",
    "#Faire une LDA pour voir si le fait d'avoir le premier blood influe sur la victoire\n",
    "dfLOL = pd.DataFrame(data = np.c_[challenge['blueFirstBlood'], challenge['redFirstBlood'], challenge['blueWins']],\n",
    "                  columns = ['blueFirstBlood', 'redFirstBlood'] + ['blueWins'])\n",
    "dfLOL['team'] = pd.Categorical.from_codes(challenge['blueWins'], ['blue', 'red'])\n",
    "dfLOL.columns = ['blueFirstBlood', 'redFirstBlood', 'blueWins', 'team']\n",
    "\n",
    "XLOL = dfLOL[['blueFirstBlood', 'redFirstBlood']]\n",
    "YLOL = dfLOL['team']\n",
    "\n",
    "#difine data to plot\n",
    "xLOL = dfLOL[['blueFirstBlood', 'redFirstBlood', 'blueWins']]\n",
    "yLOL = dfLOL['blueWins']\n",
    "\n",
    "modelLDALOL = LinearDiscriminantAnalysis()\n",
    "data_plotLOL = modelLDALOL.fit(XLOL, yLOL).transform(XLOL)\n",
    "target_namesLOL = dfLOL['team'].unique()\n",
    "\n",
    "#create LDA plot\n",
    "plt.figure()\n",
    "colors = ['red', 'green']\n",
    "lw = 2\n",
    "for color, i, target_name in zip(colors, [0, 1], target_namesLOL):\n",
    "    plt.scatter(data_plotLOL[YLOL == i, 0], data_plotLOL[YLOL == i, 1], color=color, alpha=.8, lw=lw,\n",
    "                label=target_name)\n",
    "\n",
    "#add lengend to plot\n",
    "plt.legend(loc='best', shadow=False, scatterpoints=1)\n",
    "\n",
    "#add title to plot\n",
    "plt.title('LDA of League of Legends dataset')\n",
    "\n",
    "print('********************************** LDA Summary **********************************')\n",
    "print('Classes: ', modelLDALOL.classes_)\n",
    "print('Coefficients: ', modelLDALOL.coef_)\n",
    "print('Explained Variance ratio: ', modelLDALOL.explained_variance_ratio_)\n",
    "\n",
    "#display LDA plot\n",
    "plt.show()"
   ],
   "metadata": {
    "collapsed": false
   }
  },
  {
   "cell_type": "code",
   "execution_count": 21,
   "outputs": [
    {
     "name": "stdout",
     "output_type": "stream",
     "text": [
      "Average game duration :  1448.6536574487066\n"
     ]
    }
   ],
   "source": [
    "#2) What is the average game duration of challenger ranked game ?\n",
    "\n",
    "#average game duration\n",
    "print(\"Average game duration : \", challenge['gameDuraton'].mean())\n",
    "\n",
    "#sum = 0\n",
    "#for element in challenge['gameDuraton']:\n",
    "#    sum+= element\n",
    "#print(\"Average game duration : \", sum / len(challenge['gameDuraton']))"
   ],
   "metadata": {
    "collapsed": false
   }
  },
  {
   "cell_type": "markdown",
   "source": [
    "#3) Is your dataset separable based on winning and losing classification ?\n",
    "\n",
    "Non, car les données ne sont pas linéairement séparables"
   ],
   "metadata": {
    "collapsed": false
   }
  },
  {
   "cell_type": "markdown",
   "source": [
    "3. QDA\n",
    "\n",
    "The olivetti faces.\n",
    "\n",
    "We need to import the Olivetti faces dataset from sklearn.datasets. The dataset contains 400 images of 40 different people. Each image is 64x64 pixels. The dataset is already split into a training set (X_train, y_train) and a test set (X_test, y_test). The dataset is already normalized, so the pixel values are between 0 and 1.\n",
    "\n",
    "https://scikit-learn.org/stable/datasets/real_world.html?highlight=olivetti"
   ],
   "metadata": {
    "collapsed": false
   }
  },
  {
   "cell_type": "code",
   "execution_count": 22,
   "outputs": [
    {
     "name": "stdout",
     "output_type": "stream",
     "text": [
      "Dataset consists of 400 faces\n",
      "Each face has 4096 pixels\n",
      "Labels:  [ 0  1  2  3  4  5  6  7  8  9 10 11 12 13 14 15 16 17 18 19 20 21 22 23\n",
      " 24 25 26 27 28 29 30 31 32 33 34 35 36 37 38 39]\n"
     ]
    }
   ],
   "source": [
    "from sklearn.datasets import fetch_olivetti_faces\n",
    "\n",
    "faces, labels = fetch_olivetti_faces(return_X_y=True, shuffle=True, random_state=42)\n",
    "n_samples, n_features = faces.shape\n",
    "\n",
    "print(\"Dataset consists of %d faces\" % n_samples)\n",
    "print(\"Each face has %d pixels\" % n_features)\n",
    "\n",
    "#We can see all labels that exist in the dataset by runing this code\n",
    "\n",
    "import numpy as np\n",
    "print(\"Labels: \", np.unique(labels))"
   ],
   "metadata": {
    "collapsed": false
   }
  }
 ],
 "metadata": {
  "kernelspec": {
   "display_name": "Python 3",
   "language": "python",
   "name": "python3"
  },
  "language_info": {
   "codemirror_mode": {
    "name": "ipython",
    "version": 2
   },
   "file_extension": ".py",
   "mimetype": "text/x-python",
   "name": "python",
   "nbconvert_exporter": "python",
   "pygments_lexer": "ipython2",
   "version": "2.7.6"
  }
 },
 "nbformat": 4,
 "nbformat_minor": 0
}
