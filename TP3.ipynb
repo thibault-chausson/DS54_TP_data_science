{
 "cells": [
  {
   "cell_type": "markdown",
   "source": [
    "Lab Session 3\n",
    "\n",
    "1) Navie Bayes\n",
    "\n",
    "In this example, we will use the Naive Bayes algorithm to predict whether a person will play or not based on the weather conditions. The dataset contains the following attributes:"
   ],
   "metadata": {
    "collapsed": false
   }
  },
  {
   "cell_type": "code",
   "execution_count": 1,
   "outputs": [
    {
     "data": {
      "text/plain": "     weather temperature play\n0      sunny         Hot   No\n1      sunny         Hot   No\n2   overcast         Hot  Yes\n3      rainy        Mild  Yes\n4      rainy        Cool  Yes\n5      rainy        Cool   No\n6   overcast        Cool  Yes\n7      sunny        Mild  Yes\n8      sunny        Cool  Yes\n9      rainy        Mild  Yes\n10     sunny        Mild  Yes\n11  overcast        Mild  Yes\n12  overcast         Hot  Yes\n13     rainy        Mild   No",
      "text/html": "<div>\n<style scoped>\n    .dataframe tbody tr th:only-of-type {\n        vertical-align: middle;\n    }\n\n    .dataframe tbody tr th {\n        vertical-align: top;\n    }\n\n    .dataframe thead th {\n        text-align: right;\n    }\n</style>\n<table border=\"1\" class=\"dataframe\">\n  <thead>\n    <tr style=\"text-align: right;\">\n      <th></th>\n      <th>weather</th>\n      <th>temperature</th>\n      <th>play</th>\n    </tr>\n  </thead>\n  <tbody>\n    <tr>\n      <th>0</th>\n      <td>sunny</td>\n      <td>Hot</td>\n      <td>No</td>\n    </tr>\n    <tr>\n      <th>1</th>\n      <td>sunny</td>\n      <td>Hot</td>\n      <td>No</td>\n    </tr>\n    <tr>\n      <th>2</th>\n      <td>overcast</td>\n      <td>Hot</td>\n      <td>Yes</td>\n    </tr>\n    <tr>\n      <th>3</th>\n      <td>rainy</td>\n      <td>Mild</td>\n      <td>Yes</td>\n    </tr>\n    <tr>\n      <th>4</th>\n      <td>rainy</td>\n      <td>Cool</td>\n      <td>Yes</td>\n    </tr>\n    <tr>\n      <th>5</th>\n      <td>rainy</td>\n      <td>Cool</td>\n      <td>No</td>\n    </tr>\n    <tr>\n      <th>6</th>\n      <td>overcast</td>\n      <td>Cool</td>\n      <td>Yes</td>\n    </tr>\n    <tr>\n      <th>7</th>\n      <td>sunny</td>\n      <td>Mild</td>\n      <td>Yes</td>\n    </tr>\n    <tr>\n      <th>8</th>\n      <td>sunny</td>\n      <td>Cool</td>\n      <td>Yes</td>\n    </tr>\n    <tr>\n      <th>9</th>\n      <td>rainy</td>\n      <td>Mild</td>\n      <td>Yes</td>\n    </tr>\n    <tr>\n      <th>10</th>\n      <td>sunny</td>\n      <td>Mild</td>\n      <td>Yes</td>\n    </tr>\n    <tr>\n      <th>11</th>\n      <td>overcast</td>\n      <td>Mild</td>\n      <td>Yes</td>\n    </tr>\n    <tr>\n      <th>12</th>\n      <td>overcast</td>\n      <td>Hot</td>\n      <td>Yes</td>\n    </tr>\n    <tr>\n      <th>13</th>\n      <td>rainy</td>\n      <td>Mild</td>\n      <td>No</td>\n    </tr>\n  </tbody>\n</table>\n</div>"
     },
     "metadata": {},
     "output_type": "display_data"
    }
   ],
   "source": [
    "import pandas as pd\n",
    "\n",
    "#Creat dataset\n",
    "Weather_dataset = {\n",
    "    'weather': ['sunny', 'sunny', 'overcast', 'rainy', 'rainy', 'rainy', 'overcast', 'sunny', 'sunny', 'rainy', 'sunny',\n",
    "                'overcast', 'overcast', 'rainy'],\n",
    "    'temperature': ['Hot', 'Hot', 'Hot', 'Mild', 'Cool', 'Cool', 'Cool', 'Mild', 'Cool', 'Mild', 'Mild', 'Mild', 'Hot',\n",
    "                    'Mild'],\n",
    "    'play': ['No', 'No', 'Yes', 'Yes', 'Yes', 'No', 'Yes', 'Yes', 'Yes', 'Yes', 'Yes', 'Yes', 'Yes', 'No']\n",
    "}\n",
    "Weather_dataset = pd.DataFrame(Weather_dataset)\n",
    "\n",
    "display(Weather_dataset)"
   ],
   "metadata": {
    "collapsed": false
   }
  },
  {
   "cell_type": "markdown",
   "source": [
    "We need to encode the features [Weather, Temperature], and target by converting string labels into numbers."
   ],
   "metadata": {
    "collapsed": false
   }
  },
  {
   "cell_type": "code",
   "execution_count": 2,
   "outputs": [
    {
     "data": {
      "text/plain": "(array([2, 2, 0, 1, 1, 1, 0, 2, 2, 1, 2, 0, 0, 1]),\n array([1, 1, 1, 2, 0, 0, 0, 2, 0, 2, 2, 2, 1, 2]),\n array([0, 0, 1, 1, 1, 0, 1, 1, 1, 1, 1, 1, 1, 0]))"
     },
     "execution_count": 2,
     "metadata": {},
     "output_type": "execute_result"
    }
   ],
   "source": [
    "#Import LabelEncoder\n",
    "from sklearn import preprocessing\n",
    "\n",
    "#creating labelEncoder\n",
    "labelEncoder = preprocessing.LabelEncoder()\n",
    "\n",
    "# Converting string labels into numbers.\n",
    "encoded_weather = labelEncoder.fit_transform(Weather_dataset['weather'])\n",
    "encoded_temperature = labelEncoder.fit_transform(Weather_dataset['temperature'])\n",
    "encoded_play = labelEncoder.fit_transform(Weather_dataset['play'])\n",
    "\n",
    "#print data\n",
    "encoded_weather, encoded_temperature, encoded_play"
   ],
   "metadata": {
    "collapsed": false
   }
  },
  {
   "cell_type": "code",
   "execution_count": 3,
   "outputs": [],
   "source": [
    "#encoded features are the combined\n",
    "features = [list(i) for i in zip(encoded_weather, encoded_temperature)]"
   ],
   "metadata": {
    "collapsed": false
   }
  },
  {
   "cell_type": "markdown",
   "source": [
    "Next we generate a model using navie bayes classifier"
   ],
   "metadata": {
    "collapsed": false
   }
  },
  {
   "cell_type": "code",
   "execution_count": 4,
   "outputs": [
    {
     "data": {
      "text/plain": "CategoricalNB()"
     },
     "execution_count": 4,
     "metadata": {},
     "output_type": "execute_result"
    }
   ],
   "source": [
    "#Import Categorical Navie Bays model\n",
    "from sklearn.naive_bayes import CategoricalNB\n",
    "\n",
    "#Creat the model\n",
    "model = CategoricalNB()\n",
    "\n",
    "#Train the model\n",
    "model.fit(features, encoded_play)"
   ],
   "metadata": {
    "collapsed": false
   }
  },
  {
   "cell_type": "markdown",
   "source": [
    "Our model is ready to be tested"
   ],
   "metadata": {
    "collapsed": false
   }
  },
  {
   "cell_type": "code",
   "execution_count": 7,
   "outputs": [
    {
     "name": "stdout",
     "output_type": "stream",
     "text": [
      "Can I play? ['Yes']\n",
      "Can I play? ['Yes']\n"
     ]
    }
   ],
   "source": [
    "#Predict Output (sunny and hot)\n",
    "predicted = model.predict([[0, 1]])  # 0:Overcast, 2:Mild\n",
    "print(\"Can I play?\", labelEncoder.inverse_transform(predicted))\n",
    "\n",
    "predicted = model.predict([[1, 0]])  # 0:rain, 2:cold\n",
    "print(\"Can I play?\", labelEncoder.inverse_transform(predicted))"
   ],
   "metadata": {
    "collapsed": false
   }
  },
  {
   "cell_type": "markdown",
   "source": [
    "Exercise 1\n",
    "\n",
    "In this exercise you will train a Navie Bayes model using the blood_tranfusion dataset https://github.com/INRIA/scikit-learn-mooc/blob/main/datasets/blood_transfusion.csv\n",
    "\n",
    "1) Import the blood_transfusion dataset, and display the donated and not donated samples\n",
    "2) Train your Naive Bayes model\n",
    "3) Predict the class for this following vectors (0, 500, 1000, 28) and (4,10, 4000, 64)"
   ],
   "metadata": {
    "collapsed": false
   }
  },
  {
   "cell_type": "code",
   "execution_count": 8,
   "outputs": [
    {
     "data": {
      "text/plain": "     Recency  Frequency  Monetary  Time        Class\n747       72          1       250    72  not donated\n219        4          1       250     4  not donated\n229        4          1       250     4  not donated\n452       23          2       500    28  not donated\n175       11         10      2500    35  not donated\n477       23          1       250    23  not donated\n623       11          6      1500    28  not donated\n516        3          5      1250    12      donated\n489       21          3       750    64  not donated\n536        2          7      1750    32      donated",
      "text/html": "<div>\n<style scoped>\n    .dataframe tbody tr th:only-of-type {\n        vertical-align: middle;\n    }\n\n    .dataframe tbody tr th {\n        vertical-align: top;\n    }\n\n    .dataframe thead th {\n        text-align: right;\n    }\n</style>\n<table border=\"1\" class=\"dataframe\">\n  <thead>\n    <tr style=\"text-align: right;\">\n      <th></th>\n      <th>Recency</th>\n      <th>Frequency</th>\n      <th>Monetary</th>\n      <th>Time</th>\n      <th>Class</th>\n    </tr>\n  </thead>\n  <tbody>\n    <tr>\n      <th>747</th>\n      <td>72</td>\n      <td>1</td>\n      <td>250</td>\n      <td>72</td>\n      <td>not donated</td>\n    </tr>\n    <tr>\n      <th>219</th>\n      <td>4</td>\n      <td>1</td>\n      <td>250</td>\n      <td>4</td>\n      <td>not donated</td>\n    </tr>\n    <tr>\n      <th>229</th>\n      <td>4</td>\n      <td>1</td>\n      <td>250</td>\n      <td>4</td>\n      <td>not donated</td>\n    </tr>\n    <tr>\n      <th>452</th>\n      <td>23</td>\n      <td>2</td>\n      <td>500</td>\n      <td>28</td>\n      <td>not donated</td>\n    </tr>\n    <tr>\n      <th>175</th>\n      <td>11</td>\n      <td>10</td>\n      <td>2500</td>\n      <td>35</td>\n      <td>not donated</td>\n    </tr>\n    <tr>\n      <th>477</th>\n      <td>23</td>\n      <td>1</td>\n      <td>250</td>\n      <td>23</td>\n      <td>not donated</td>\n    </tr>\n    <tr>\n      <th>623</th>\n      <td>11</td>\n      <td>6</td>\n      <td>1500</td>\n      <td>28</td>\n      <td>not donated</td>\n    </tr>\n    <tr>\n      <th>516</th>\n      <td>3</td>\n      <td>5</td>\n      <td>1250</td>\n      <td>12</td>\n      <td>donated</td>\n    </tr>\n    <tr>\n      <th>489</th>\n      <td>21</td>\n      <td>3</td>\n      <td>750</td>\n      <td>64</td>\n      <td>not donated</td>\n    </tr>\n    <tr>\n      <th>536</th>\n      <td>2</td>\n      <td>7</td>\n      <td>1750</td>\n      <td>32</td>\n      <td>donated</td>\n    </tr>\n  </tbody>\n</table>\n</div>"
     },
     "execution_count": 8,
     "metadata": {},
     "output_type": "execute_result"
    }
   ],
   "source": [
    "#Import the blood_transfusion dataset, and display the donated and not donated samples\n",
    "\n",
    "blood_transfusion = pd.read_csv(\"./datasets/blood_transfusion.csv\")\n",
    "\n",
    "blood_transfusion.sample(10)"
   ],
   "metadata": {
    "collapsed": false
   }
  },
  {
   "cell_type": "code",
   "execution_count": 9,
   "outputs": [
    {
     "data": {
      "text/plain": "CategoricalNB()"
     },
     "execution_count": 9,
     "metadata": {},
     "output_type": "execute_result"
    }
   ],
   "source": [
    "#Train your Naive Bayes model\n",
    "\n",
    "#creating labelEncoder\n",
    "labelEncoderBlood = preprocessing.LabelEncoder()\n",
    "\n",
    "# Converting string labels into numbers.\n",
    "encoded_recency = labelEncoderBlood.fit_transform(blood_transfusion['Recency'])\n",
    "encoded_frequency = labelEncoderBlood.fit_transform(blood_transfusion['Frequency'])\n",
    "encoded_monetary = labelEncoderBlood.fit_transform(blood_transfusion['Monetary'])\n",
    "encoded_time = labelEncoderBlood.fit_transform(blood_transfusion['Time'])\n",
    "encoded_class = labelEncoderBlood.fit_transform(blood_transfusion['Class'])\n",
    "\n",
    "#encoded features are the combined\n",
    "features_blood = [list(i) for i in zip(encoded_recency, encoded_frequency, encoded_monetary, encoded_time)]\n",
    "\n",
    "#Creat the model\n",
    "modelBlood = CategoricalNB()\n",
    "\n",
    "#Train the model\n",
    "modelBlood.fit(features_blood, encoded_class)"
   ],
   "metadata": {
    "collapsed": false
   }
  },
  {
   "cell_type": "code",
   "execution_count": 10,
   "outputs": [
    {
     "ename": "IndexError",
     "evalue": "index 500 is out of bounds for axis 1 with size 33",
     "output_type": "error",
     "traceback": [
      "\u001B[0;31m---------------------------------------------------------------------------\u001B[0m",
      "\u001B[0;31mIndexError\u001B[0m                                Traceback (most recent call last)",
      "Cell \u001B[0;32mIn[10], line 4\u001B[0m\n\u001B[1;32m      1\u001B[0m \u001B[38;5;66;03m#Predict the class for this following vectors (0, 500, 1000, 28) and (4,10, 4000, 64)\u001B[39;00m\n\u001B[1;32m      2\u001B[0m \n\u001B[1;32m      3\u001B[0m \u001B[38;5;66;03m#Predict Output (0, 500, 1000, 28)\u001B[39;00m\n\u001B[0;32m----> 4\u001B[0m predicted \u001B[38;5;241m=\u001B[39m \u001B[43mmodelBlood\u001B[49m\u001B[38;5;241;43m.\u001B[39;49m\u001B[43mpredict\u001B[49m\u001B[43m(\u001B[49m\u001B[43m[\u001B[49m\u001B[43m[\u001B[49m\u001B[38;5;241;43m0\u001B[39;49m\u001B[43m,\u001B[49m\u001B[43m \u001B[49m\u001B[38;5;241;43m500\u001B[39;49m\u001B[43m,\u001B[49m\u001B[43m \u001B[49m\u001B[38;5;241;43m1000\u001B[39;49m\u001B[43m,\u001B[49m\u001B[43m \u001B[49m\u001B[38;5;241;43m28\u001B[39;49m\u001B[43m]\u001B[49m\u001B[43m]\u001B[49m\u001B[43m)\u001B[49m \n\u001B[1;32m      5\u001B[0m \u001B[38;5;28mprint\u001B[39m(\u001B[38;5;124m\"\u001B[39m\u001B[38;5;124mCan I donate?\u001B[39m\u001B[38;5;124m\"\u001B[39m, labelEncoderBlood\u001B[38;5;241m.\u001B[39minverse_transform(predicted))\n\u001B[1;32m      7\u001B[0m \u001B[38;5;66;03m#Predict Output (4,10, 4000, 64)\u001B[39;00m\n",
      "File \u001B[0;32m~/Documents/UTBM/2ème année ingénieur/Printemps/DS54/TP/venv/lib/python3.10/site-packages/sklearn/naive_bayes.py:83\u001B[0m, in \u001B[0;36m_BaseNB.predict\u001B[0;34m(self, X)\u001B[0m\n\u001B[1;32m     81\u001B[0m check_is_fitted(\u001B[38;5;28mself\u001B[39m)\n\u001B[1;32m     82\u001B[0m X \u001B[38;5;241m=\u001B[39m \u001B[38;5;28mself\u001B[39m\u001B[38;5;241m.\u001B[39m_check_X(X)\n\u001B[0;32m---> 83\u001B[0m jll \u001B[38;5;241m=\u001B[39m \u001B[38;5;28;43mself\u001B[39;49m\u001B[38;5;241;43m.\u001B[39;49m\u001B[43m_joint_log_likelihood\u001B[49m\u001B[43m(\u001B[49m\u001B[43mX\u001B[49m\u001B[43m)\u001B[49m\n\u001B[1;32m     84\u001B[0m \u001B[38;5;28;01mreturn\u001B[39;00m \u001B[38;5;28mself\u001B[39m\u001B[38;5;241m.\u001B[39mclasses_[np\u001B[38;5;241m.\u001B[39margmax(jll, axis\u001B[38;5;241m=\u001B[39m\u001B[38;5;241m1\u001B[39m)]\n",
      "File \u001B[0;32m~/Documents/UTBM/2ème année ingénieur/Printemps/DS54/TP/venv/lib/python3.10/site-packages/sklearn/naive_bayes.py:1461\u001B[0m, in \u001B[0;36mCategoricalNB._joint_log_likelihood\u001B[0;34m(self, X)\u001B[0m\n\u001B[1;32m   1459\u001B[0m \u001B[38;5;28;01mfor\u001B[39;00m i \u001B[38;5;129;01min\u001B[39;00m \u001B[38;5;28mrange\u001B[39m(\u001B[38;5;28mself\u001B[39m\u001B[38;5;241m.\u001B[39mn_features_in_):\n\u001B[1;32m   1460\u001B[0m     indices \u001B[38;5;241m=\u001B[39m X[:, i]\n\u001B[0;32m-> 1461\u001B[0m     jll \u001B[38;5;241m+\u001B[39m\u001B[38;5;241m=\u001B[39m \u001B[38;5;28;43mself\u001B[39;49m\u001B[38;5;241;43m.\u001B[39;49m\u001B[43mfeature_log_prob_\u001B[49m\u001B[43m[\u001B[49m\u001B[43mi\u001B[49m\u001B[43m]\u001B[49m\u001B[43m[\u001B[49m\u001B[43m:\u001B[49m\u001B[43m,\u001B[49m\u001B[43m \u001B[49m\u001B[43mindices\u001B[49m\u001B[43m]\u001B[49m\u001B[38;5;241m.\u001B[39mT\n\u001B[1;32m   1462\u001B[0m total_ll \u001B[38;5;241m=\u001B[39m jll \u001B[38;5;241m+\u001B[39m \u001B[38;5;28mself\u001B[39m\u001B[38;5;241m.\u001B[39mclass_log_prior_\n\u001B[1;32m   1463\u001B[0m \u001B[38;5;28;01mreturn\u001B[39;00m total_ll\n",
      "\u001B[0;31mIndexError\u001B[0m: index 500 is out of bounds for axis 1 with size 33"
     ]
    }
   ],
   "source": [
    "#Predict the class for this following vectors (0, 500, 1000, 28) and (4,10, 4000, 64)\n",
    "\n",
    "#Predict Output (0, 500, 1000, 28)\n",
    "predicted = modelBlood.predict([[0, 500, 1000, 28]])\n",
    "print(\"Can I donate?\", labelEncoderBlood.inverse_transform(predicted))\n",
    "\n",
    "#Predict Output (4,10, 4000, 64)\n",
    "predicted = modelBlood.predict([[4, 10, 4000, 64]])\n",
    "print(\"Can I donate?\", labelEncoderBlood.inverse_transform(predicted))"
   ],
   "metadata": {
    "collapsed": false
   }
  },
  {
   "cell_type": "markdown",
   "source": [
    "Exercise 2\n",
    "\n",
    "Marks secured by students in highschool are classified according to different caracteristics (gender, race, etc), take a look at the dataset : https://raw.githubusercontent.com/rashida048/Datasets/master/StudentsPerformance.csv\n",
    "\n",
    "1) Does parental level of education affect the reading score ?\n",
    "2) Does test preparation course help to score better ?\n",
    "3) What is the ethnicity of students ?\n",
    "4) Using th Navie Bayes method, train your model to predict the different scores (math, reading, writing) of the following students caracteristics :\n",
    "- [female, group A, some college, free/reduced, completed]\n",
    "- [male, group D, high school, standard, none]\n",
    "- [female, group B, associate's degree, standard, none]\n",
    "- [male, group C, master's degree, free/reduced, none]"
   ],
   "metadata": {
    "collapsed": false
   }
  },
  {
   "cell_type": "code",
   "execution_count": 18,
   "outputs": [
    {
     "name": "stdout",
     "output_type": "stream",
     "text": [
      "[['gender', array(['female', 'male'], dtype=object)], ['race/ethnicity', array(['group B', 'group C', 'group A', 'group D', 'group E'],\n",
      "      dtype=object)], ['parental level of education', array([\"bachelor's degree\", 'some college', \"master's degree\",\n",
      "       \"associate's degree\", 'high school', 'some high school'],\n",
      "      dtype=object)], ['lunch', array(['standard', 'free/reduced'], dtype=object)], ['test preparation course', array(['none', 'completed'], dtype=object)], ['math score', array([ 72,  69,  90,  47,  76,  71,  88,  40,  64,  38,  58,  65,  78,\n",
      "        50,  18,  46,  54,  66,  44,  74,  73,  67,  70,  62,  63,  56,\n",
      "        97,  81,  75,  57,  55,  53,  59,  82,  77,  33,  52,   0,  79,\n",
      "        39,  45,  60,  61,  41,  49,  30,  80,  42,  27,  43,  68,  85,\n",
      "        98,  87,  51,  99,  84,  91,  83,  89,  22, 100,  96,  94,  48,\n",
      "        35,  34,  86,  92,  37,  28,  24,  26,  95,  36,  29,  32,  93,\n",
      "        19,  23,   8])], ['reading score', array([ 72,  90,  95,  57,  78,  83,  43,  64,  60,  54,  52,  81,  53,\n",
      "        75,  89,  32,  42,  58,  69,  73,  71,  74,  70,  65,  87,  56,\n",
      "        61,  84,  55,  44,  41,  85,  59,  17,  39,  80,  37,  63,  51,\n",
      "        49,  26,  68,  45,  47,  86,  34,  79,  66,  67,  91, 100,  76,\n",
      "        77,  82,  92,  93,  62,  88,  50,  28,  48,  46,  23,  38,  94,\n",
      "        97,  99,  31,  96,  24,  29,  40])], ['writing score', array([ 74,  88,  93,  44,  75,  78,  92,  39,  67,  50,  52,  43,  73,\n",
      "        70,  58,  86,  28,  46,  61,  63,  53,  80,  72,  55,  65,  38,\n",
      "        82,  79,  83,  59,  57,  54,  68,  66,  62,  76,  48,  42,  87,\n",
      "        49,  10,  34,  71,  37,  56,  41,  22,  81,  45,  36,  89,  47,\n",
      "        90, 100,  64,  98,  51,  40,  84,  69,  33,  60,  85,  91,  77,\n",
      "        27,  94,  95,  19,  35,  32,  96,  97,  99,  15,  30,  23])]]\n"
     ]
    }
   ],
   "source": [
    "##Unique value of each column\n",
    "studentsPerformance = pd.read_csv(\"./datasets/StudentsPerformance.csv\")\n",
    "\n",
    "uniqueValeur = []\n",
    "\n",
    "for col in studentsPerformance.columns:\n",
    "    uniqueValeur.append([col, studentsPerformance[col].unique()])\n",
    "\n",
    "print(uniqueValeur)"
   ],
   "metadata": {
    "collapsed": false
   }
  },
  {
   "cell_type": "code",
   "execution_count": 25,
   "outputs": [
    {
     "name": "stdout",
     "output_type": "stream",
     "text": [
      "bachelor's degree  :  69.38983050847457\n",
      "some college  :  67.1283185840708\n",
      "master's degree  :  69.7457627118644\n",
      "associate's degree  :  67.88288288288288\n",
      "high school  :  62.13775510204081\n",
      "some high school  :  63.497206703910614\n"
     ]
    }
   ],
   "source": [
    "#Does parental level of education affect the reading score ?\n",
    "\n",
    "##Lire colonne Parental level of education : \"bachelor's degree\", 'some college', \"master's degree\", \"associate's degree\", 'high school', 'some high school'\n",
    "\n",
    "resScoreReading = []\n",
    "\n",
    "for element in uniqueValeur[2][1]:\n",
    "    resScoreReading.append([element, []])\n",
    "    for row in studentsPerformance.values:\n",
    "        if element == row[2]:\n",
    "            resScoreReading[-1][1].append(row[5])\n",
    "\n",
    "for element in resScoreReading:\n",
    "    print(element[0], \" : \", sum(element[1]) / len(element[1]))"
   ],
   "metadata": {
    "collapsed": false
   }
  },
  {
   "cell_type": "code",
   "execution_count": 26,
   "outputs": [
    {
     "name": "stdout",
     "output_type": "stream",
     "text": [
      "none :  64.0778816199377\n",
      "completed :  69.69553072625699\n"
     ]
    }
   ],
   "source": [
    "#Does test preparation course help to score better ?\n",
    "\n",
    "resPrepa = [[], []]  #0 = none, 1 = completed\n",
    "\n",
    "for row in studentsPerformance.values:\n",
    "    if row[4] == \"none\":\n",
    "        resPrepa[0].append(row[5])\n",
    "    else:\n",
    "        resPrepa[1].append(row[5])\n",
    "\n",
    "print(\"none : \", sum(resPrepa[0]) / len(resPrepa[0]))\n",
    "print(\"completed : \", sum(resPrepa[1]) / len(resPrepa[1]))"
   ],
   "metadata": {
    "collapsed": false
   }
  },
  {
   "cell_type": "code",
   "execution_count": null,
   "outputs": [],
   "source": [
    "#What is the ethnicity of students ?\n"
   ],
   "metadata": {
    "collapsed": false
   }
  },
  {
   "cell_type": "code",
   "execution_count": 55,
   "outputs": [],
   "source": [
    "#Entraine model\n",
    "\n",
    "#creating labelEncoder\n",
    "labelEncoderScore = preprocessing.LabelEncoder()\n",
    "\n",
    "# Converting string labels into numbers.\n",
    "encoded_gender = labelEncoderScore.fit_transform(studentsPerformance['gender'])\n",
    "encoded_race = labelEncoderScore.fit_transform(studentsPerformance['race/ethnicity'])\n",
    "encoded_parental = labelEncoderScore.fit_transform(studentsPerformance['parental level of education'])\n",
    "encoded_lunch = labelEncoderScore.fit_transform(studentsPerformance['lunch'])\n",
    "encoded_prep = labelEncoderScore.fit_transform(studentsPerformance['test preparation course'])\n",
    "\n",
    "encoded_math = labelEncoderScore.fit_transform(studentsPerformance['math score'])\n",
    "encoded_reading = labelEncoderScore.fit_transform(studentsPerformance['reading score'])\n",
    "encoded_writing = labelEncoderScore.fit_transform(studentsPerformance['writing score'])\n",
    "\n",
    "#encoded_gender : female = 0, male = 1\n",
    "#encoded_race : A = 0, B = 1, C = 2, D = 3\n",
    "#encoded_parental : some college = 0, some high school = 1, high school = 2, associate's degree = 3, bachelor's degree = 4, master's degree = 5\n",
    "#encoded_lunch : standard = 0, free/reduced = 1\n",
    "#encoded_prep : none = 0, completed = 1\n",
    "\n",
    "#encoded features are the combined\n",
    "featuresStudent = [list(i) for i in zip(encoded_gender, encoded_race, encoded_parental, encoded_lunch, encoded_prep)]\n",
    "\n",
    "\n",
    "groupe = [encoded_math, encoded_reading, encoded_writing]\n",
    "matiere = [\"Maths\", \"Reading\", \"Writing\"]\n",
    "\n",
    "def note(groupe, param, matiere):\n",
    "    k = 0\n",
    "    for element in groupe:\n",
    "        #Creat the model\n",
    "        modelStudent = CategoricalNB()\n",
    "        #Train the model\n",
    "        modelStudent.fit(featuresStudent, element)\n",
    "        #Predict Output (sunny and hot)\n",
    "        predicted1 = modelStudent.predict(param)\n",
    "        print(\"Note ?\", matiere[k], labelEncoderScore.inverse_transform(predicted1))\n",
    "        k += 1\n"
   ],
   "metadata": {
    "collapsed": false
   }
  },
  {
   "cell_type": "code",
   "execution_count": 58,
   "outputs": [
    {
     "name": "stdout",
     "output_type": "stream",
     "text": [
      "[female, group A, some college, free/reduced, completed]\n",
      "Note ? Maths [69]\n",
      "Note ? Reading [69]\n",
      "Note ? Writing [73]\n",
      "Note ? Maths [78]\n",
      "Note ? Reading [62]\n",
      "Note ? Writing [60]\n",
      "female, group B, associate's degree, standard, none\n",
      "Note ? Maths [56]\n",
      "Note ? Reading [81]\n",
      "Note ? Writing [87]\n",
      "[male, group C, master's degree, free/reduced, none]\n",
      "Note ? Maths [71]\n",
      "Note ? Reading [80]\n",
      "Note ? Writing [77]\n"
     ]
    }
   ],
   "source": [
    "#Using th Navie Bayes method, train your model to predict the different scores (math, reading, writing) of the following students caracteristics :\n",
    "\n",
    "print('[female, group A, some college, free/reduced, completed]')\n",
    "note(groupe, [[0, 0, 0, 1, 1]], matiere)\n",
    "\n",
    "#[male, group D, high school, standard, none]\n",
    "note(groupe, [[1, 3, 2, 0, 0]], matiere)\n",
    "\n",
    "print('female, group B, associate\\'s degree, standard, none')\n",
    "note(groupe, [[0, 1, 3, 0, 0]], matiere)\n",
    "\n",
    "print('[male, group C, master\\'s degree, free/reduced, none]')\n",
    "\n",
    "note(groupe, [[1, 2, 5, 1, 0]], matiere)"
   ],
   "metadata": {
    "collapsed": false
   }
  },
  {
   "cell_type": "markdown",
   "source": [
    "2) LDA\n",
    "\n",
    "in this example we use the iris dataset to train an LDA model"
   ],
   "metadata": {
    "collapsed": false
   }
  },
  {
   "cell_type": "code",
   "execution_count": 62,
   "outputs": [],
   "source": [
    "#Import Library\n",
    "import numpy as np\n",
    "import pandas as pd\n",
    "from sklearn.datasets import load_iris\n",
    "from sklearn.discriminant_analysis import LinearDiscriminantAnalysis\n",
    "\n",
    "#load iris dataset\n",
    "iris = load_iris()\n",
    "\n",
    "#convert dataset to pandas dataframe\n",
    "df = pd.DataFrame(data = np.c_[iris['data'], iris['target']],\n",
    "                  columns = iris['feature_names'] + ['target'])\n",
    "df['species']= pd.Categorical.from_codes(iris.target, iris.target_names)\n",
    "df.columns = ['s_length', 's_width', 'p_length', 'p_width', 'target', 'species']\n",
    "\n",
    "x = df[['s_length', 's_width', 'p_length', 'p_width']]\n",
    "y = df['target']\n",
    "\n",
    "#difine data to plot\n",
    "X = iris.data\n",
    "Y = iris.target\n",
    "\n",
    "model = LinearDiscriminantAnalysis()\n",
    "data_plot = model.fit(X, y).transform(X)\n",
    "target_names = iris.target_names"
   ],
   "metadata": {
    "collapsed": false
   }
  },
  {
   "cell_type": "markdown",
   "source": [
    "After LDA transformation, we can plot our new dataset"
   ],
   "metadata": {
    "collapsed": false
   }
  }
 ],
 "metadata": {
  "kernelspec": {
   "display_name": "Python 3",
   "language": "python",
   "name": "python3"
  },
  "language_info": {
   "codemirror_mode": {
    "name": "ipython",
    "version": 2
   },
   "file_extension": ".py",
   "mimetype": "text/x-python",
   "name": "python",
   "nbconvert_exporter": "python",
   "pygments_lexer": "ipython2",
   "version": "2.7.6"
  }
 },
 "nbformat": 4,
 "nbformat_minor": 0
}
