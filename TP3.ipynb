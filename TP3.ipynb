{
 "cells": [
  {
   "cell_type": "markdown",
   "source": [
    "Lab Session 3\n",
    "\n",
    "1) Navie Bayes\n",
    "\n",
    "In this example, we will use the Naive Bayes algorithm to predict whether a person will play or not based on the weather conditions. The dataset contains the following attributes:"
   ],
   "metadata": {
    "collapsed": false
   }
  },
  {
   "cell_type": "code",
   "execution_count": 10,
   "outputs": [
    {
     "data": {
      "text/plain": "     weather temperature play\n0      sunny         Hot   No\n1      sunny         Hot   No\n2   overcast         Hot  Yes\n3      rainy        Mild  Yes\n4      rainy        Cool  Yes\n5      rainy        Cool   No\n6   overcast        Cool  Yes\n7      sunny        Mild  Yes\n8      sunny        Cool  Yes\n9      rainy        Mild  Yes\n10     sunny        Mild  Yes\n11  overcast        Mild  Yes\n12  overcast         Hot  Yes\n13     rainy        Mild   No",
      "text/html": "<div>\n<style scoped>\n    .dataframe tbody tr th:only-of-type {\n        vertical-align: middle;\n    }\n\n    .dataframe tbody tr th {\n        vertical-align: top;\n    }\n\n    .dataframe thead th {\n        text-align: right;\n    }\n</style>\n<table border=\"1\" class=\"dataframe\">\n  <thead>\n    <tr style=\"text-align: right;\">\n      <th></th>\n      <th>weather</th>\n      <th>temperature</th>\n      <th>play</th>\n    </tr>\n  </thead>\n  <tbody>\n    <tr>\n      <th>0</th>\n      <td>sunny</td>\n      <td>Hot</td>\n      <td>No</td>\n    </tr>\n    <tr>\n      <th>1</th>\n      <td>sunny</td>\n      <td>Hot</td>\n      <td>No</td>\n    </tr>\n    <tr>\n      <th>2</th>\n      <td>overcast</td>\n      <td>Hot</td>\n      <td>Yes</td>\n    </tr>\n    <tr>\n      <th>3</th>\n      <td>rainy</td>\n      <td>Mild</td>\n      <td>Yes</td>\n    </tr>\n    <tr>\n      <th>4</th>\n      <td>rainy</td>\n      <td>Cool</td>\n      <td>Yes</td>\n    </tr>\n    <tr>\n      <th>5</th>\n      <td>rainy</td>\n      <td>Cool</td>\n      <td>No</td>\n    </tr>\n    <tr>\n      <th>6</th>\n      <td>overcast</td>\n      <td>Cool</td>\n      <td>Yes</td>\n    </tr>\n    <tr>\n      <th>7</th>\n      <td>sunny</td>\n      <td>Mild</td>\n      <td>Yes</td>\n    </tr>\n    <tr>\n      <th>8</th>\n      <td>sunny</td>\n      <td>Cool</td>\n      <td>Yes</td>\n    </tr>\n    <tr>\n      <th>9</th>\n      <td>rainy</td>\n      <td>Mild</td>\n      <td>Yes</td>\n    </tr>\n    <tr>\n      <th>10</th>\n      <td>sunny</td>\n      <td>Mild</td>\n      <td>Yes</td>\n    </tr>\n    <tr>\n      <th>11</th>\n      <td>overcast</td>\n      <td>Mild</td>\n      <td>Yes</td>\n    </tr>\n    <tr>\n      <th>12</th>\n      <td>overcast</td>\n      <td>Hot</td>\n      <td>Yes</td>\n    </tr>\n    <tr>\n      <th>13</th>\n      <td>rainy</td>\n      <td>Mild</td>\n      <td>No</td>\n    </tr>\n  </tbody>\n</table>\n</div>"
     },
     "metadata": {},
     "output_type": "display_data"
    }
   ],
   "source": [
    "import pandas as pd\n",
    "\n",
    "#Creat dataset\n",
    "Weather_dataset = {\n",
    "    'weather': ['sunny', 'sunny', 'overcast', 'rainy', 'rainy', 'rainy', 'overcast', 'sunny', 'sunny', 'rainy', 'sunny',\n",
    "                'overcast', 'overcast', 'rainy'],\n",
    "    'temperature': ['Hot', 'Hot', 'Hot', 'Mild', 'Cool', 'Cool', 'Cool', 'Mild', 'Cool', 'Mild', 'Mild', 'Mild', 'Hot',\n",
    "                    'Mild'],\n",
    "    'play': ['No', 'No', 'Yes', 'Yes', 'Yes', 'No', 'Yes', 'Yes', 'Yes', 'Yes', 'Yes', 'Yes', 'Yes', 'No']\n",
    "}\n",
    "Weather_dataset = pd.DataFrame(Weather_dataset)\n",
    "\n",
    "display(Weather_dataset)"
   ],
   "metadata": {
    "collapsed": false
   }
  },
  {
   "cell_type": "markdown",
   "source": [
    "We need to encode the features [Weather, Temperature], and target by converting string labels into numbers."
   ],
   "metadata": {
    "collapsed": false
   }
  },
  {
   "cell_type": "code",
   "execution_count": 11,
   "outputs": [
    {
     "data": {
      "text/plain": "(array([2, 2, 0, 1, 1, 1, 0, 2, 2, 1, 2, 0, 0, 1]),\n array([1, 1, 1, 2, 0, 0, 0, 2, 0, 2, 2, 2, 1, 2]),\n array([0, 0, 1, 1, 1, 0, 1, 1, 1, 1, 1, 1, 1, 0]))"
     },
     "execution_count": 11,
     "metadata": {},
     "output_type": "execute_result"
    }
   ],
   "source": [
    "#Import LabelEncoder\n",
    "from sklearn import preprocessing\n",
    "\n",
    "#creating labelEncoder\n",
    "labelEncoder = preprocessing.LabelEncoder()\n",
    "\n",
    "# Converting string labels into numbers.\n",
    "encoded_weather = labelEncoder.fit_transform(Weather_dataset['weather'])\n",
    "encoded_temperature = labelEncoder.fit_transform(Weather_dataset['temperature'])\n",
    "encoded_play = labelEncoder.fit_transform(Weather_dataset['play'])\n",
    "\n",
    "#print data\n",
    "encoded_weather, encoded_temperature, encoded_play"
   ],
   "metadata": {
    "collapsed": false
   }
  },
  {
   "cell_type": "code",
   "execution_count": 12,
   "outputs": [],
   "source": [
    "#encoded features are the combined\n",
    "features = [list(i) for i in zip(encoded_weather, encoded_temperature)]"
   ],
   "metadata": {
    "collapsed": false
   }
  },
  {
   "cell_type": "markdown",
   "source": [
    "Next we generate a model using navie bayes classifier"
   ],
   "metadata": {
    "collapsed": false
   }
  },
  {
   "cell_type": "code",
   "execution_count": 13,
   "outputs": [
    {
     "data": {
      "text/plain": "CategoricalNB()"
     },
     "execution_count": 13,
     "metadata": {},
     "output_type": "execute_result"
    }
   ],
   "source": [
    "#Import Categorical Navie Bays model\n",
    "from sklearn.naive_bayes import CategoricalNB\n",
    "\n",
    "#Creat the model\n",
    "model = CategoricalNB()\n",
    "\n",
    "#Train the model\n",
    "model.fit(features, encoded_play)"
   ],
   "metadata": {
    "collapsed": false
   }
  },
  {
   "cell_type": "markdown",
   "source": [
    "Our model is ready to be tested"
   ],
   "metadata": {
    "collapsed": false
   }
  },
  {
   "cell_type": "code",
   "execution_count": 14,
   "outputs": [
    {
     "name": "stdout",
     "output_type": "stream",
     "text": [
      "Can I play? ['Yes']\n",
      "Can I play? ['Yes']\n"
     ]
    }
   ],
   "source": [
    "#Predict Output (sunny and hot)\n",
    "predicted = model.predict([[0, 1]])  # 0:Overcast, 2:Mild\n",
    "print(\"Can I play?\", labelEncoder.inverse_transform(predicted))\n",
    "\n",
    "predicted = model.predict([[1, 0]])  # 0:rain, 2:cold\n",
    "print(\"Can I play?\", labelEncoder.inverse_transform(predicted))"
   ],
   "metadata": {
    "collapsed": false
   }
  },
  {
   "cell_type": "markdown",
   "source": [
    "Exercise 1\n",
    "\n",
    "In this exercise you will train a Navie Bayes model using the blood_tranfusion dataset https://github.com/INRIA/scikit-learn-mooc/blob/main/datasets/blood_transfusion.csv\n",
    "\n",
    "1) Import the blood_transfusion dataset, and display the donated and not donated samples\n",
    "2) Train your Naive Bayes model\n",
    "3) Predict the class for this following vectors (0, 500, 1000, 28) and (4,10, 4000, 64)"
   ],
   "metadata": {
    "collapsed": false
   }
  },
  {
   "cell_type": "code",
   "execution_count": 15,
   "outputs": [
    {
     "data": {
      "text/plain": "     Recency  Frequency  Monetary  Time        Class\n468       22          1       250    22      donated\n66         2          4      1000    14      donated\n417       16          1       250    16  not donated\n318       11          9      2250    72      donated\n634       13          3       750    16  not donated\n216        4          1       250     4  not donated\n476       23          6      1500    70  not donated\n4          1         24      6000    77  not donated\n534        2          6      1500    26  not donated\n683       11          3       750    37  not donated",
      "text/html": "<div>\n<style scoped>\n    .dataframe tbody tr th:only-of-type {\n        vertical-align: middle;\n    }\n\n    .dataframe tbody tr th {\n        vertical-align: top;\n    }\n\n    .dataframe thead th {\n        text-align: right;\n    }\n</style>\n<table border=\"1\" class=\"dataframe\">\n  <thead>\n    <tr style=\"text-align: right;\">\n      <th></th>\n      <th>Recency</th>\n      <th>Frequency</th>\n      <th>Monetary</th>\n      <th>Time</th>\n      <th>Class</th>\n    </tr>\n  </thead>\n  <tbody>\n    <tr>\n      <th>468</th>\n      <td>22</td>\n      <td>1</td>\n      <td>250</td>\n      <td>22</td>\n      <td>donated</td>\n    </tr>\n    <tr>\n      <th>66</th>\n      <td>2</td>\n      <td>4</td>\n      <td>1000</td>\n      <td>14</td>\n      <td>donated</td>\n    </tr>\n    <tr>\n      <th>417</th>\n      <td>16</td>\n      <td>1</td>\n      <td>250</td>\n      <td>16</td>\n      <td>not donated</td>\n    </tr>\n    <tr>\n      <th>318</th>\n      <td>11</td>\n      <td>9</td>\n      <td>2250</td>\n      <td>72</td>\n      <td>donated</td>\n    </tr>\n    <tr>\n      <th>634</th>\n      <td>13</td>\n      <td>3</td>\n      <td>750</td>\n      <td>16</td>\n      <td>not donated</td>\n    </tr>\n    <tr>\n      <th>216</th>\n      <td>4</td>\n      <td>1</td>\n      <td>250</td>\n      <td>4</td>\n      <td>not donated</td>\n    </tr>\n    <tr>\n      <th>476</th>\n      <td>23</td>\n      <td>6</td>\n      <td>1500</td>\n      <td>70</td>\n      <td>not donated</td>\n    </tr>\n    <tr>\n      <th>4</th>\n      <td>1</td>\n      <td>24</td>\n      <td>6000</td>\n      <td>77</td>\n      <td>not donated</td>\n    </tr>\n    <tr>\n      <th>534</th>\n      <td>2</td>\n      <td>6</td>\n      <td>1500</td>\n      <td>26</td>\n      <td>not donated</td>\n    </tr>\n    <tr>\n      <th>683</th>\n      <td>11</td>\n      <td>3</td>\n      <td>750</td>\n      <td>37</td>\n      <td>not donated</td>\n    </tr>\n  </tbody>\n</table>\n</div>"
     },
     "execution_count": 15,
     "metadata": {},
     "output_type": "execute_result"
    }
   ],
   "source": [
    "#Import the blood_transfusion dataset, and display the donated and not donated samples\n",
    "\n",
    "blood_transfusion = pd.read_csv(\"./datasets/blood_transfusion.csv\")\n",
    "\n",
    "blood_transfusion.sample(10)"
   ],
   "metadata": {
    "collapsed": false
   }
  },
  {
   "cell_type": "code",
   "execution_count": 16,
   "outputs": [
    {
     "data": {
      "text/plain": "CategoricalNB()"
     },
     "execution_count": 16,
     "metadata": {},
     "output_type": "execute_result"
    }
   ],
   "source": [
    "#Train your Naive Bayes model\n",
    "\n",
    "#creating labelEncoder\n",
    "labelEncoderBlood = preprocessing.LabelEncoder()\n",
    "\n",
    "# Converting string labels into numbers.\n",
    "encoded_recency = labelEncoderBlood.fit_transform(blood_transfusion['Recency'])\n",
    "encoded_frequency = labelEncoderBlood.fit_transform(blood_transfusion['Frequency'])\n",
    "encoded_monetary = labelEncoderBlood.fit_transform(blood_transfusion['Monetary'])\n",
    "encoded_time = labelEncoderBlood.fit_transform(blood_transfusion['Time'])\n",
    "encoded_class = labelEncoderBlood.fit_transform(blood_transfusion['Class'])\n",
    "\n",
    "#encoded features are the combined\n",
    "features_blood = [list(i) for i in zip(encoded_recency, encoded_frequency, encoded_monetary, encoded_time)]\n",
    "\n",
    "#Creat the model\n",
    "modelBlood = CategoricalNB()\n",
    "\n",
    "#Train the model\n",
    "modelBlood.fit(features_blood, encoded_class)"
   ],
   "metadata": {
    "collapsed": false
   }
  },
  {
   "cell_type": "code",
   "execution_count": 17,
   "outputs": [],
   "source": [
    "#Predict the class for this following vectors (0, 500, 1000, 28) and (4,10, 4000, 64)\n",
    "\n",
    "#Predict Output (0, 500, 1000, 28)\n",
    "##predicted = modelBlood.predict([[0, 500, 1000, 28]])\n",
    "##print(\"Can I donate?\", labelEncoderBlood.inverse_transform(predicted))\n",
    "\n",
    "#Predict Output (4,10, 4000, 64)\n",
    "##predicted = modelBlood.predict([[4, 10, 4000, 64]])\n",
    "##print(\"Can I donate?\", labelEncoderBlood.inverse_transform(predicted))"
   ],
   "metadata": {
    "collapsed": false
   }
  },
  {
   "cell_type": "markdown",
   "source": [
    "Exercise 2\n",
    "\n",
    "Marks secured by students in highschool are classified according to different caracteristics (gender, race, etc), take a look at the dataset : https://raw.githubusercontent.com/rashida048/Datasets/master/StudentsPerformance.csv\n",
    "\n",
    "1) Does parental level of education affect the reading score ?\n",
    "2) Does test preparation course help to score better ?\n",
    "3) What is the ethnicity of students ?\n",
    "4) Using th Navie Bayes method, train your model to predict the different scores (math, reading, writing) of the following students caracteristics :\n",
    "- [female, group A, some college, free/reduced, completed]\n",
    "- [male, group D, high school, standard, none]\n",
    "- [female, group B, associate's degree, standard, none]\n",
    "- [male, group C, master's degree, free/reduced, none]"
   ],
   "metadata": {
    "collapsed": false
   }
  },
  {
   "cell_type": "code",
   "execution_count": 18,
   "outputs": [
    {
     "name": "stdout",
     "output_type": "stream",
     "text": [
      "[['gender', array(['female', 'male'], dtype=object)], ['race/ethnicity', array(['group B', 'group C', 'group A', 'group D', 'group E'],\n",
      "      dtype=object)], ['parental level of education', array([\"bachelor's degree\", 'some college', \"master's degree\",\n",
      "       \"associate's degree\", 'high school', 'some high school'],\n",
      "      dtype=object)], ['lunch', array(['standard', 'free/reduced'], dtype=object)], ['test preparation course', array(['none', 'completed'], dtype=object)], ['math score', array([ 72,  69,  90,  47,  76,  71,  88,  40,  64,  38,  58,  65,  78,\n",
      "        50,  18,  46,  54,  66,  44,  74,  73,  67,  70,  62,  63,  56,\n",
      "        97,  81,  75,  57,  55,  53,  59,  82,  77,  33,  52,   0,  79,\n",
      "        39,  45,  60,  61,  41,  49,  30,  80,  42,  27,  43,  68,  85,\n",
      "        98,  87,  51,  99,  84,  91,  83,  89,  22, 100,  96,  94,  48,\n",
      "        35,  34,  86,  92,  37,  28,  24,  26,  95,  36,  29,  32,  93,\n",
      "        19,  23,   8])], ['reading score', array([ 72,  90,  95,  57,  78,  83,  43,  64,  60,  54,  52,  81,  53,\n",
      "        75,  89,  32,  42,  58,  69,  73,  71,  74,  70,  65,  87,  56,\n",
      "        61,  84,  55,  44,  41,  85,  59,  17,  39,  80,  37,  63,  51,\n",
      "        49,  26,  68,  45,  47,  86,  34,  79,  66,  67,  91, 100,  76,\n",
      "        77,  82,  92,  93,  62,  88,  50,  28,  48,  46,  23,  38,  94,\n",
      "        97,  99,  31,  96,  24,  29,  40])], ['writing score', array([ 74,  88,  93,  44,  75,  78,  92,  39,  67,  50,  52,  43,  73,\n",
      "        70,  58,  86,  28,  46,  61,  63,  53,  80,  72,  55,  65,  38,\n",
      "        82,  79,  83,  59,  57,  54,  68,  66,  62,  76,  48,  42,  87,\n",
      "        49,  10,  34,  71,  37,  56,  41,  22,  81,  45,  36,  89,  47,\n",
      "        90, 100,  64,  98,  51,  40,  84,  69,  33,  60,  85,  91,  77,\n",
      "        27,  94,  95,  19,  35,  32,  96,  97,  99,  15,  30,  23])]]\n"
     ]
    }
   ],
   "source": [
    "##Unique value of each column\n",
    "studentsPerformance = pd.read_csv(\"./datasets/StudentsPerformance.csv\")\n",
    "\n",
    "uniqueValeur = []\n",
    "\n",
    "for col in studentsPerformance.columns:\n",
    "    uniqueValeur.append([col, studentsPerformance[col].unique()])\n",
    "\n",
    "print(uniqueValeur)"
   ],
   "metadata": {
    "collapsed": false
   }
  },
  {
   "cell_type": "code",
   "execution_count": 19,
   "outputs": [
    {
     "name": "stdout",
     "output_type": "stream",
     "text": [
      "bachelor's degree  :  69.38983050847457\n",
      "some college  :  67.1283185840708\n",
      "master's degree  :  69.7457627118644\n",
      "associate's degree  :  67.88288288288288\n",
      "high school  :  62.13775510204081\n",
      "some high school  :  63.497206703910614\n"
     ]
    }
   ],
   "source": [
    "#Does parental level of education affect the reading score ?\n",
    "\n",
    "##Lire colonne Parental level of education : \"bachelor's degree\", 'some college', \"master's degree\", \"associate's degree\", 'high school', 'some high school'\n",
    "\n",
    "resScoreReading = []\n",
    "\n",
    "for element in uniqueValeur[2][1]:\n",
    "    resScoreReading.append([element, []])\n",
    "    for row in studentsPerformance.values:\n",
    "        if element == row[2]:\n",
    "            resScoreReading[-1][1].append(row[5])\n",
    "\n",
    "for element in resScoreReading:\n",
    "    print(element[0], \" : \", sum(element[1]) / len(element[1]))"
   ],
   "metadata": {
    "collapsed": false
   }
  },
  {
   "cell_type": "code",
   "execution_count": 20,
   "outputs": [
    {
     "name": "stdout",
     "output_type": "stream",
     "text": [
      "none :  64.0778816199377\n",
      "completed :  69.69553072625699\n"
     ]
    }
   ],
   "source": [
    "#Does test preparation course help to score better ?\n",
    "\n",
    "resPrepa = [[], []]  #0 = none, 1 = completed\n",
    "\n",
    "for row in studentsPerformance.values:\n",
    "    if row[4] == \"none\":\n",
    "        resPrepa[0].append(row[5])\n",
    "    else:\n",
    "        resPrepa[1].append(row[5])\n",
    "\n",
    "print(\"none : \", sum(resPrepa[0]) / len(resPrepa[0]))\n",
    "print(\"completed : \", sum(resPrepa[1]) / len(resPrepa[1]))"
   ],
   "metadata": {
    "collapsed": false
   }
  },
  {
   "cell_type": "code",
   "execution_count": 21,
   "outputs": [],
   "source": [
    "#What is the ethnicity of students ?\n"
   ],
   "metadata": {
    "collapsed": false
   }
  },
  {
   "cell_type": "code",
   "execution_count": 22,
   "outputs": [],
   "source": [
    "#Entraine model\n",
    "\n",
    "#creating labelEncoder\n",
    "labelEncoderScore = preprocessing.LabelEncoder()\n",
    "\n",
    "# Converting string labels into numbers.\n",
    "encoded_gender = labelEncoderScore.fit_transform(studentsPerformance['gender'])\n",
    "encoded_race = labelEncoderScore.fit_transform(studentsPerformance['race/ethnicity'])\n",
    "encoded_parental = labelEncoderScore.fit_transform(studentsPerformance['parental level of education'])\n",
    "encoded_lunch = labelEncoderScore.fit_transform(studentsPerformance['lunch'])\n",
    "encoded_prep = labelEncoderScore.fit_transform(studentsPerformance['test preparation course'])\n",
    "\n",
    "encoded_math = labelEncoderScore.fit_transform(studentsPerformance['math score'])\n",
    "encoded_reading = labelEncoderScore.fit_transform(studentsPerformance['reading score'])\n",
    "encoded_writing = labelEncoderScore.fit_transform(studentsPerformance['writing score'])\n",
    "\n",
    "#encoded_gender : female = 0, male = 1\n",
    "#encoded_race : A = 0, B = 1, C = 2, D = 3\n",
    "#encoded_parental : some college = 0, some high school = 1, high school = 2, associate's degree = 3, bachelor's degree = 4, master's degree = 5\n",
    "#encoded_lunch : standard = 0, free/reduced = 1\n",
    "#encoded_prep : none = 0, completed = 1\n",
    "\n",
    "#encoded features are the combined\n",
    "featuresStudent = [list(i) for i in zip(encoded_gender, encoded_race, encoded_parental, encoded_lunch, encoded_prep)]\n",
    "\n",
    "\n",
    "groupe = [encoded_math, encoded_reading, encoded_writing]\n",
    "matiere = [\"Maths\", \"Reading\", \"Writing\"]\n",
    "\n",
    "def note(groupe, param, matiere):\n",
    "    k = 0\n",
    "    for element in groupe:\n",
    "        #Creat the model\n",
    "        modelStudent = CategoricalNB()\n",
    "        #Train the model\n",
    "        modelStudent.fit(featuresStudent, element)\n",
    "        #Predict Output (sunny and hot)\n",
    "        predicted1 = modelStudent.predict(param)\n",
    "        print(\"Note ?\", matiere[k], labelEncoderScore.inverse_transform(predicted1))\n",
    "        k += 1\n"
   ],
   "metadata": {
    "collapsed": false
   }
  },
  {
   "cell_type": "code",
   "execution_count": 23,
   "outputs": [
    {
     "name": "stdout",
     "output_type": "stream",
     "text": [
      "[female, group A, some college, free/reduced, completed]\n",
      "Note ? Maths [69]\n",
      "Note ? Reading [69]\n",
      "Note ? Writing [73]\n",
      "Note ? Maths [78]\n",
      "Note ? Reading [62]\n",
      "Note ? Writing [60]\n",
      "female, group B, associate's degree, standard, none\n",
      "Note ? Maths [56]\n",
      "Note ? Reading [81]\n",
      "Note ? Writing [87]\n",
      "[male, group C, master's degree, free/reduced, none]\n",
      "Note ? Maths [71]\n",
      "Note ? Reading [80]\n",
      "Note ? Writing [77]\n"
     ]
    }
   ],
   "source": [
    "#Using th Navie Bayes method, train your model to predict the different scores (math, reading, writing) of the following students caracteristics :\n",
    "\n",
    "print('[female, group A, some college, free/reduced, completed]')\n",
    "note(groupe, [[0, 0, 0, 1, 1]], matiere)\n",
    "\n",
    "#[male, group D, high school, standard, none]\n",
    "note(groupe, [[1, 3, 2, 0, 0]], matiere)\n",
    "\n",
    "print('female, group B, associate\\'s degree, standard, none')\n",
    "note(groupe, [[0, 1, 3, 0, 0]], matiere)\n",
    "\n",
    "print('[male, group C, master\\'s degree, free/reduced, none]')\n",
    "\n",
    "note(groupe, [[1, 2, 5, 1, 0]], matiere)"
   ],
   "metadata": {
    "collapsed": false
   }
  },
  {
   "cell_type": "markdown",
   "source": [
    "2) LDA\n",
    "\n",
    "in this example we use the iris dataset to train an LDA model"
   ],
   "metadata": {
    "collapsed": false
   }
  },
  {
   "cell_type": "code",
   "execution_count": 24,
   "outputs": [],
   "source": [
    "#Import Library\n",
    "import numpy as np\n",
    "import pandas as pd\n",
    "from sklearn.datasets import load_iris\n",
    "from sklearn.discriminant_analysis import LinearDiscriminantAnalysis\n",
    "\n",
    "#load iris dataset\n",
    "iris = load_iris()\n",
    "\n",
    "#convert dataset to pandas dataframe\n",
    "df = pd.DataFrame(data = np.c_[iris['data'], iris['target']],\n",
    "                  columns = iris['feature_names'] + ['target'])\n",
    "df['species']= pd.Categorical.from_codes(iris.target, iris.target_names)\n",
    "df.columns = ['s_length', 's_width', 'p_length', 'p_width', 'target', 'species']\n",
    "\n",
    "x = df[['s_length', 's_width', 'p_length', 'p_width']]\n",
    "y = df['target']\n",
    "\n",
    "#difine data to plot\n",
    "X = iris.data\n",
    "Y = iris.target\n",
    "\n",
    "modelLDA = LinearDiscriminantAnalysis()\n",
    "data_plot = modelLDA.fit(X, y).transform(X)\n",
    "target_names = iris.target_names"
   ],
   "metadata": {
    "collapsed": false
   }
  },
  {
   "cell_type": "markdown",
   "source": [
    "After LDA transformation, we can plot our new dataset"
   ],
   "metadata": {
    "collapsed": false
   }
  },
  {
   "cell_type": "code",
   "execution_count": 25,
   "outputs": [
    {
     "name": "stdout",
     "output_type": "stream",
     "text": [
      "********************************** LDA Summary **********************************\n",
      "Classes:  [0. 1. 2.]\n",
      "Coefficients:  [[  6.31475846  12.13931718 -16.94642465 -20.77005459]\n",
      " [ -1.53119919  -4.37604348   4.69566531   3.06258539]\n",
      " [ -4.78355927  -7.7632737   12.25075935  17.7074692 ]]\n",
      "Explained Variance ratio:  [0.9912126 0.0087874]\n"
     ]
    },
    {
     "data": {
      "text/plain": "<Figure size 640x480 with 1 Axes>",
      "image/png": "[encoded data removed]"
     },
     "metadata": {},
     "output_type": "display_data"
    }
   ],
   "source": [
    "#create LDA plot\n",
    "\n",
    "import matplotlib.pyplot as plt\n",
    "plt.figure()\n",
    "colors = ['red', 'green', 'blue']\n",
    "lw = 2\n",
    "for color, i, target_name in zip(colors, [0, 1, 2], target_names):\n",
    "    plt.scatter(data_plot[Y == i, 0], data_plot[Y == i, 1], color=color, alpha=.8, lw=lw,\n",
    "                label=target_name)\n",
    "\n",
    "#add lengend to plot\n",
    "plt.legend(loc='best', shadow=False, scatterpoints=1)\n",
    "\n",
    "#add title to plot\n",
    "plt.title('LDA of IRIS dataset')\n",
    "\n",
    "print('********************************** LDA Summary **********************************')\n",
    "print('Classes: ', modelLDA.classes_)\n",
    "print('Coefficients: ', modelLDA.coef_)\n",
    "print('Explained Variance ratio: ', modelLDA.explained_variance_ratio_)\n",
    "\n",
    "#display LDA plot\n",
    "plt.show()"
   ],
   "metadata": {
    "collapsed": false
   }
  },
  {
   "cell_type": "markdown",
   "source": [
    "Exercice\n",
    "\n",
    "In this exercice, we will simplify and display a multicritera classification dataset. You will use a record of league of legends ranked games, you can explore and visualize the dataset from the following link : https://www.kaggle.com/datasets/gyejr95/league-of-legends-challenger-ranked-games2020 first import challenger dataset from the data explorer.\n",
    "\n",
    "1) Does having first blood affect on winning the game ?\n",
    "2) What is the average game duration of challenger ranked game ?\n",
    "3) Is your dataset separable based on winning and losing classification ?\n",
    "\n",
    "Optional :\n",
    "4) Merge the 3 datasets and add column relative to rank\n",
    "5) Is your dataset now seperable ?"
   ],
   "metadata": {
    "collapsed": false
   }
  },
  {
   "cell_type": "code",
   "execution_count": 45,
   "outputs": [
    {
     "ename": "IndexError",
     "evalue": "index 1 is out of bounds for axis 1 with size 1",
     "output_type": "error",
     "traceback": [
      "\u001B[0;31m---------------------------------------------------------------------------\u001B[0m",
      "\u001B[0;31mIndexError\u001B[0m                                Traceback (most recent call last)",
      "Cell \u001B[0;32mIn[45], line 27\u001B[0m\n\u001B[1;32m     25\u001B[0m lw \u001B[38;5;241m=\u001B[39m \u001B[38;5;241m2\u001B[39m\n\u001B[1;32m     26\u001B[0m \u001B[38;5;28;01mfor\u001B[39;00m color, i, target_name \u001B[38;5;129;01min\u001B[39;00m \u001B[38;5;28mzip\u001B[39m(colors, [\u001B[38;5;241m0\u001B[39m, \u001B[38;5;241m1\u001B[39m], target_namesLOL):\n\u001B[0;32m---> 27\u001B[0m     plt\u001B[38;5;241m.\u001B[39mscatter(data_plotLOL[YLOL \u001B[38;5;241m==\u001B[39m i, \u001B[38;5;241m0\u001B[39m], \u001B[43mdata_plotLOL\u001B[49m\u001B[43m[\u001B[49m\u001B[43mYLOL\u001B[49m\u001B[43m \u001B[49m\u001B[38;5;241;43m==\u001B[39;49m\u001B[43m \u001B[49m\u001B[43mi\u001B[49m\u001B[43m,\u001B[49m\u001B[43m \u001B[49m\u001B[38;5;241;43m1\u001B[39;49m\u001B[43m]\u001B[49m, color\u001B[38;5;241m=\u001B[39mcolor, alpha\u001B[38;5;241m=\u001B[39m\u001B[38;5;241m.8\u001B[39m, lw\u001B[38;5;241m=\u001B[39mlw,\n\u001B[1;32m     28\u001B[0m                 label\u001B[38;5;241m=\u001B[39mtarget_name)\n\u001B[1;32m     30\u001B[0m \u001B[38;5;66;03m#add lengend to plot\u001B[39;00m\n\u001B[1;32m     31\u001B[0m plt\u001B[38;5;241m.\u001B[39mlegend(loc\u001B[38;5;241m=\u001B[39m\u001B[38;5;124m'\u001B[39m\u001B[38;5;124mbest\u001B[39m\u001B[38;5;124m'\u001B[39m, shadow\u001B[38;5;241m=\u001B[39m\u001B[38;5;28;01mFalse\u001B[39;00m, scatterpoints\u001B[38;5;241m=\u001B[39m\u001B[38;5;241m1\u001B[39m)\n",
      "\u001B[0;31mIndexError\u001B[0m: index 1 is out of bounds for axis 1 with size 1"
     ]
    },
    {
     "data": {
      "text/plain": "<Figure size 640x480 with 0 Axes>"
     },
     "metadata": {},
     "output_type": "display_data"
    }
   ],
   "source": [
    "#1) Does having first blood affect on winning the game ?\n",
    "\n",
    "challenge = pd.read_csv(\"./datasets/leagueOfLegends/Challenger_Ranked_Games.csv\")\n",
    "\n",
    "#Faire une LDA pour voir si le fait d'avoir le premier blood influe sur la victoire\n",
    "dfLOL = pd.DataFrame(data = np.c_[challenge['blueFirstBlood'], challenge['redFirstBlood'], challenge['blueWins']],\n",
    "                  columns = ['blueFirstBlood', 'redFirstBlood'] + ['blueWins'])\n",
    "dfLOL['team'] = pd.Categorical.from_codes(challenge['blueWins'], ['blue', 'red'])\n",
    "dfLOL.columns = ['blueFirstBlood', 'redFirstBlood', 'blueWins', 'team']\n",
    "\n",
    "XLOL = dfLOL[['blueFirstBlood', 'redFirstBlood']]\n",
    "YLOL = dfLOL['team']\n",
    "\n",
    "#difine data to plot\n",
    "xLOL = dfLOL[['blueFirstBlood', 'redFirstBlood', 'blueWins']]\n",
    "yLOL = dfLOL['blueWins']\n",
    "\n",
    "modelLDALOL = LinearDiscriminantAnalysis()\n",
    "data_plotLOL = modelLDALOL.fit(XLOL, yLOL).transform(XLOL)\n",
    "target_namesLOL = dfLOL['team'].unique()\n",
    "\n",
    "#create LDA plot\n",
    "plt.figure()\n",
    "colors = ['red', 'green']\n",
    "lw = 2\n",
    "for color, i, target_name in zip(colors, [0, 1], target_namesLOL):\n",
    "    plt.scatter(data_plotLOL[YLOL == i, 0], data_plotLOL[YLOL == i, 1], color=color, alpha=.8, lw=lw,\n",
    "                label=target_name)\n",
    "\n",
    "#add lengend to plot\n",
    "plt.legend(loc='best', shadow=False, scatterpoints=1)\n",
    "\n",
    "#add title to plot\n",
    "plt.title('LDA of League of Legends dataset')\n",
    "\n",
    "print('********************************** LDA Summary **********************************')\n",
    "print('Classes: ', modelLDALOL.classes_)\n",
    "print('Coefficients: ', modelLDALOL.coef_)\n",
    "print('Explained Variance ratio: ', modelLDALOL.explained_variance_ratio_)\n",
    "\n",
    "#display LDA plot\n",
    "plt.show()"
   ],
   "metadata": {
    "collapsed": false
   }
  },
  {
   "cell_type": "code",
   "execution_count": 29,
   "outputs": [
    {
     "name": "stdout",
     "output_type": "stream",
     "text": [
      "Average game duration :  1448.6536574487066\n",
      "Average game duration :  1448.6536574487066\n"
     ]
    }
   ],
   "source": [
    "#2) What is the average game duration of challenger ranked game ?\n",
    "\n",
    "#average game duration\n",
    "print(\"Average game duration : \", challenge['gameDuraton'].mean())\n",
    "\n",
    "#sum = 0\n",
    "#for element in challenge['gameDuraton']:\n",
    "#    sum+= element\n",
    "#print(\"Average game duration : \", sum / len(challenge['gameDuraton']))"
   ],
   "metadata": {
    "collapsed": false
   }
  },
  {
   "cell_type": "markdown",
   "source": [
    "#3) Is your dataset separable based on winning and losing classification ?\n",
    "\n",
    "Non, car les données ne sont pas linéairement séparables"
   ],
   "metadata": {
    "collapsed": false
   }
  },
  {
   "cell_type": "markdown",
   "source": [
    "3. QDA\n",
    "\n",
    "The olivetti faces.\n",
    "\n",
    "We need to import the Olivetti faces dataset from sklearn.datasets. The dataset contains 400 images of 40 different people. Each image is 64x64 pixels. The dataset is already split into a training set (X_train, y_train) and a test set (X_test, y_test). The dataset is already normalized, so the pixel values are between 0 and 1.\n",
    "\n",
    "https://scikit-learn.org/stable/datasets/real_world.html?highlight=olivetti"
   ],
   "metadata": {
    "collapsed": false
   }
  },
  {
   "cell_type": "code",
   "execution_count": 47,
   "outputs": [
    {
     "name": "stdout",
     "output_type": "stream",
     "text": [
      "downloading Olivetti faces from https://ndownloader.figshare.com/files/5976027 to /Users/thibaultchausson/scikit_learn_data\n"
     ]
    },
    {
     "ename": "URLError",
     "evalue": "<urlopen error [SSL: CERTIFICATE_VERIFY_FAILED] certificate verify failed: unable to get local issuer certificate (_ssl.c:997)>",
     "output_type": "error",
     "traceback": [
      "\u001B[0;31m---------------------------------------------------------------------------\u001B[0m",
      "\u001B[0;31mSSLCertVerificationError\u001B[0m                  Traceback (most recent call last)",
      "File \u001B[0;32m/Library/Frameworks/Python.framework/Versions/3.10/lib/python3.10/urllib/request.py:1348\u001B[0m, in \u001B[0;36mAbstractHTTPHandler.do_open\u001B[0;34m(self, http_class, req, **http_conn_args)\u001B[0m\n\u001B[1;32m   1347\u001B[0m \u001B[38;5;28;01mtry\u001B[39;00m:\n\u001B[0;32m-> 1348\u001B[0m     \u001B[43mh\u001B[49m\u001B[38;5;241;43m.\u001B[39;49m\u001B[43mrequest\u001B[49m\u001B[43m(\u001B[49m\u001B[43mreq\u001B[49m\u001B[38;5;241;43m.\u001B[39;49m\u001B[43mget_method\u001B[49m\u001B[43m(\u001B[49m\u001B[43m)\u001B[49m\u001B[43m,\u001B[49m\u001B[43m \u001B[49m\u001B[43mreq\u001B[49m\u001B[38;5;241;43m.\u001B[39;49m\u001B[43mselector\u001B[49m\u001B[43m,\u001B[49m\u001B[43m \u001B[49m\u001B[43mreq\u001B[49m\u001B[38;5;241;43m.\u001B[39;49m\u001B[43mdata\u001B[49m\u001B[43m,\u001B[49m\u001B[43m \u001B[49m\u001B[43mheaders\u001B[49m\u001B[43m,\u001B[49m\n\u001B[1;32m   1349\u001B[0m \u001B[43m              \u001B[49m\u001B[43mencode_chunked\u001B[49m\u001B[38;5;241;43m=\u001B[39;49m\u001B[43mreq\u001B[49m\u001B[38;5;241;43m.\u001B[39;49m\u001B[43mhas_header\u001B[49m\u001B[43m(\u001B[49m\u001B[38;5;124;43m'\u001B[39;49m\u001B[38;5;124;43mTransfer-encoding\u001B[39;49m\u001B[38;5;124;43m'\u001B[39;49m\u001B[43m)\u001B[49m\u001B[43m)\u001B[49m\n\u001B[1;32m   1350\u001B[0m \u001B[38;5;28;01mexcept\u001B[39;00m \u001B[38;5;167;01mOSError\u001B[39;00m \u001B[38;5;28;01mas\u001B[39;00m err: \u001B[38;5;66;03m# timeout error\u001B[39;00m\n",
      "File \u001B[0;32m/Library/Frameworks/Python.framework/Versions/3.10/lib/python3.10/http/client.py:1282\u001B[0m, in \u001B[0;36mHTTPConnection.request\u001B[0;34m(self, method, url, body, headers, encode_chunked)\u001B[0m\n\u001B[1;32m   1281\u001B[0m \u001B[38;5;250m\u001B[39m\u001B[38;5;124;03m\"\"\"Send a complete request to the server.\"\"\"\u001B[39;00m\n\u001B[0;32m-> 1282\u001B[0m \u001B[38;5;28;43mself\u001B[39;49m\u001B[38;5;241;43m.\u001B[39;49m\u001B[43m_send_request\u001B[49m\u001B[43m(\u001B[49m\u001B[43mmethod\u001B[49m\u001B[43m,\u001B[49m\u001B[43m \u001B[49m\u001B[43murl\u001B[49m\u001B[43m,\u001B[49m\u001B[43m \u001B[49m\u001B[43mbody\u001B[49m\u001B[43m,\u001B[49m\u001B[43m \u001B[49m\u001B[43mheaders\u001B[49m\u001B[43m,\u001B[49m\u001B[43m \u001B[49m\u001B[43mencode_chunked\u001B[49m\u001B[43m)\u001B[49m\n",
      "File \u001B[0;32m/Library/Frameworks/Python.framework/Versions/3.10/lib/python3.10/http/client.py:1328\u001B[0m, in \u001B[0;36mHTTPConnection._send_request\u001B[0;34m(self, method, url, body, headers, encode_chunked)\u001B[0m\n\u001B[1;32m   1327\u001B[0m     body \u001B[38;5;241m=\u001B[39m _encode(body, \u001B[38;5;124m'\u001B[39m\u001B[38;5;124mbody\u001B[39m\u001B[38;5;124m'\u001B[39m)\n\u001B[0;32m-> 1328\u001B[0m \u001B[38;5;28;43mself\u001B[39;49m\u001B[38;5;241;43m.\u001B[39;49m\u001B[43mendheaders\u001B[49m\u001B[43m(\u001B[49m\u001B[43mbody\u001B[49m\u001B[43m,\u001B[49m\u001B[43m \u001B[49m\u001B[43mencode_chunked\u001B[49m\u001B[38;5;241;43m=\u001B[39;49m\u001B[43mencode_chunked\u001B[49m\u001B[43m)\u001B[49m\n",
      "File \u001B[0;32m/Library/Frameworks/Python.framework/Versions/3.10/lib/python3.10/http/client.py:1277\u001B[0m, in \u001B[0;36mHTTPConnection.endheaders\u001B[0;34m(self, message_body, encode_chunked)\u001B[0m\n\u001B[1;32m   1276\u001B[0m     \u001B[38;5;28;01mraise\u001B[39;00m CannotSendHeader()\n\u001B[0;32m-> 1277\u001B[0m \u001B[38;5;28;43mself\u001B[39;49m\u001B[38;5;241;43m.\u001B[39;49m\u001B[43m_send_output\u001B[49m\u001B[43m(\u001B[49m\u001B[43mmessage_body\u001B[49m\u001B[43m,\u001B[49m\u001B[43m \u001B[49m\u001B[43mencode_chunked\u001B[49m\u001B[38;5;241;43m=\u001B[39;49m\u001B[43mencode_chunked\u001B[49m\u001B[43m)\u001B[49m\n",
      "File \u001B[0;32m/Library/Frameworks/Python.framework/Versions/3.10/lib/python3.10/http/client.py:1037\u001B[0m, in \u001B[0;36mHTTPConnection._send_output\u001B[0;34m(self, message_body, encode_chunked)\u001B[0m\n\u001B[1;32m   1036\u001B[0m \u001B[38;5;28;01mdel\u001B[39;00m \u001B[38;5;28mself\u001B[39m\u001B[38;5;241m.\u001B[39m_buffer[:]\n\u001B[0;32m-> 1037\u001B[0m \u001B[38;5;28;43mself\u001B[39;49m\u001B[38;5;241;43m.\u001B[39;49m\u001B[43msend\u001B[49m\u001B[43m(\u001B[49m\u001B[43mmsg\u001B[49m\u001B[43m)\u001B[49m\n\u001B[1;32m   1039\u001B[0m \u001B[38;5;28;01mif\u001B[39;00m message_body \u001B[38;5;129;01mis\u001B[39;00m \u001B[38;5;129;01mnot\u001B[39;00m \u001B[38;5;28;01mNone\u001B[39;00m:\n\u001B[1;32m   1040\u001B[0m \n\u001B[1;32m   1041\u001B[0m     \u001B[38;5;66;03m# create a consistent interface to message_body\u001B[39;00m\n",
      "File \u001B[0;32m/Library/Frameworks/Python.framework/Versions/3.10/lib/python3.10/http/client.py:975\u001B[0m, in \u001B[0;36mHTTPConnection.send\u001B[0;34m(self, data)\u001B[0m\n\u001B[1;32m    974\u001B[0m \u001B[38;5;28;01mif\u001B[39;00m \u001B[38;5;28mself\u001B[39m\u001B[38;5;241m.\u001B[39mauto_open:\n\u001B[0;32m--> 975\u001B[0m     \u001B[38;5;28;43mself\u001B[39;49m\u001B[38;5;241;43m.\u001B[39;49m\u001B[43mconnect\u001B[49m\u001B[43m(\u001B[49m\u001B[43m)\u001B[49m\n\u001B[1;32m    976\u001B[0m \u001B[38;5;28;01melse\u001B[39;00m:\n",
      "File \u001B[0;32m/Library/Frameworks/Python.framework/Versions/3.10/lib/python3.10/http/client.py:1454\u001B[0m, in \u001B[0;36mHTTPSConnection.connect\u001B[0;34m(self)\u001B[0m\n\u001B[1;32m   1452\u001B[0m     server_hostname \u001B[38;5;241m=\u001B[39m \u001B[38;5;28mself\u001B[39m\u001B[38;5;241m.\u001B[39mhost\n\u001B[0;32m-> 1454\u001B[0m \u001B[38;5;28mself\u001B[39m\u001B[38;5;241m.\u001B[39msock \u001B[38;5;241m=\u001B[39m \u001B[38;5;28;43mself\u001B[39;49m\u001B[38;5;241;43m.\u001B[39;49m\u001B[43m_context\u001B[49m\u001B[38;5;241;43m.\u001B[39;49m\u001B[43mwrap_socket\u001B[49m\u001B[43m(\u001B[49m\u001B[38;5;28;43mself\u001B[39;49m\u001B[38;5;241;43m.\u001B[39;49m\u001B[43msock\u001B[49m\u001B[43m,\u001B[49m\n\u001B[1;32m   1455\u001B[0m \u001B[43m                                      \u001B[49m\u001B[43mserver_hostname\u001B[49m\u001B[38;5;241;43m=\u001B[39;49m\u001B[43mserver_hostname\u001B[49m\u001B[43m)\u001B[49m\n",
      "File \u001B[0;32m/Library/Frameworks/Python.framework/Versions/3.10/lib/python3.10/ssl.py:512\u001B[0m, in \u001B[0;36mSSLContext.wrap_socket\u001B[0;34m(self, sock, server_side, do_handshake_on_connect, suppress_ragged_eofs, server_hostname, session)\u001B[0m\n\u001B[1;32m    506\u001B[0m \u001B[38;5;28;01mdef\u001B[39;00m \u001B[38;5;21mwrap_socket\u001B[39m(\u001B[38;5;28mself\u001B[39m, sock, server_side\u001B[38;5;241m=\u001B[39m\u001B[38;5;28;01mFalse\u001B[39;00m,\n\u001B[1;32m    507\u001B[0m                 do_handshake_on_connect\u001B[38;5;241m=\u001B[39m\u001B[38;5;28;01mTrue\u001B[39;00m,\n\u001B[1;32m    508\u001B[0m                 suppress_ragged_eofs\u001B[38;5;241m=\u001B[39m\u001B[38;5;28;01mTrue\u001B[39;00m,\n\u001B[1;32m    509\u001B[0m                 server_hostname\u001B[38;5;241m=\u001B[39m\u001B[38;5;28;01mNone\u001B[39;00m, session\u001B[38;5;241m=\u001B[39m\u001B[38;5;28;01mNone\u001B[39;00m):\n\u001B[1;32m    510\u001B[0m     \u001B[38;5;66;03m# SSLSocket class handles server_hostname encoding before it calls\u001B[39;00m\n\u001B[1;32m    511\u001B[0m     \u001B[38;5;66;03m# ctx._wrap_socket()\u001B[39;00m\n\u001B[0;32m--> 512\u001B[0m     \u001B[38;5;28;01mreturn\u001B[39;00m \u001B[38;5;28;43mself\u001B[39;49m\u001B[38;5;241;43m.\u001B[39;49m\u001B[43msslsocket_class\u001B[49m\u001B[38;5;241;43m.\u001B[39;49m\u001B[43m_create\u001B[49m\u001B[43m(\u001B[49m\n\u001B[1;32m    513\u001B[0m \u001B[43m        \u001B[49m\u001B[43msock\u001B[49m\u001B[38;5;241;43m=\u001B[39;49m\u001B[43msock\u001B[49m\u001B[43m,\u001B[49m\n\u001B[1;32m    514\u001B[0m \u001B[43m        \u001B[49m\u001B[43mserver_side\u001B[49m\u001B[38;5;241;43m=\u001B[39;49m\u001B[43mserver_side\u001B[49m\u001B[43m,\u001B[49m\n\u001B[1;32m    515\u001B[0m \u001B[43m        \u001B[49m\u001B[43mdo_handshake_on_connect\u001B[49m\u001B[38;5;241;43m=\u001B[39;49m\u001B[43mdo_handshake_on_connect\u001B[49m\u001B[43m,\u001B[49m\n\u001B[1;32m    516\u001B[0m \u001B[43m        \u001B[49m\u001B[43msuppress_ragged_eofs\u001B[49m\u001B[38;5;241;43m=\u001B[39;49m\u001B[43msuppress_ragged_eofs\u001B[49m\u001B[43m,\u001B[49m\n\u001B[1;32m    517\u001B[0m \u001B[43m        \u001B[49m\u001B[43mserver_hostname\u001B[49m\u001B[38;5;241;43m=\u001B[39;49m\u001B[43mserver_hostname\u001B[49m\u001B[43m,\u001B[49m\n\u001B[1;32m    518\u001B[0m \u001B[43m        \u001B[49m\u001B[43mcontext\u001B[49m\u001B[38;5;241;43m=\u001B[39;49m\u001B[38;5;28;43mself\u001B[39;49m\u001B[43m,\u001B[49m\n\u001B[1;32m    519\u001B[0m \u001B[43m        \u001B[49m\u001B[43msession\u001B[49m\u001B[38;5;241;43m=\u001B[39;49m\u001B[43msession\u001B[49m\n\u001B[1;32m    520\u001B[0m \u001B[43m    \u001B[49m\u001B[43m)\u001B[49m\n",
      "File \u001B[0;32m/Library/Frameworks/Python.framework/Versions/3.10/lib/python3.10/ssl.py:1070\u001B[0m, in \u001B[0;36mSSLSocket._create\u001B[0;34m(cls, sock, server_side, do_handshake_on_connect, suppress_ragged_eofs, server_hostname, context, session)\u001B[0m\n\u001B[1;32m   1069\u001B[0m             \u001B[38;5;28;01mraise\u001B[39;00m \u001B[38;5;167;01mValueError\u001B[39;00m(\u001B[38;5;124m\"\u001B[39m\u001B[38;5;124mdo_handshake_on_connect should not be specified for non-blocking sockets\u001B[39m\u001B[38;5;124m\"\u001B[39m)\n\u001B[0;32m-> 1070\u001B[0m         \u001B[38;5;28;43mself\u001B[39;49m\u001B[38;5;241;43m.\u001B[39;49m\u001B[43mdo_handshake\u001B[49m\u001B[43m(\u001B[49m\u001B[43m)\u001B[49m\n\u001B[1;32m   1071\u001B[0m \u001B[38;5;28;01mexcept\u001B[39;00m (\u001B[38;5;167;01mOSError\u001B[39;00m, \u001B[38;5;167;01mValueError\u001B[39;00m):\n",
      "File \u001B[0;32m/Library/Frameworks/Python.framework/Versions/3.10/lib/python3.10/ssl.py:1341\u001B[0m, in \u001B[0;36mSSLSocket.do_handshake\u001B[0;34m(self, block)\u001B[0m\n\u001B[1;32m   1340\u001B[0m         \u001B[38;5;28mself\u001B[39m\u001B[38;5;241m.\u001B[39msettimeout(\u001B[38;5;28;01mNone\u001B[39;00m)\n\u001B[0;32m-> 1341\u001B[0m     \u001B[38;5;28;43mself\u001B[39;49m\u001B[38;5;241;43m.\u001B[39;49m\u001B[43m_sslobj\u001B[49m\u001B[38;5;241;43m.\u001B[39;49m\u001B[43mdo_handshake\u001B[49m\u001B[43m(\u001B[49m\u001B[43m)\u001B[49m\n\u001B[1;32m   1342\u001B[0m \u001B[38;5;28;01mfinally\u001B[39;00m:\n",
      "\u001B[0;31mSSLCertVerificationError\u001B[0m: [SSL: CERTIFICATE_VERIFY_FAILED] certificate verify failed: unable to get local issuer certificate (_ssl.c:997)",
      "\nDuring handling of the above exception, another exception occurred:\n",
      "\u001B[0;31mURLError\u001B[0m                                  Traceback (most recent call last)",
      "Cell \u001B[0;32mIn[47], line 3\u001B[0m\n\u001B[1;32m      1\u001B[0m \u001B[38;5;28;01mfrom\u001B[39;00m \u001B[38;5;21;01msklearn\u001B[39;00m\u001B[38;5;21;01m.\u001B[39;00m\u001B[38;5;21;01mdatasets\u001B[39;00m \u001B[38;5;28;01mimport\u001B[39;00m fetch_olivetti_faces\n\u001B[0;32m----> 3\u001B[0m faces, labels \u001B[38;5;241m=\u001B[39m \u001B[43mfetch_olivetti_faces\u001B[49m\u001B[43m(\u001B[49m\u001B[43mreturn_X_y\u001B[49m\u001B[38;5;241;43m=\u001B[39;49m\u001B[38;5;28;43;01mTrue\u001B[39;49;00m\u001B[43m,\u001B[49m\u001B[43m \u001B[49m\u001B[43mshuffle\u001B[49m\u001B[38;5;241;43m=\u001B[39;49m\u001B[38;5;28;43;01mTrue\u001B[39;49;00m\u001B[43m,\u001B[49m\u001B[43m \u001B[49m\u001B[43mrandom_state\u001B[49m\u001B[38;5;241;43m=\u001B[39;49m\u001B[38;5;241;43m42\u001B[39;49m\u001B[43m)\u001B[49m\n\u001B[1;32m      4\u001B[0m n_samples, n_features \u001B[38;5;241m=\u001B[39m faces\u001B[38;5;241m.\u001B[39mshape\n\u001B[1;32m      6\u001B[0m \u001B[38;5;28mprint\u001B[39m(\u001B[38;5;124m\"\u001B[39m\u001B[38;5;124mDataset consists of \u001B[39m\u001B[38;5;132;01m%d\u001B[39;00m\u001B[38;5;124m faces\u001B[39m\u001B[38;5;124m\"\u001B[39m \u001B[38;5;241m%\u001B[39m n_samples)\n",
      "File \u001B[0;32m~/Documents/UTBM/2ème année ingénieur/Printemps/DS54/TP/venv/lib/python3.10/site-packages/sklearn/datasets/_olivetti_faces.py:115\u001B[0m, in \u001B[0;36mfetch_olivetti_faces\u001B[0;34m(data_home, shuffle, random_state, download_if_missing, return_X_y)\u001B[0m\n\u001B[1;32m    112\u001B[0m     \u001B[38;5;28;01mraise\u001B[39;00m \u001B[38;5;167;01mIOError\u001B[39;00m(\u001B[38;5;124m\"\u001B[39m\u001B[38;5;124mData not found and `download_if_missing` is False\u001B[39m\u001B[38;5;124m\"\u001B[39m)\n\u001B[1;32m    114\u001B[0m \u001B[38;5;28mprint\u001B[39m(\u001B[38;5;124m\"\u001B[39m\u001B[38;5;124mdownloading Olivetti faces from \u001B[39m\u001B[38;5;132;01m%s\u001B[39;00m\u001B[38;5;124m to \u001B[39m\u001B[38;5;132;01m%s\u001B[39;00m\u001B[38;5;124m\"\u001B[39m \u001B[38;5;241m%\u001B[39m (FACES\u001B[38;5;241m.\u001B[39murl, data_home))\n\u001B[0;32m--> 115\u001B[0m mat_path \u001B[38;5;241m=\u001B[39m \u001B[43m_fetch_remote\u001B[49m\u001B[43m(\u001B[49m\u001B[43mFACES\u001B[49m\u001B[43m,\u001B[49m\u001B[43m \u001B[49m\u001B[43mdirname\u001B[49m\u001B[38;5;241;43m=\u001B[39;49m\u001B[43mdata_home\u001B[49m\u001B[43m)\u001B[49m\n\u001B[1;32m    116\u001B[0m mfile \u001B[38;5;241m=\u001B[39m loadmat(file_name\u001B[38;5;241m=\u001B[39mmat_path)\n\u001B[1;32m    117\u001B[0m \u001B[38;5;66;03m# delete raw .mat data\u001B[39;00m\n",
      "File \u001B[0;32m~/Documents/UTBM/2ème année ingénieur/Printemps/DS54/TP/venv/lib/python3.10/site-packages/sklearn/datasets/_base.py:1454\u001B[0m, in \u001B[0;36m_fetch_remote\u001B[0;34m(remote, dirname)\u001B[0m\n\u001B[1;32m   1432\u001B[0m \u001B[38;5;250m\u001B[39m\u001B[38;5;124;03m\"\"\"Helper function to download a remote dataset into path\u001B[39;00m\n\u001B[1;32m   1433\u001B[0m \n\u001B[1;32m   1434\u001B[0m \u001B[38;5;124;03mFetch a dataset pointed by remote's url, save into path using remote's\u001B[39;00m\n\u001B[0;32m   (...)\u001B[0m\n\u001B[1;32m   1450\u001B[0m \u001B[38;5;124;03m    Full path of the created file.\u001B[39;00m\n\u001B[1;32m   1451\u001B[0m \u001B[38;5;124;03m\"\"\"\u001B[39;00m\n\u001B[1;32m   1453\u001B[0m file_path \u001B[38;5;241m=\u001B[39m remote\u001B[38;5;241m.\u001B[39mfilename \u001B[38;5;28;01mif\u001B[39;00m dirname \u001B[38;5;129;01mis\u001B[39;00m \u001B[38;5;28;01mNone\u001B[39;00m \u001B[38;5;28;01melse\u001B[39;00m join(dirname, remote\u001B[38;5;241m.\u001B[39mfilename)\n\u001B[0;32m-> 1454\u001B[0m \u001B[43murlretrieve\u001B[49m\u001B[43m(\u001B[49m\u001B[43mremote\u001B[49m\u001B[38;5;241;43m.\u001B[39;49m\u001B[43murl\u001B[49m\u001B[43m,\u001B[49m\u001B[43m \u001B[49m\u001B[43mfile_path\u001B[49m\u001B[43m)\u001B[49m\n\u001B[1;32m   1455\u001B[0m checksum \u001B[38;5;241m=\u001B[39m _sha256(file_path)\n\u001B[1;32m   1456\u001B[0m \u001B[38;5;28;01mif\u001B[39;00m remote\u001B[38;5;241m.\u001B[39mchecksum \u001B[38;5;241m!=\u001B[39m checksum:\n",
      "File \u001B[0;32m/Library/Frameworks/Python.framework/Versions/3.10/lib/python3.10/urllib/request.py:241\u001B[0m, in \u001B[0;36murlretrieve\u001B[0;34m(url, filename, reporthook, data)\u001B[0m\n\u001B[1;32m    224\u001B[0m \u001B[38;5;250m\u001B[39m\u001B[38;5;124;03m\"\"\"\u001B[39;00m\n\u001B[1;32m    225\u001B[0m \u001B[38;5;124;03mRetrieve a URL into a temporary location on disk.\u001B[39;00m\n\u001B[1;32m    226\u001B[0m \n\u001B[0;32m   (...)\u001B[0m\n\u001B[1;32m    237\u001B[0m \u001B[38;5;124;03mdata file as well as the resulting HTTPMessage object.\u001B[39;00m\n\u001B[1;32m    238\u001B[0m \u001B[38;5;124;03m\"\"\"\u001B[39;00m\n\u001B[1;32m    239\u001B[0m url_type, path \u001B[38;5;241m=\u001B[39m _splittype(url)\n\u001B[0;32m--> 241\u001B[0m \u001B[38;5;28;01mwith\u001B[39;00m contextlib\u001B[38;5;241m.\u001B[39mclosing(\u001B[43murlopen\u001B[49m\u001B[43m(\u001B[49m\u001B[43murl\u001B[49m\u001B[43m,\u001B[49m\u001B[43m \u001B[49m\u001B[43mdata\u001B[49m\u001B[43m)\u001B[49m) \u001B[38;5;28;01mas\u001B[39;00m fp:\n\u001B[1;32m    242\u001B[0m     headers \u001B[38;5;241m=\u001B[39m fp\u001B[38;5;241m.\u001B[39minfo()\n\u001B[1;32m    244\u001B[0m     \u001B[38;5;66;03m# Just return the local path and the \"headers\" for file://\u001B[39;00m\n\u001B[1;32m    245\u001B[0m     \u001B[38;5;66;03m# URLs. No sense in performing a copy unless requested.\u001B[39;00m\n",
      "File \u001B[0;32m/Library/Frameworks/Python.framework/Versions/3.10/lib/python3.10/urllib/request.py:216\u001B[0m, in \u001B[0;36murlopen\u001B[0;34m(url, data, timeout, cafile, capath, cadefault, context)\u001B[0m\n\u001B[1;32m    214\u001B[0m \u001B[38;5;28;01melse\u001B[39;00m:\n\u001B[1;32m    215\u001B[0m     opener \u001B[38;5;241m=\u001B[39m _opener\n\u001B[0;32m--> 216\u001B[0m \u001B[38;5;28;01mreturn\u001B[39;00m \u001B[43mopener\u001B[49m\u001B[38;5;241;43m.\u001B[39;49m\u001B[43mopen\u001B[49m\u001B[43m(\u001B[49m\u001B[43murl\u001B[49m\u001B[43m,\u001B[49m\u001B[43m \u001B[49m\u001B[43mdata\u001B[49m\u001B[43m,\u001B[49m\u001B[43m \u001B[49m\u001B[43mtimeout\u001B[49m\u001B[43m)\u001B[49m\n",
      "File \u001B[0;32m/Library/Frameworks/Python.framework/Versions/3.10/lib/python3.10/urllib/request.py:519\u001B[0m, in \u001B[0;36mOpenerDirector.open\u001B[0;34m(self, fullurl, data, timeout)\u001B[0m\n\u001B[1;32m    516\u001B[0m     req \u001B[38;5;241m=\u001B[39m meth(req)\n\u001B[1;32m    518\u001B[0m sys\u001B[38;5;241m.\u001B[39maudit(\u001B[38;5;124m'\u001B[39m\u001B[38;5;124murllib.Request\u001B[39m\u001B[38;5;124m'\u001B[39m, req\u001B[38;5;241m.\u001B[39mfull_url, req\u001B[38;5;241m.\u001B[39mdata, req\u001B[38;5;241m.\u001B[39mheaders, req\u001B[38;5;241m.\u001B[39mget_method())\n\u001B[0;32m--> 519\u001B[0m response \u001B[38;5;241m=\u001B[39m \u001B[38;5;28;43mself\u001B[39;49m\u001B[38;5;241;43m.\u001B[39;49m\u001B[43m_open\u001B[49m\u001B[43m(\u001B[49m\u001B[43mreq\u001B[49m\u001B[43m,\u001B[49m\u001B[43m \u001B[49m\u001B[43mdata\u001B[49m\u001B[43m)\u001B[49m\n\u001B[1;32m    521\u001B[0m \u001B[38;5;66;03m# post-process response\u001B[39;00m\n\u001B[1;32m    522\u001B[0m meth_name \u001B[38;5;241m=\u001B[39m protocol\u001B[38;5;241m+\u001B[39m\u001B[38;5;124m\"\u001B[39m\u001B[38;5;124m_response\u001B[39m\u001B[38;5;124m\"\u001B[39m\n",
      "File \u001B[0;32m/Library/Frameworks/Python.framework/Versions/3.10/lib/python3.10/urllib/request.py:536\u001B[0m, in \u001B[0;36mOpenerDirector._open\u001B[0;34m(self, req, data)\u001B[0m\n\u001B[1;32m    533\u001B[0m     \u001B[38;5;28;01mreturn\u001B[39;00m result\n\u001B[1;32m    535\u001B[0m protocol \u001B[38;5;241m=\u001B[39m req\u001B[38;5;241m.\u001B[39mtype\n\u001B[0;32m--> 536\u001B[0m result \u001B[38;5;241m=\u001B[39m \u001B[38;5;28;43mself\u001B[39;49m\u001B[38;5;241;43m.\u001B[39;49m\u001B[43m_call_chain\u001B[49m\u001B[43m(\u001B[49m\u001B[38;5;28;43mself\u001B[39;49m\u001B[38;5;241;43m.\u001B[39;49m\u001B[43mhandle_open\u001B[49m\u001B[43m,\u001B[49m\u001B[43m \u001B[49m\u001B[43mprotocol\u001B[49m\u001B[43m,\u001B[49m\u001B[43m \u001B[49m\u001B[43mprotocol\u001B[49m\u001B[43m \u001B[49m\u001B[38;5;241;43m+\u001B[39;49m\n\u001B[1;32m    537\u001B[0m \u001B[43m                          \u001B[49m\u001B[38;5;124;43m'\u001B[39;49m\u001B[38;5;124;43m_open\u001B[39;49m\u001B[38;5;124;43m'\u001B[39;49m\u001B[43m,\u001B[49m\u001B[43m \u001B[49m\u001B[43mreq\u001B[49m\u001B[43m)\u001B[49m\n\u001B[1;32m    538\u001B[0m \u001B[38;5;28;01mif\u001B[39;00m result:\n\u001B[1;32m    539\u001B[0m     \u001B[38;5;28;01mreturn\u001B[39;00m result\n",
      "File \u001B[0;32m/Library/Frameworks/Python.framework/Versions/3.10/lib/python3.10/urllib/request.py:496\u001B[0m, in \u001B[0;36mOpenerDirector._call_chain\u001B[0;34m(self, chain, kind, meth_name, *args)\u001B[0m\n\u001B[1;32m    494\u001B[0m \u001B[38;5;28;01mfor\u001B[39;00m handler \u001B[38;5;129;01min\u001B[39;00m handlers:\n\u001B[1;32m    495\u001B[0m     func \u001B[38;5;241m=\u001B[39m \u001B[38;5;28mgetattr\u001B[39m(handler, meth_name)\n\u001B[0;32m--> 496\u001B[0m     result \u001B[38;5;241m=\u001B[39m \u001B[43mfunc\u001B[49m\u001B[43m(\u001B[49m\u001B[38;5;241;43m*\u001B[39;49m\u001B[43margs\u001B[49m\u001B[43m)\u001B[49m\n\u001B[1;32m    497\u001B[0m     \u001B[38;5;28;01mif\u001B[39;00m result \u001B[38;5;129;01mis\u001B[39;00m \u001B[38;5;129;01mnot\u001B[39;00m \u001B[38;5;28;01mNone\u001B[39;00m:\n\u001B[1;32m    498\u001B[0m         \u001B[38;5;28;01mreturn\u001B[39;00m result\n",
      "File \u001B[0;32m/Library/Frameworks/Python.framework/Versions/3.10/lib/python3.10/urllib/request.py:1391\u001B[0m, in \u001B[0;36mHTTPSHandler.https_open\u001B[0;34m(self, req)\u001B[0m\n\u001B[1;32m   1390\u001B[0m \u001B[38;5;28;01mdef\u001B[39;00m \u001B[38;5;21mhttps_open\u001B[39m(\u001B[38;5;28mself\u001B[39m, req):\n\u001B[0;32m-> 1391\u001B[0m     \u001B[38;5;28;01mreturn\u001B[39;00m \u001B[38;5;28;43mself\u001B[39;49m\u001B[38;5;241;43m.\u001B[39;49m\u001B[43mdo_open\u001B[49m\u001B[43m(\u001B[49m\u001B[43mhttp\u001B[49m\u001B[38;5;241;43m.\u001B[39;49m\u001B[43mclient\u001B[49m\u001B[38;5;241;43m.\u001B[39;49m\u001B[43mHTTPSConnection\u001B[49m\u001B[43m,\u001B[49m\u001B[43m \u001B[49m\u001B[43mreq\u001B[49m\u001B[43m,\u001B[49m\n\u001B[1;32m   1392\u001B[0m \u001B[43m        \u001B[49m\u001B[43mcontext\u001B[49m\u001B[38;5;241;43m=\u001B[39;49m\u001B[38;5;28;43mself\u001B[39;49m\u001B[38;5;241;43m.\u001B[39;49m\u001B[43m_context\u001B[49m\u001B[43m,\u001B[49m\u001B[43m \u001B[49m\u001B[43mcheck_hostname\u001B[49m\u001B[38;5;241;43m=\u001B[39;49m\u001B[38;5;28;43mself\u001B[39;49m\u001B[38;5;241;43m.\u001B[39;49m\u001B[43m_check_hostname\u001B[49m\u001B[43m)\u001B[49m\n",
      "File \u001B[0;32m/Library/Frameworks/Python.framework/Versions/3.10/lib/python3.10/urllib/request.py:1351\u001B[0m, in \u001B[0;36mAbstractHTTPHandler.do_open\u001B[0;34m(self, http_class, req, **http_conn_args)\u001B[0m\n\u001B[1;32m   1348\u001B[0m         h\u001B[38;5;241m.\u001B[39mrequest(req\u001B[38;5;241m.\u001B[39mget_method(), req\u001B[38;5;241m.\u001B[39mselector, req\u001B[38;5;241m.\u001B[39mdata, headers,\n\u001B[1;32m   1349\u001B[0m                   encode_chunked\u001B[38;5;241m=\u001B[39mreq\u001B[38;5;241m.\u001B[39mhas_header(\u001B[38;5;124m'\u001B[39m\u001B[38;5;124mTransfer-encoding\u001B[39m\u001B[38;5;124m'\u001B[39m))\n\u001B[1;32m   1350\u001B[0m     \u001B[38;5;28;01mexcept\u001B[39;00m \u001B[38;5;167;01mOSError\u001B[39;00m \u001B[38;5;28;01mas\u001B[39;00m err: \u001B[38;5;66;03m# timeout error\u001B[39;00m\n\u001B[0;32m-> 1351\u001B[0m         \u001B[38;5;28;01mraise\u001B[39;00m URLError(err)\n\u001B[1;32m   1352\u001B[0m     r \u001B[38;5;241m=\u001B[39m h\u001B[38;5;241m.\u001B[39mgetresponse()\n\u001B[1;32m   1353\u001B[0m \u001B[38;5;28;01mexcept\u001B[39;00m:\n",
      "\u001B[0;31mURLError\u001B[0m: <urlopen error [SSL: CERTIFICATE_VERIFY_FAILED] certificate verify failed: unable to get local issuer certificate (_ssl.c:997)>"
     ]
    }
   ],
   "source": [
    "from sklearn.datasets import fetch_olivetti_faces\n",
    "\n",
    "faces, labels = fetch_olivetti_faces(return_X_y=True, shuffle=True, random_state=42)\n",
    "n_samples, n_features = faces.shape\n",
    "\n",
    "print(\"Dataset consists of %d faces\" % n_samples)\n",
    "print(\"Each face has %d pixels\" % n_features)\n",
    "\n",
    "#We can see all labels that exist in the dataset by runing this code\n",
    "\n",
    "import numpy as np\n",
    "print(\"Labels: \", np.unique(labels))"
   ],
   "metadata": {
    "collapsed": false
   }
  }
 ],
 "metadata": {
  "kernelspec": {
   "display_name": "Python 3",
   "language": "python",
   "name": "python3"
  },
  "language_info": {
   "codemirror_mode": {
    "name": "ipython",
    "version": 2
   },
   "file_extension": ".py",
   "mimetype": "text/x-python",
   "name": "python",
   "nbconvert_exporter": "python",
   "pygments_lexer": "ipython2",
   "version": "2.7.6"
  }
 },
 "nbformat": 4,
 "nbformat_minor": 0
}
