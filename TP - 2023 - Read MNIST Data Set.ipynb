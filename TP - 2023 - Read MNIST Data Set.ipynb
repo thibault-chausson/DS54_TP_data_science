{
 "cells": [
  {
   "cell_type": "markdown",
   "metadata": {},
   "source": [
    "#**<center>Lab Session 4</center>**\n",
    "<i><center>«Supervised Classification of the NMIST data set»</center></i>\n",
    "\n",
    "This is a free lab: **try**, **compare** and **combine** various methods in order to\n",
    "improve the classification rule on the MNIST data set\n",
    "\n",
    "\n",
    "#**Learning outcome**\n",
    "\n",
    "On successful completion of this lab session you will be able to\n",
    "    \n",
    "* Handle NMIST datasets\n",
    "* Implement multiple classification models\n",
    "* Use dimension reduction and feature extraction as pre-processing step\n"
   ]
  },
  {
   "cell_type": "code",
   "execution_count": null,
   "metadata": {
    "scrolled": true
   },
   "outputs": [],
   "source": [
    "from matplotlib import pyplot as plt\n",
    "import numpy as np"
   ]
  },
  {
   "cell_type": "markdown",
   "metadata": {},
   "source": [
    "# Load a subset of MNIST data set\n",
    "\n",
    "The MNIST dataset contains $70,000$ images of handwritten digits (zero to nine) that have been size-normalized and centered in a square grid of pixels. Each image is a 28 × 28 × 1 array of integer numbers representing grayscale intensities ranging from 0 (black) to 255 (white). The target data consists of one-hot binary vectors of size 10, corresponding to the digit classification categories zero through nine."
   ]
  },
  {
   "cell_type": "code",
   "execution_count": null,
   "metadata": {},
   "outputs": [],
   "source": [
    "repertoire_mnist = './input/mnist/' # Modifier le répertoire au besoin\n",
    "\n",
    "def charger_mnist(repertoire, etiquettes=None, max_par_etiquettes=None):\n",
    "    if etiquettes is None:\n",
    "         etiquettes = np.arange(10)\n",
    "    images_list = [None] * len(etiquettes)\n",
    "    labels_list = [None] * len(etiquettes)\n",
    "    for i, val in enumerate(etiquettes):\n",
    "        nom_fichier = repertoire_mnist + f'mnist_{val}.gz'\n",
    "        images_list[i] = np.genfromtxt(nom_fichier, max_rows=max_par_etiquettes, dtype=np.float32)\n",
    "        nb = images_list[i].shape[0]\n",
    "\n",
    "        labels_list[i] = i*np.ones(nb, dtype=np.int64)\n",
    "        print(val, ':', nb, 'images')\n",
    "        \n",
    "    x = np.vstack(images_list)\n",
    "    y = np.concatenate(labels_list)\n",
    "    print('Total :', len(y), 'images')\n",
    "    return x, y"
   ]
  },
  {
   "cell_type": "markdown",
   "metadata": {},
   "source": [
    "Load 1000 images from MNIST data set. Order of the images is respected."
   ]
  },
  {
   "cell_type": "code",
   "execution_count": null,
   "metadata": {},
   "outputs": [],
   "source": [
    "data_x, data_y = charger_mnist(repertoire_mnist, etiquettes=None, max_par_etiquettes=1000)"
   ]
  },
  {
   "cell_type": "markdown",
   "metadata": {},
   "source": [
    "Some example MNIST images are shown below:"
   ]
  },
  {
   "cell_type": "code",
   "execution_count": null,
   "metadata": {},
   "outputs": [],
   "source": [
    "plt.figure(figsize=(16, 6))\n",
    "for i in range(10):\n",
    "    ax = plt.subplot(2, 5, i + 1)\n",
    "    ax.imshow(data_x[i*1000,:].reshape([28,28]), cmap='gray')\n",
    "    ax.set_title('MNIST: %i' % data_y[i*1000])\n",
    "plt.show();\n",
    "print(np.unique(data_y))"
   ]
  },
  {
   "cell_type": "code",
   "execution_count": null,
   "metadata": {},
   "outputs": [],
   "source": [
    "np.unique(train_y)"
   ]
  },
  {
   "cell_type": "code",
   "execution_count": null,
   "metadata": {},
   "outputs": [],
   "source": [
    "from sklearn.model_selection import train_test_split\n",
    "train_x, test_x, train_y, test_y = train_test_split(data_x, data_y, test_size=0.5, random_state=42)\n",
    "print('train_x:', train_x.shape)\n",
    "print('test_x:', test_x.shape)\n",
    "print('train_y:', train_y.shape)\n",
    "print('test_y:', test_y.shape)"
   ]
  }
 ],
 "metadata": {
  "kernelspec": {
   "display_name": "Python 3 (ipykernel)",
   "language": "python",
   "name": "python3"
  },
  "language_info": {
   "codemirror_mode": {
    "name": "ipython",
    "version": 3
   },
   "file_extension": ".py",
   "mimetype": "text/x-python",
   "name": "python",
   "nbconvert_exporter": "python",
   "pygments_lexer": "ipython3",
   "version": "3.10.6"
  }
 },
 "nbformat": 4,
 "nbformat_minor": 2
}
